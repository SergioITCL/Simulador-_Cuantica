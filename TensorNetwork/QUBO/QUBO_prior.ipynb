{
 "cells": [
  {
   "cell_type": "code",
   "execution_count": 1,
   "metadata": {},
   "outputs": [],
   "source": [
    "import numpy as np"
   ]
  },
  {
   "cell_type": "code",
   "execution_count": 4,
   "metadata": {},
   "outputs": [],
   "source": [
    "d = 10\n",
    "tau = 1e3\n",
    "W = np.random.rand(10,10)\n",
    "n = 5\n",
    "N = 10"
   ]
  },
  {
   "cell_type": "markdown",
   "metadata": {},
   "source": [
    "QUDO 1 vecino"
   ]
  },
  {
   "cell_type": "code",
   "execution_count": 5,
   "metadata": {},
   "outputs": [],
   "source": [
    "A = np.zeros((d,d), dtype=float)\n",
    "\n",
    "for i in range(d):\n",
    "    A[i,i] = np.exp(-tau*W[0,0]*i**2)\n",
    "\n",
    "\n",
    "B = np.zeros((d,d), dtype=float)\n",
    "\n",
    "for i in range(d):\n",
    "    for j in range(d):\n",
    "        B[i,j] = np.exp(-tau*(W[n-1,n]*i*j+W[n,n]*j**2))\n",
    "\n",
    "Z = np.zeros(d, dtype=float)\n",
    "\n",
    "for i in range(d):\n",
    "    for j in range(d):\n",
    "        Z[i] += np.exp(-tau*(W[N-2,N-1]*i*j+W[N-1,N-1]*j**2))"
   ]
  },
  {
   "cell_type": "markdown",
   "metadata": {},
   "source": [
    "QUDO 2 vecinos"
   ]
  },
  {
   "cell_type": "code",
   "execution_count": null,
   "metadata": {},
   "outputs": [],
   "source": [
    "A = np.zeros((d,d), dtype=float)\n",
    "\n",
    "for i in range(d):\n",
    "    A[i,i] = np.exp(-tau*W[0,0]*i**2)\n",
    "\n",
    "B = np.zeros((d,d**2), dtype=float)\n",
    "\n",
    "for i in range(d):# A\n",
    "    for k in range(d): # B\n",
    "        j = i\n",
    "        down = j + d*k\n",
    "        B[i,down] = np.exp(-tau*(W[n-1,n]*i*k+W[n,n]*k**2))\n",
    "\n",
    "C = np.zeros((d**2,d**2), dtype=float)\n",
    "\n",
    "for i in range(d):# A\n",
    "    for j in range(d): # B\n",
    "        for k in range(d): # C\n",
    "            l = i\n",
    "            m = j\n",
    "            up = l + d*m\n",
    "            down = m + d*k\n",
    "            C[up,down] = np.exp(-tau*(W[n-2,n]*i*k+W[n-1,n]*j*k+W[n,n]*k**2))\n",
    "\n",
    "Z = np.zeros((d**2), dtype=float)\n",
    "\n",
    "for i in range(d):# A\n",
    "    for j in range(d): # B\n",
    "        for k in range(d): # C\n",
    "            l = i\n",
    "            m = j\n",
    "            up = l + d*m\n",
    "            down = m + d*k\n",
    "            Z[up] += np.exp(-tau*(W[n-2,n]*i*k+W[n-1,n]*j*k+W[n,n]*k**2))\n"
   ]
  },
  {
   "cell_type": "markdown",
   "metadata": {},
   "source": [
    "QUDO 3 vecinos"
   ]
  },
  {
   "cell_type": "code",
   "execution_count": null,
   "metadata": {},
   "outputs": [],
   "source": [
    "A = np.zeros((d,d), dtype=float)\n",
    "\n",
    "for i in range(d):\n",
    "    A[i,i] = np.exp(-tau*W[0,0]*i**2)\n",
    "\n",
    "B = np.zeros((d,d**2), dtype=float)\n",
    "\n",
    "for i in range(d):# A\n",
    "    for k in range(d): # B\n",
    "        j = i\n",
    "        down = j + d*k\n",
    "        B[i,down] = np.exp(-tau*(W[n-1,n]*i*k+W[n,n]*k**2))\n",
    "\n",
    "C = np.zeros((d**2,d**3), dtype=float)\n",
    "\n",
    "for i in range(d):# A\n",
    "    for j in range(d): # B\n",
    "        for k in range(d): # C\n",
    "            l = i\n",
    "            m = j\n",
    "            up = l + d*m\n",
    "            down = l + d*m + d**2 * k\n",
    "            C[up,down] = np.exp(-tau*(W[n-2,n]*i*k+W[n-1,n]*j*k+W[n,n]*k**2))\n",
    "\n",
    "\n",
    "D = np.zeros((d**3,d**3), dtype=float)\n",
    "\n",
    "for i in range(d):# A\n",
    "    for j in range(d): # B\n",
    "        for k in range(d): # C\n",
    "            for y in range(d): # D\n",
    "                l = i\n",
    "                m = j\n",
    "                up = l + d*m + d**2 * k\n",
    "                down = m + d*k + d**2 * y\n",
    "                D[up,down] = np.exp(-tau*(W[n-3,n]*i*y+W[n-2,n]*j*y+W[n-1,n]*k*y+W[n,n]*k**2))\n",
    "\n",
    "Z = np.zeros((d**2), dtype=float)\n",
    "\n",
    "for i in range(d):# A\n",
    "    for j in range(d): # B\n",
    "        for k in range(d): # C\n",
    "            l = i\n",
    "            m = j\n",
    "            up = l + d*m\n",
    "            down = m + d*k\n",
    "            Z[up] += np.exp(-tau*(W[n-2,n]*i*k+W[n-1,n]*j*k+W[n,n]*k**2))"
   ]
  },
  {
   "cell_type": "code",
   "execution_count": 157,
   "metadata": {},
   "outputs": [
    {
     "name": "stdout",
     "output_type": "stream",
     "text": [
      "(0, 0, 0)\n",
      "(0, 0, 1)\n",
      "(0, 0, 2)\n",
      "(0, 1, 0)\n",
      "(0, 1, 1)\n",
      "(0, 1, 2)\n",
      "(0, 2, 0)\n",
      "(0, 2, 1)\n",
      "(0, 2, 2)\n",
      "(1, 0, 0)\n",
      "(1, 0, 1)\n",
      "(1, 0, 2)\n",
      "(1, 1, 0)\n",
      "(1, 1, 1)\n",
      "(1, 1, 2)\n",
      "(1, 2, 0)\n",
      "(1, 2, 1)\n",
      "(1, 2, 2)\n",
      "(2, 0, 0)\n",
      "(2, 0, 1)\n",
      "(2, 0, 2)\n",
      "(2, 1, 0)\n",
      "(2, 1, 1)\n",
      "(2, 1, 2)\n",
      "(2, 2, 0)\n",
      "(2, 2, 1)\n",
      "(2, 2, 2)\n"
     ]
    }
   ],
   "source": [
    "from itertools import product\n",
    "\n",
    "# Un iterable\n",
    "numeros = [0, 1, 2]\n",
    "\n",
    "# Producto cartesiano del iterable consigo mismo, 3 veces\n",
    "resultado = product(numeros, repeat=3)\n",
    "for elemento in resultado:\n",
    "    print(elemento)\n",
    "\n"
   ]
  }
 ],
 "metadata": {
  "kernelspec": {
   "display_name": ".venv",
   "language": "python",
   "name": "python3"
  },
  "language_info": {
   "codemirror_mode": {
    "name": "ipython",
    "version": 3
   },
   "file_extension": ".py",
   "mimetype": "text/x-python",
   "name": "python",
   "nbconvert_exporter": "python",
   "pygments_lexer": "ipython3",
   "version": "3.10.12"
  }
 },
 "nbformat": 4,
 "nbformat_minor": 2
}
