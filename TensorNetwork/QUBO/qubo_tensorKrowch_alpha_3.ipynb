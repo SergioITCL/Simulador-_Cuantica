{
 "cells": [
  {
   "cell_type": "markdown",
   "metadata": {},
   "source": [
    "# Algoritmo que permite resolver problemas QUBO densos empleando Tensor Network"
   ]
  },
  {
   "cell_type": "markdown",
   "metadata": {},
   "source": [
    "En este notebook vamos a crear e implementar un algoritmo en tensor networks basado en el método de las señales y evolución en tiempo imaginario para resolver problemas QUBO. Utiliza un método de eliminación de capas de evolución para reducir la complejidad computacional.\n",
    "\n",
    "Versiones:\n",
    "\n",
    "- alpha 0: Implementación básica.\n",
    "- alpha 1: Añade el método de eliminación de capas.\n",
    "- alpha 2: Versión que va comprimiendo el MPS de derecha a izquierda\n",
    "- alpha 3: version que aplica el problema QUBO a los vecinos cercanos, la idea de esta versión es aplicar matrices recursivamente, además de intentar aprovechar los cálculos intermedios"
   ]
  },
  {
   "cell_type": "code",
   "execution_count": 3,
   "metadata": {},
   "outputs": [],
   "source": [
    "# Librerias\n",
    "import numpy as np\n",
    "import torch\n",
    "from quantum_sim.main.general_functions import dinariy_list\n",
    "from quantum_sim.TensorNetwork.QUBO.qubo_core.qubo_solvers import qubo_dimod_solver, recocido_simulado, qubo_solver_rs, random_qubo_solver\n",
    "from quantum_sim.TensorNetwork.QUBO.qubo_core.qubo_auxiliar_functions import matrix_QUBO_to_dict, evaluar_qubo, generar_matriz_qubo\n",
    "from quantum_sim.main.guardar_experimentos import plot_function\n",
    "\n",
    "\n",
    "\n",
    "%load_ext autoreload\n",
    "%autoreload 2"
   ]
  },
  {
   "cell_type": "markdown",
   "metadata": {},
   "source": [
    "---\n",
    "# Funciones de la tensor network"
   ]
  },
  {
   "cell_type": "markdown",
   "metadata": {},
   "source": [
    "## Definimos los nodos de la Tensor Network"
   ]
  },
  {
   "cell_type": "code",
   "execution_count": 4,
   "metadata": {},
   "outputs": [],
   "source": [
    "def node_0(Q_matrix_0: float, dits: int, n_neighbors:int):\n",
    "    tensor = np.zeros((dits, dits**(n_neighbors -1) ))\n",
    "    din_list = dinariy_list(dits**(n_neighbors -1), dits)\n",
    "    for dit in range(dits): \n",
    "        for index, element in enumerate(din_list):\n",
    "            if str(dit) == element[-1]:\n",
    "                    tensor[dit][index] = 1\n",
    "        if dit > 0:\n",
    "            tensor[dit] = tensor[dit] * dit * Q_matrix_0\n",
    "    return tensor\n",
    "\n",
    "def node_intermediate(Q_matrix_column_input: np.array, dits: int):\n",
    "    n_neighbors = (len(Q_matrix_column_input)-1)\n",
    "    tensor_size = int(dits**(n_neighbors))\n",
    "    tensor = np.zeros((tensor_size, tensor_size))\n",
    "    din_list = dinariy_list(tensor_size, dits)\n",
    "    for row, element in enumerate(din_list):\n",
    "        for column, element_2 in enumerate(din_list):\n",
    "            if element[1:] == element_2[:-1]:\n",
    "                if element_2[-1] != '0':\n",
    "                    tensor[row, column] = Q_matrix_column_input[-1] * int(element_2[-1])\n",
    "                    for index, digit in enumerate(element):\n",
    "                        if digit != '0':\n",
    "                            tensor[row, column] *= Q_matrix_column_input[index]* int(digit)\n",
    "                else:\n",
    "                    tensor[row, column] = 1   \n",
    "           \n",
    "    return tensor\n",
    "                    \n",
    "\n",
    "def last_tensor(Q_matrix_column_input: np.array, dits: int):\n",
    "    n_neighbors = (len(Q_matrix_column_input)-1)\n",
    "    tensor_size = int(dits**(n_neighbors))\n",
    "    tensor = np.ones((tensor_size))\n",
    "    din_list = dinariy_list(tensor_size, dits)\n",
    "    for index, element in enumerate(din_list):\n",
    "        if element[-1] != \"0\":\n",
    "            tensor[index] = Q_matrix_column_input[-1] * int(element[-1])\n",
    "            for digit in element:\n",
    "                if digit != '0':\n",
    "                    tensor[index] *= Q_matrix_column_input[int(digit)] * int(digit)\n",
    "\n",
    "    return tensor\n",
    "\n",
    "\n",
    "\n"
   ]
  },
  {
   "cell_type": "markdown",
   "metadata": {},
   "source": [
    "## Generación de la Tensor Network"
   ]
  },
  {
   "cell_type": "code",
   "execution_count": 5,
   "metadata": {},
   "outputs": [],
   "source": [
    "def tensor_network_generator(Q_matrix:np.array, dits:float, n_neighbors:int):\n",
    "    \"\"\"   \n",
    "    Args:\n",
    "\n",
    "    Return:\n",
    "\n",
    "    \"\"\"\n",
    "    \n",
    "    n_variables  = len(Q_matrix[0])\n",
    "    intermediate_tensors = []\n",
    "    # generation of the first node\n",
    "    tensor = node_0(Q_matrix[0][0], dits , n_neighbors)\n",
    "    intermediate_tensors.append(tensor)\n",
    "    \n",
    "    # Generation of the intermediate nodes\n",
    "    for variable in range(1, n_variables-1):\n",
    "\n",
    "        \n",
    "        Q_matrix_row_input = Q_matrix[variable][max(0, variable-2):variable+1]\n",
    "        while len(Q_matrix_row_input) < n_neighbors:\n",
    "            Q_matrix_row_input = np.insert(Q_matrix_row_input, 0, 0)\n",
    "\n",
    "        tensor = node_intermediate(Q_matrix_row_input, dits)\n",
    "        intermediate_tensors.append(tensor)\n",
    "    Q_matrix_row_input = Q_matrix[-1][-n_neighbors:]\n",
    "\n",
    "    tensor = last_tensor(Q_matrix_row_input, dits)\n",
    "    intermediate_tensors.append(tensor)\n",
    "\n",
    "    return  intermediate_tensors"
   ]
  },
  {
   "cell_type": "markdown",
   "metadata": {},
   "source": [
    "## Conexión y contracción de toda la Tensor Network"
   ]
  },
  {
   "cell_type": "code",
   "execution_count": 6,
   "metadata": {},
   "outputs": [],
   "source": [
    "def tensor_network_contraction(tensor_list: list):\n",
    "    n_tensores = len(tensor_list)\n",
    "    intermediate_tensors = []\n",
    "    tensor = tensor_list[-1]\n",
    "    intermediate_tensors.append(tensor)\n",
    "    for index in range(n_tensores -1, 0, -1):\n",
    "        current_tensor = tensor_list[index -1]\n",
    "        tensor = current_tensor @ tensor\n",
    "        intermediate_tensors.append(tensor)\n",
    "    intermediate_tensors.reverse()\n",
    "    return tensor, intermediate_tensors\n",
    "    "
   ]
  },
  {
   "cell_type": "markdown",
   "metadata": {},
   "source": [
    "---\n",
    "# Función general"
   ]
  },
  {
   "cell_type": "markdown",
   "metadata": {},
   "source": [
    "Esta es la función que se encarga del proceso general. Se encarga del proceso de minimización resolviendo iterativamente cada una de las variables. Su proceso consiste en la creación de la tensor network, su contracción y la determinación de la variable a partir del vector resultante."
   ]
  },
  {
   "cell_type": "code",
   "execution_count": 7,
   "metadata": {},
   "outputs": [],
   "source": [
    "from unittest import result\n",
    "\n",
    "from quantum_sim.main.general_functions import base_a_decimal\n",
    "\n",
    "\n",
    "def qubo_solver(Q_matrix:np.array, tau:float, dits: int, n_neighbors: int)->np.array:\n",
    "    n_variables = Q_matrix.shape[0]\n",
    "    Q_matrix = np.exp(-tau*Q_matrix)\n",
    "    print(Q_matrix)\n",
    "    solution = np.zeros(n_variables, dtype = int)\n",
    "    tensor_network = tensor_network_generator(Q_matrix, dits, n_neighbors)\n",
    "    for t in tensor_network:\n",
    "        print(\"tensor\",t.shape)\n",
    "        print(t)\n",
    "    result_contraction, intermediate_tensors = tensor_network_contraction(tensor_network)\n",
    "    aux_solution = '0'*(n_neighbors-1)\n",
    "    solution[0] = np.argmax(abs(result_contraction))\n",
    "    aux_solution = aux_solution[1:] + str(solution[0])\n",
    "    for node in range(1, n_variables-1):\n",
    "        index_result = base_a_decimal(aux_solution, dits)\n",
    "        new_tensor = tensor_network[node][index_result]\n",
    "        print(\"newt\")\n",
    "        print(new_tensor)\n",
    "\n",
    "\n",
    "        \n",
    "\n",
    "    \n",
    "\n",
    "\n",
    "    return solution\n"
   ]
  },
  {
   "cell_type": "markdown",
   "metadata": {},
   "source": [
    "---\n",
    "# Pruebas"
   ]
  },
  {
   "cell_type": "code",
   "execution_count": 8,
   "metadata": {},
   "outputs": [
    {
     "name": "stdout",
     "output_type": "stream",
     "text": [
      "[[0.64595725 1.         1.         1.         1.        ]\n",
      " [1.05563962 0.72586799 1.         1.         1.        ]\n",
      " [0.86474765 0.66551642 0.79380644 1.         1.        ]\n",
      " [1.         1.2219109  0.69679031 0.69037298 1.        ]\n",
      " [1.         1.         1.11243437 1.40197339 0.8416946 ]]\n",
      "tensor (2, 4)\n",
      "[[1.         0.         1.         0.        ]\n",
      " [0.         0.64595725 0.         0.64595725]]\n",
      "tensor (4, 4)\n",
      "[[1.         0.72586799 0.         0.        ]\n",
      " [0.         0.         1.         0.766255  ]\n",
      " [1.         0.         0.         0.        ]\n",
      " [0.         0.         1.         0.        ]]\n",
      "tensor (4, 4)\n",
      "[[1.         0.79380644 0.         0.        ]\n",
      " [0.         0.         1.         0.52829122]\n",
      " [1.         0.68644226 0.         0.        ]\n",
      " [0.         0.         1.         0.45683859]]\n",
      "tensor (4, 4)\n",
      "[[1.         0.69037298 0.         0.        ]\n",
      " [0.         0.         1.         0.48104521]\n",
      " [1.         0.84357428 0.         0.        ]\n",
      " [0.         0.         1.         0.58779439]]\n",
      "tensor (4,)\n",
      "[1.         1.18003344 1.         1.65437548]\n",
      "newt\n",
      "[1.         0.72586799 0.         0.        ]\n",
      "newt\n",
      "[1.         0.79380644 0.         0.        ]\n",
      "newt\n",
      "[1.         0.69037298 0.         0.        ]\n",
      "Solution TN:      [0 0 0 0 0]\n",
      "Coste de TN:      0.0\n",
      "Coste de RS:      0.0\n"
     ]
    },
    {
     "ename": "NameError",
     "evalue": "name 'number_layers' is not defined",
     "output_type": "error",
     "traceback": [
      "\u001b[0;31m---------------------------------------------------------------------------\u001b[0m",
      "\u001b[0;31mNameError\u001b[0m                                 Traceback (most recent call last)",
      "Cell \u001b[0;32mIn[8], line 27\u001b[0m\n\u001b[1;32m     24\u001b[0m \u001b[38;5;28mprint\u001b[39m(\u001b[38;5;124m'\u001b[39m\u001b[38;5;124mCoste de RS:     \u001b[39m\u001b[38;5;124m'\u001b[39m, evaluar_qubo(Q_matrix, solution))\n\u001b[1;32m     26\u001b[0m \u001b[38;5;66;03m# RS iterativo\u001b[39;00m\n\u001b[0;32m---> 27\u001b[0m solution \u001b[38;5;241m=\u001b[39m qubo_solver_rs(Q_matrix, \u001b[43mnumber_layers\u001b[49m)\n\u001b[1;32m     28\u001b[0m \u001b[38;5;66;03m#print('Solution RS iter: ', str(solution))\u001b[39;00m\n\u001b[1;32m     29\u001b[0m \u001b[38;5;28mprint\u001b[39m(\u001b[38;5;124m'\u001b[39m\u001b[38;5;124mCoste de RS iter: \u001b[39m\u001b[38;5;124m'\u001b[39m, evaluar_qubo(Q_matrix, solution))\n",
      "\u001b[0;31mNameError\u001b[0m: name 'number_layers' is not defined"
     ]
    }
   ],
   "source": [
    "n_variables = 5\n",
    "n_vecinos = 3\n",
    "dits = 2\n",
    "tau = 1\n",
    "5\n",
    "np.random.seed(78)\n",
    "# Generamos el caso\n",
    "Q_matrix = generar_matriz_qubo(n_variables, n_vecinos)\n",
    "Q_matrix/= np.linalg.norm(Q_matrix)\n",
    "Q_matrix_dict = matrix_QUBO_to_dict(Q_matrix)\n",
    "\n",
    "\n",
    "# Inicial RS\n",
    "x_inicial = np.random.randint(2, size=n_variables)\n",
    "\n",
    "# TN\n",
    "solution = qubo_solver(Q_matrix, tau, dits, n_vecinos)\n",
    "print('Solution TN:     ', str(solution))\n",
    "print('Coste de TN:     ', evaluar_qubo(Q_matrix, solution))\n",
    "\n",
    "# RS\n",
    "solution = recocido_simulado(Q_matrix, x_inicial, 10.0, 0.99, int(1e4))\n",
    "#print('Solution RS:     ', str(solution))\n",
    "print('Coste de RS:     ', evaluar_qubo(Q_matrix, solution))\n",
    "\n",
    "# RS iterativo\n",
    "solution = qubo_solver_rs(Q_matrix, number_layers)\n",
    "#print('Solution RS iter: ', str(solution))\n",
    "print('Coste de RS iter: ', evaluar_qubo(Q_matrix, solution))\n",
    "\n",
    "# Dimod\n",
    "\n",
    "solution_dimod = qubo_dimod_solver(Q_matrix_dict, \"neal\")\n",
    "print('Coste de dimod iter: ', evaluar_qubo(Q_matrix, solution_dimod))\n",
    "\n",
    "best_c = random_qubo_solver(Q_matrix)\n",
    "print('Coste de Random: ', evaluar_qubo(Q_matrix, best_c))\n"
   ]
  }
 ],
 "metadata": {
  "kernelspec": {
   "display_name": ".venv",
   "language": "python",
   "name": "python3"
  },
  "language_info": {
   "codemirror_mode": {
    "name": "ipython",
    "version": 3
   },
   "file_extension": ".py",
   "mimetype": "text/x-python",
   "name": "python",
   "nbconvert_exporter": "python",
   "pygments_lexer": "ipython3",
   "version": "3.10.12"
  }
 },
 "nbformat": 4,
 "nbformat_minor": 2
}
