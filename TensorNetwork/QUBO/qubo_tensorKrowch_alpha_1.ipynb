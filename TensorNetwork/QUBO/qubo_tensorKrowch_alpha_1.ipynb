{
 "cells": [
  {
   "cell_type": "markdown",
   "metadata": {},
   "source": [
    "# Algoritmo que permite resolver problemas QUBO densos empleando Tensor Network"
   ]
  },
  {
   "cell_type": "markdown",
   "metadata": {},
   "source": [
    "En este notebook vamos a crear e implementar un algoritmo en tensor networks basado en el método de las señales y evolución en tiempo imaginario para resolver problemas QUBO. Utiliza un método de eliminación de capas de evolución para reducir la complejidad computacional.\n",
    "\n",
    "Versiones:\n",
    "\n",
    "- alpha 0: Implementación básica.\n",
    "- alpha 1: Añade el método de eliminación de capas."
   ]
  },
  {
   "cell_type": "code",
   "execution_count": 1,
   "metadata": {},
   "outputs": [],
   "source": [
    "# Librerias\n",
    "import numpy as np\n",
    "import tensorkrowch as tk\n",
    "import torch\n",
    "from quantum_sim.TensorNetwork.QUBO.qubo_core.qubo_solvers import qubo_dimod_solver, recocido_simulado, qubo_solver_rs, random_qubo_solver\n",
    "from quantum_sim.TensorNetwork.QUBO.qubo_core.qubo_auxiliar_functions import matrix_QUBO_to_dict, evaluar_qubo, generar_matriz_qubo\n",
    "from quantum_sim.main.guardar_experimentos import plot_function\n",
    "%load_ext autoreload\n",
    "%autoreload 2"
   ]
  },
  {
   "cell_type": "markdown",
   "metadata": {},
   "source": [
    "---\n",
    "# Funciones de la tensor network"
   ]
  },
  {
   "cell_type": "markdown",
   "metadata": {},
   "source": [
    "## Definimos los nodos de la Tensor Network"
   ]
  },
  {
   "cell_type": "code",
   "execution_count": 2,
   "metadata": {},
   "outputs": [],
   "source": [
    "def node_qubit(tn:tk.TensorNetwork, value,row):\n",
    "    if value == 0:\n",
    "        node = tk.Node(tensor = torch.tensor([1,0], dtype=torch.float64), network=tn, name = 'qudit_0', axes_names = ['right'])\n",
    "    elif value ==1:\n",
    "        node = tk.Node(tensor = torch.tensor([0,1], dtype=torch.float64), network=tn, name = 'qudit_1', axes_names = ['right'])\n",
    "    elif value ==2:\n",
    "        node = tk.Node(tensor = torch.tensor([1,1], dtype=torch.float64), network=tn, name = f'qudit_+{row}', axes_names = ['left'])\n",
    "    elif value ==3:\n",
    "        node = tk.Node(tensor = torch.tensor([1,-1], dtype=torch.float64), network=tn, name = 'qudit_-', axes_names = ['right'])\n",
    "    return node\n",
    "\n",
    "def node_Ai0(tn:tk.TensorNetwork, Q_element:float, qudit:int):\n",
    "    \"\"\"  \n",
    "    Nodos de superposicion con el termino diagonal.\n",
    "    \"\"\"\n",
    "    node = tk.Node(tensor = torch.tensor([1,Q_element], dtype=torch.float64), network=tn, name = f'qubit_({qudit})', axes_names = ['right'])\n",
    "    return node\n",
    "\n",
    "def node_A0i(tn:tk.TensorNetwork, qudit:int):\n",
    "    \"\"\"\n",
    "    Nodos de control.\n",
    "    \"\"\"\n",
    "    tensor = torch.zeros((2,2,2), dtype = torch.float64)\n",
    "    for i in range(0,2):\n",
    "        j=i; k=i\n",
    "        tensor[i,j,k]= 1\n",
    "    node = tk.Node(tensor = tensor, network=tn, name = f'A_({qudit},{qudit+1})', axes_names = ['left','right','down'])\n",
    "    return node\n",
    "\n",
    "def node_Aii(tn:tk.TensorNetwork, Q_element:float, row:int, column:int):\n",
    "    \"\"\"\n",
    "    Nodos de evolucion.\n",
    "    \"\"\"\n",
    "    tensor = torch.zeros((2,2,2,2), dtype = torch.float64)\n",
    "    for k in range(0,2):\n",
    "        for i in range(0,2):\n",
    "            l=k; j=i\n",
    "            if k*i == 1:\n",
    "                tensor[i,j,k,l] = Q_element\n",
    "            else:\n",
    "                tensor[i,j,k,l] = 1\n",
    "    node = tk.Node(tensor = tensor, network = tn, name = f'A_({row},{column})', axes_names=['left','right','up','down'])\n",
    "    return node\n",
    "\n",
    "def node_Afi(tn:tk.TensorNetwork, Q_element:float, column,max_element):\n",
    "    \"\"\"\n",
    "    Nodo final de evolucion.\n",
    "    \"\"\"\n",
    "    tensor = torch.zeros((2,2,2), dtype = torch.float64)\n",
    "    for k in range(2):\n",
    "        for i in range(2):\n",
    "            j=i\n",
    "            if k*i == 1:\n",
    "                tensor[i,j,k] = Q_element\n",
    "            else:\n",
    "                tensor[i,j,k] = 1\n",
    "\n",
    "    node = tk.Node(tensor=tensor, network=tn, name = f'A_({max_element-1},{column})',axes_names=['left','right','up'])\n",
    "    return node\n",
    "\n"
   ]
  },
  {
   "cell_type": "markdown",
   "metadata": {},
   "source": [
    "## Generación de la Tensor Network"
   ]
  },
  {
   "cell_type": "code",
   "execution_count": 3,
   "metadata": {},
   "outputs": [],
   "source": [
    "def tensor_network_generator(Q_matrix:np.array, tau:float, number_layers:int)->list[list[tk.Node]]:\n",
    "    \"\"\"   \n",
    "    Args:\n",
    "\n",
    "    Return:\n",
    "\n",
    "    \"\"\"\n",
    "    # Inicializamos la tensor network\n",
    "    n_variables  = len(Q_matrix[0])\n",
    "    network      = tk.TensorNetwork('QUBO_TN')\n",
    "    tensor_network_matrix = [[None] * min(number_layers+2, row+1+2, n_variables+2-1) for row in range(n_variables)]\n",
    "\n",
    "    # Exponencial de Q elementwise\n",
    "    Q_exponential = np.exp(-tau*Q_matrix)\n",
    "\n",
    "    # Capa de superposicion inicial\n",
    "    for row in range(n_variables):\n",
    "        tensor_network_matrix[row][0] = node_Ai0(network, Q_exponential[row][row], row)\n",
    "\n",
    "    # Capas de evolucion\n",
    "    for column in range(1, min(number_layers+1, n_variables)):\n",
    "        # Primer nodo\n",
    "        tensor_network_matrix[column-1][column] = node_A0i(network, column-1)\n",
    "\n",
    "        # Nodos intermedios\n",
    "        for row in range(column,n_variables-1):\n",
    "            tensor_network_matrix[row][column] = node_Aii(network, Q_exponential[row][column-1], row, column)\n",
    "        \n",
    "        # Ultimo nodo\n",
    "        tensor_network_matrix[n_variables-1][column] = node_Afi(network, Q_exponential[n_variables-1][column-1], column, n_variables)\n",
    "\n",
    "    # Capa de traceado\n",
    "    for row in range(1, n_variables):\n",
    "        tensor_network_matrix[row][min(number_layers+2-1, row+2, n_variables+2-2)] = node_qubit(network, 2, n_variables-1)\n",
    "\n",
    "    return  tensor_network_matrix"
   ]
  },
  {
   "cell_type": "markdown",
   "metadata": {},
   "source": [
    "## Conexión y contracción de toda la Tensor Network"
   ]
  },
  {
   "cell_type": "code",
   "execution_count": 4,
   "metadata": {},
   "outputs": [],
   "source": [
    "def conexion_contraction(matrix_nodes:list[list[tk.Node]])->np.array:\n",
    "    # Creamos el resultado inicial\n",
    "    result = matrix_nodes[-1][0]\n",
    "   \n",
    "    # Conectamos la tensor network\n",
    "    # Conexion horizontal\n",
    "    for row in range(len(matrix_nodes)):\n",
    "        for column in range(len(matrix_nodes[row])-1):\n",
    "            if matrix_nodes[row][column+1] is not None:\n",
    "                matrix_nodes[row][column]['right'] ^ matrix_nodes[row][column+1]['left']\n",
    "    \n",
    "    # Conexion vertical\n",
    "    for row in range(len(matrix_nodes)-1):\n",
    "        for column in range(1,len(matrix_nodes[row])-1):\n",
    "            if matrix_nodes[row][column] is not None:\n",
    "                matrix_nodes[row][column]['down'] ^ matrix_nodes[row+1][column]['up']\n",
    "\n",
    "    # . . . . . . . . . . . . . . . . . . . . . . . . . . . . . . . . . . . . . . .\n",
    "    # Contraemos la ultima fila\n",
    "    #print(\"COOOOOOOOOOOOOOOOOOOOOOOOOO\")\n",
    "    #print(\"result0000000\",result.tensor)\n",
    "    for column in range(1, len(matrix_nodes[-1])):\n",
    "        #print(\"matrix_node\", matrix_nodes[-1][column].tensor )\n",
    "        result = tk.contract_between_(result, matrix_nodes[-1][column])\n",
    "        #print(\"result\",result.tensor.shape) \n",
    "\n",
    "        #print(result.tensor)\n",
    "    # Contraemos las intermedias\n",
    "\n",
    "    for row in range(len(matrix_nodes)-2, 0, -1):\n",
    "        #print(\"ROWWWW\")\n",
    "        result_superp = tk.contract_between_(matrix_nodes[row][0], matrix_nodes[row][1])\n",
    "        #print(\"result\", result.tensor)\n",
    "        #print(\"result_super\", result_superp.tensor)\n",
    "        \n",
    "        result = tk.contract_between_(result, result_superp)\n",
    "        \n",
    "        for column in range(2, len(matrix_nodes[row])):\n",
    "            result = tk.contract_between_(result, matrix_nodes[row][column])\n",
    "\n",
    "    # Contraemos la primera\n",
    "    result_superp = tk.contract_between_(matrix_nodes[0][0], matrix_nodes[0][1])\n",
    "    result = tk.contract_between_(result, result_superp)\n",
    "\n",
    "    return result.tensor.numpy().flatten()\n",
    "\n"
   ]
  },
  {
   "cell_type": "markdown",
   "metadata": {},
   "source": [
    "---\n",
    "# Función general"
   ]
  },
  {
   "cell_type": "markdown",
   "metadata": {},
   "source": [
    "Esta es la función que se encarga del proceso general. Se encarga del proceso de minimización resolviendo iterativamente cada una de las variables. Su proceso consiste en la creación de la tensor network, su contracción y la determinación de la variable a partir del vector resultante."
   ]
  },
  {
   "cell_type": "code",
   "execution_count": 5,
   "metadata": {},
   "outputs": [],
   "source": [
    "def qubo_solver(Q_matrix: np.array, tau: float, number_layers: int) -> np.array:\n",
    "    \"\"\"\n",
    "    Args:\n",
    "    - Q_matrix: matriz de pesos del problema QUBO.\n",
    "    - tau: factor de amortiguamiento de la evolucion en tiempo imaginario.\n",
    "    - number_layers: numero de capas disponibles para la resolucion en cada paso.\n",
    "\n",
    "    Return:\n",
    "    - solution: vector de solucion del problema.\n",
    "    \"\"\"\n",
    "    # Determinamos el tamaño del problema\n",
    "    n_variables = Q_matrix.shape[0]\n",
    "    solution = np.zeros(n_variables, dtype=int)\n",
    "\n",
    "    # Matrix QUBO auxiliar para las iteraciones\n",
    "    Q_matrix_aux = Q_matrix.copy()\n",
    "\n",
    "    # Creamos el bucle iterativo\n",
    "    for variable in range(n_variables - 1):\n",
    "        # Creamos la tensor network\n",
    "        tensor_network_matrix = tensor_network_generator(\n",
    "            Q_matrix_aux, tau, number_layers\n",
    "        )\n",
    "        # Contraemos la tensor network\n",
    "        result_vector = conexion_contraction(tensor_network_matrix)\n",
    "\n",
    "        # Obtenemos la solucion de la variable\n",
    "        solution[variable] = np.argmax(abs(result_vector))\n",
    "\n",
    "        # Cambiamos la matriz auxiliar segun el resultado obtenido\n",
    "        # Sumamos los valores de la variable en caso de haber salido 1\n",
    "        if solution[variable] == 1:\n",
    "            for column in range(Q_matrix_aux.shape[1]):\n",
    "                Q_matrix_aux[column][column] += Q_matrix_aux[column][0]\n",
    "        # Borramos la primera fila y columna\n",
    "        Q_matrix_aux = Q_matrix_aux[1:, 1:]\n",
    "\n",
    "    # Ultima variable\n",
    "    if Q_matrix_aux[0][0] < 0:\n",
    "        solution[-1] = 1\n",
    "\n",
    "    return solution"
   ]
  },
  {
   "cell_type": "markdown",
   "metadata": {},
   "source": [
    "---\n",
    "# Pruebas"
   ]
  },
  {
   "cell_type": "code",
   "execution_count": 70,
   "metadata": {},
   "outputs": [
    {
     "name": "stdout",
     "output_type": "stream",
     "text": [
      "[[ 0.26633699  0.          0.          0.          0.        ]\n",
      " [-0.24768954  0.28777619  0.          0.          0.        ]\n",
      " [ 0.50012913 -0.0316756   0.48583031  0.          0.        ]\n",
      " [ 0.         -0.43858004 -0.05664565  0.03987642  0.        ]\n",
      " [ 0.          0.         -0.18383975  0.22104201  0.13389493]]\n",
      "Solution TN:      [0 0 0 0 0]\n",
      "Coste de TN:      0.0\n",
      "Solution RS:      [0 1 0 1 0]\n",
      "Coste de RS:      -0.11092743740782246\n",
      "Coste de RS iter:  -0.11092743740782246\n",
      "Coste de dimod iter:  -0.11092743740782246\n",
      "Coste de Random:  -0.11092743740782246\n"
     ]
    }
   ],
   "source": [
    "n_variables = 5\n",
    "tau = 5\n",
    "number_layers = 15\n",
    "n_vecinos = 2\n",
    "#np.random.seed(78)\n",
    "# Generamos el caso\n",
    "Q_matrix = generar_matriz_qubo(n_variables, n_vecinos +1)\n",
    "\n",
    "Q_matrix/= np.linalg.norm(Q_matrix)\n",
    "Q_matrix_dict = matrix_QUBO_to_dict(Q_matrix)\n",
    "print(Q_matrix)\n",
    "# Inicial RS\n",
    "x_inicial = np.random.randint(2, size=n_variables)\n",
    "\n",
    "# TN\n",
    "solution = qubo_solver(Q_matrix, tau, number_layers)\n",
    "print('Solution TN:     ', str(solution))\n",
    "print('Coste de TN:     ', evaluar_qubo(Q_matrix, solution))\n",
    "\n",
    "# RS\n",
    "solution = recocido_simulado(Q_matrix, x_inicial, 10.0, 0.99, int(1e4))\n",
    "print('Solution RS:     ', str(solution))\n",
    "print('Coste de RS:     ', evaluar_qubo(Q_matrix, solution))\n",
    "\n",
    "# RS iterativo\n",
    "solution = qubo_solver_rs(Q_matrix, number_layers)\n",
    "#print('Solution RS iter: ', str(solution))\n",
    "print('Coste de RS iter: ', evaluar_qubo(Q_matrix, solution))\n",
    "\n",
    "# Dimod\n",
    "\n",
    "solution_dimod = qubo_dimod_solver(Q_matrix_dict, \"neal\")\n",
    "print('Coste de dimod iter: ', evaluar_qubo(Q_matrix, solution_dimod))\n",
    "\n",
    "best_c = random_qubo_solver(Q_matrix)\n",
    "print('Coste de Random: ', evaluar_qubo(Q_matrix, best_c))\n",
    "\n"
   ]
  },
  {
   "cell_type": "markdown",
   "metadata": {},
   "source": [
    "---\n",
    "\n",
    "# Experimentación"
   ]
  },
  {
   "cell_type": "markdown",
   "metadata": {},
   "source": [
    "Veamos que información se puede extraer de graficar el error en función del $\\tau$."
   ]
  },
  {
   "cell_type": "code",
   "execution_count": 7,
   "metadata": {},
   "outputs": [],
   "source": [
    "def exp_error_tau(num_variables: int, num_diagonales, number_layers: int, n_iter: int, max_tau: float):\n",
    "    Q_matrix = generar_matriz_qubo(num_variables, num_diagonales)\n",
    "    Q_matrix/= np.linalg.norm(Q_matrix)\n",
    "    Q_matrix_dict = matrix_QUBO_to_dict(Q_matrix)\n",
    "    TAU_ZERO = 10\n",
    "    tau_range = np.linspace(TAU_ZERO, max_tau, n_iter)\n",
    "    tau_results = []\n",
    "    error_results = []\n",
    "    for tau in tau_range:\n",
    "        tau_results.append(tau)\n",
    "        solution_tn = qubo_solver(Q_matrix, tau, number_layers)\n",
    "        valor_tn = evaluar_qubo(Q_matrix, solution_tn)\n",
    "        print(\"valor_tn\", valor_tn)\n",
    "        solution_neal = qubo_dimod_solver(Q_matrix_dict, \"neal\")\n",
    "        valor_neal = evaluar_qubo(Q_matrix, solution_neal)\n",
    "        print(\"valor_neal\", valor_neal)\n",
    "        error_results.append(1-valor_tn/valor_neal)\n",
    "    return tau_results, error_results\n"
   ]
  },
  {
   "cell_type": "code",
   "execution_count": 9,
   "metadata": {},
   "outputs": [],
   "source": [
    "np.random.seed(5)\n",
    "#tau_results, error_results = exp_error_tau(100, 3, 10, n_iter=10, max_tau=1000)\n"
   ]
  },
  {
   "cell_type": "code",
   "execution_count": 60,
   "metadata": {},
   "outputs": [
    {
     "name": "stderr",
     "output_type": "stream",
     "text": [
      "/home/sergio/simulador/Simulador_Cuantica/quantum_sim/main/guardar_experimentos.py:48: UserWarning: No artists with labels found to put in legend.  Note that artists whose label start with an underscore are ignored when legend() is called with no argument.\n",
      "  plt.legend()\n"
     ]
    },
    {
     "data": {
      "image/png": "[encoded data removed]",
      "text/plain": [
       "<Figure size 1200x800 with 1 Axes>"
      ]
     },
     "metadata": {},
     "output_type": "display_data"
    }
   ],
   "source": [
    "plot_function(tau_results, error_results, r\"$\\tau$\", r\"$\\epsilon_{relative}$\", titulo=\"tau-error.pdf\")"
   ]
  }
 ],
 "metadata": {
  "kernelspec": {
   "display_name": ".venv",
   "language": "python",
   "name": "python3"
  },
  "language_info": {
   "codemirror_mode": {
    "name": "ipython",
    "version": 3
   },
   "file_extension": ".py",
   "mimetype": "text/x-python",
   "name": "python",
   "nbconvert_exporter": "python",
   "pygments_lexer": "ipython3",
   "version": "3.10.12"
  }
 },
 "nbformat": 4,
 "nbformat_minor": 2
}
