{
 "cells": [
  {
   "cell_type": "markdown",
   "metadata": {},
   "source": [
    "# Algoritmo que permite resolver problemas QUBO densos empleando Tensor Network"
   ]
  },
  {
   "cell_type": "markdown",
   "metadata": {},
   "source": [
    "En este notebook vamos a crear e implementar un algoritmo en tensor networks basado en el método de las señales y evolución en tiempo imaginario para resolver problemas QUBO. Utiliza un método de eliminación de capas de evolución para reducir la complejidad computacional.\n",
    "\n",
    "Versiones:\n",
    "\n",
    "- alpha 0: Implementación básica.\n",
    "- alpha 1: Añade el método de eliminación de capas.\n",
    "- alpha 2: Versión que va comprimiendo el MPS de derecha a izquierda\n",
    "- alpha 3: version que aplica el problema QUBO a los vecinos cercanos, la idea de esta versión es aplicar matrices recursivamente, además de intentar aprovechar los cálculos intermedios"
   ]
  },
  {
   "cell_type": "code",
   "execution_count": 2,
   "metadata": {},
   "outputs": [
    {
     "name": "stdout",
     "output_type": "stream",
     "text": [
      "0005\n",
      "0054\n"
     ]
    }
   ],
   "source": [
    "# Librerias\n",
    "import numpy as np\n",
    "import torch\n",
    "from quantum_sim.main.general_functions import dinariy_list\n",
    "from quantum_sim.TensorNetwork.QUBO.qubo_core.qubo_solvers import qubo_dimod_solver, recocido_simulado, qubo_solver_rs, random_qubo_solver\n",
    "from quantum_sim.TensorNetwork.QUBO.qubo_core.qubo_auxiliar_functions import matrix_QUBO_to_dict, evaluar_qubo, generar_matriz_qubo\n",
    "from quantum_sim.main.guardar_experimentos import plot_function\n",
    "from itertools import product\n",
    "\n",
    "\n",
    "%load_ext autoreload\n",
    "%autoreload 2"
   ]
  },
  {
   "cell_type": "markdown",
   "metadata": {},
   "source": [
    "---\n",
    "# Funciones de la tensor network"
   ]
  },
  {
   "cell_type": "markdown",
   "metadata": {},
   "source": [
    "## Definimos los nodos de la Tensor Network"
   ]
  },
  {
   "cell_type": "code",
   "execution_count": 3,
   "metadata": {},
   "outputs": [],
   "source": [
    "from itertools import combinations\n",
    "from operator import index\n",
    "\n",
    "from numpy import dtype\n",
    "from sklearn import neighbors\n",
    "\n",
    "\n",
    "def node_0(Q_matrix_0: float, dits: int, tau: float):\n",
    "    tensor = np.zeros((dits, dits))\n",
    "    for index_a in range(dits):\n",
    "        tensor[index_a, index_a] = np.exp(-tau* Q_matrix_0 * index_a)\n",
    "    return tensor\n",
    "\n",
    "def node_grow(Q_matrix_row: np.array, dits: int, num_neight_updown, tau: float):\n",
    "    size_1 = dits**num_neight_updown\n",
    "    size_2 = size_1 * dits\n",
    "    tensor = np.zeros((size_1, size_2))\n",
    "    dit_list = list(range(dits))\n",
    "    combinations_up = product(dit_list, repeat = num_neight_updown)\n",
    "    for elemento in combinations_up:\n",
    "        index_up = 0 \n",
    "        if num_neight_updown != 1:\n",
    "            for aux in range(num_neight_updown):\n",
    "                index_up += dits**aux*elemento[aux]\n",
    "            for last_index in range(dits):\n",
    "                index_down = index_up + dits**(aux+1)* last_index\n",
    "                tensor[index_up, index_down] = 1\n",
    "                for aux in range(len(elemento)):\n",
    "                    tensor[index_up, index_down] *= np.exp(-tau * Q_matrix_row[aux] * last_index * elemento[aux])\n",
    "                tensor[index_up, index_down] *= np.exp(-tau * Q_matrix_row[-1] * last_index **2)\n",
    "        else:\n",
    "            index_up = elemento\n",
    "            for last_index in range(dits):\n",
    "                index_down = int(elemento[0]) + last_index*dits\n",
    "                tensor[index_up, index_down] = 1\n",
    "                for aux in range(len(elemento)):\n",
    "                    tensor[index_up, index_down] *= np.exp(-tau * Q_matrix_row[aux] * last_index * elemento[aux])\n",
    "                tensor[index_up, index_down] *= np.exp(-tau * Q_matrix_row[-1] * last_index **2)\n",
    "\n",
    "    return tensor\n",
    "\n",
    "def node_intermediate(Q_matrix_row: np.array, dits: int, num_neight_updown, tau: float):\n",
    "    size_1 = dits**num_neight_updown\n",
    "    tensor = np.zeros((size_1, size_1))\n",
    "    dit_list = list(range(dits))\n",
    "    combinations_up = product(dit_list, repeat = num_neight_updown)\n",
    "    for elemento in combinations_up:\n",
    "        if num_neight_updown != 1:\n",
    "            index_up = 0 \n",
    "            for aux in range(num_neight_updown):\n",
    "                index_up += dits**aux*elemento[aux]\n",
    "            for last_index in range(dits):\n",
    "                index_down = 0\n",
    "                for aux in range(1,num_neight_updown):\n",
    "                    index_down += dits**(aux-1)*elemento[aux]\n",
    "                index_down += dits**(aux)*last_index\n",
    "\n",
    "                tensor[index_up, index_down] = 1\n",
    "                for aux in range(1,len(elemento)+1):\n",
    "                    tensor[index_up, index_down] *= np.exp(-tau * Q_matrix_row[aux-1]*last_index*elemento[aux-1])\n",
    "                tensor[index_up, index_down] *= np.exp(-tau * Q_matrix_row[-1]*last_index**2)\n",
    "        else:\n",
    "            for last_index in range(dits):\n",
    "                tensor[elemento, last_index] = np.exp(-tau * Q_matrix_row[-1]*last_index**2 + Q_matrix_row[-2]*last_index*elemento[0])\n",
    "\n",
    "    return tensor\n",
    "                    \n",
    "\n",
    "def last_tensor(Q_matrix_column_input: np.array, dits: int, tau:float):\n",
    "    n_neighbors = (len(Q_matrix_column_input)-1)\n",
    "    tensor_size = int(dits**(n_neighbors))\n",
    "    tensor = np.zeros((tensor_size))\n",
    "    dit_list = list(range(dits))\n",
    "    combinations_up = product(dit_list, repeat = n_neighbors)\n",
    "    for element in combinations_up:\n",
    "        index_up = 0\n",
    "        for aux in range(n_neighbors):\n",
    "            index_up += dits**aux*element[aux]\n",
    "        for last_index in range(dits):\n",
    "            tensor_aux =1\n",
    "            for el in range(len(element)):\n",
    "                tensor_aux *= np.exp(-tau*Q_matrix_column_input[el]*element[el]*last_index)\n",
    "            tensor_aux *= np.exp(-tau*Q_matrix_column_input[-1]*last_index**2)\n",
    "            tensor[index_up] += tensor_aux\n",
    "    return tensor\n",
    "\n",
    "\n",
    "\n",
    "def new_inital_tensor(Q_matrix_row, dits: int, size_2, solution, n_neigh, tau:float):\n",
    "    size_1 = dits\n",
    "    tensor = np.zeros((size_1, size_2))\n",
    "    dit_list = list(range(dits))\n",
    "    \n",
    "    combinations_up = product(dit_list, repeat = n_neigh-1)\n",
    "    index_down = 0\n",
    "\n",
    "    solution = tuple(solution[-n_neigh+2:])\n",
    "    for aux in range(len(solution)):\n",
    "        index_down += dits**aux*solution[aux]\n",
    "\n",
    "    for element in combinations_up:\n",
    "       \n",
    "        if element[:-1] == solution:\n",
    "\n",
    "            index_down_aux = index_down + dits**(n_neigh-2)*element[-1]\n",
    "            tensor[element[-1], index_down_aux] = 1\n",
    "             \n",
    "            for el in range(len(element)):          \n",
    "                tensor[element[-1], index_down_aux] *= np.exp(-tau*Q_matrix_row[el]*element[el]*element[-1])\n",
    "            #tensor[element[-1], index_down_aux] *= np.exp(tau*Q_matrix_row[-1]*element[-1]**2)\n",
    "    return tensor\n",
    "\n"
   ]
  },
  {
   "cell_type": "markdown",
   "metadata": {},
   "source": [
    "## Generación de la Tensor Network"
   ]
  },
  {
   "cell_type": "code",
   "execution_count": 4,
   "metadata": {},
   "outputs": [],
   "source": [
    "def tensor_network_generator(Q_matrix:np.array, dits:float, n_neighbors:int, tau: float):\n",
    "    \"\"\"   \n",
    "    Args:\n",
    "\n",
    "    Return:\n",
    "\n",
    "    \"\"\"\n",
    "    \n",
    "    n_variables  = len(Q_matrix[0])\n",
    "    intermediate_tensors = []\n",
    "    # generation of the first node\n",
    "    tensor = node_0(Q_matrix[0][0], dits, tau)\n",
    "    intermediate_tensors.append(tensor)\n",
    "    \n",
    "    # Generation of the intermediate nodes\n",
    "    for variable in range(1, n_variables-1):\n",
    "\n",
    "        Q_matrix_row_input = Q_matrix[variable][max(0, variable-2):variable+1]\n",
    "        if variable < n_neighbors - 1:\n",
    "            tensor = node_grow(Q_matrix_row_input, dits, variable, tau)\n",
    "            intermediate_tensors.append(tensor)\n",
    "        else:\n",
    "            tensor = node_intermediate(Q_matrix_row_input, dits, n_neighbors - 1, tau)\n",
    "            intermediate_tensors.append(tensor)\n",
    "    Q_matrix_row_input = Q_matrix[-1][-n_neighbors:]\n",
    "    tensor = last_tensor(Q_matrix_row_input, dits, tau)\n",
    "    intermediate_tensors.append(tensor)\n",
    "\n",
    "    return  intermediate_tensors"
   ]
  },
  {
   "cell_type": "markdown",
   "metadata": {},
   "source": [
    "## Conexión y contracción de toda la Tensor Network"
   ]
  },
  {
   "cell_type": "code",
   "execution_count": 5,
   "metadata": {},
   "outputs": [],
   "source": [
    "def tensor_network_contraction(tensor_list: list):\n",
    "    n_tensores = len(tensor_list)\n",
    "    intermediate_tensors = []\n",
    "    tensor = tensor_list[-1]\n",
    "    intermediate_tensors.append(tensor)\n",
    "    for index_ in range(n_tensores -1, 0, -1):\n",
    "        current_tensor = tensor_list[index_ -1]\n",
    "        tensor = current_tensor @ tensor\n",
    "        intermediate_tensors.append(tensor)\n",
    "        if np.max(current_tensor)>1e200:\n",
    "            current_tensor*=1e-30\n",
    "    intermediate_tensors.reverse()\n",
    "    return tensor, intermediate_tensors\n",
    "    "
   ]
  },
  {
   "cell_type": "markdown",
   "metadata": {},
   "source": [
    "---\n",
    "# Función general"
   ]
  },
  {
   "cell_type": "markdown",
   "metadata": {},
   "source": [
    "Esta es la función que se encarga del proceso general. Se encarga del proceso de minimización resolviendo iterativamente cada una de las variables. Su proceso consiste en la creación de la tensor network, su contracción y la determinación de la variable a partir del vector resultante."
   ]
  },
  {
   "cell_type": "code",
   "execution_count": 6,
   "metadata": {},
   "outputs": [
    {
     "name": "stdout",
     "output_type": "stream",
     "text": [
      "2\n"
     ]
    }
   ],
   "source": [
    "sol = np.zeros((2))\n",
    "print(len(sol))"
   ]
  },
  {
   "cell_type": "code",
   "execution_count": 71,
   "metadata": {},
   "outputs": [],
   "source": [
    "from unittest import result\n",
    "\n",
    "from quantum_sim.main.general_functions import base_a_decimal\n",
    "\n",
    "\n",
    "def qubo_solver(Q_matrix:np.array, tau:float, dits: int, n_neighbors: int)->np.array:\n",
    "    n_variables = Q_matrix.shape[0]\n",
    "    #print(Q_matrix)\n",
    "    solution = np.zeros(n_variables, dtype = int)\n",
    "    tensor_network = tensor_network_generator(Q_matrix, dits, n_neighbors, tau)\n",
    "\n",
    "    result_contraction, intermediate_tensors = tensor_network_contraction(tensor_network)\n",
    "    solution[0] = np.argmax(abs(result_contraction))\n",
    "    for i in range(2,len(Q_matrix)):  # Iteramos sobre las filas\n",
    "        Q_matrix[i, i] += Q_matrix[i, 0] * solution[0]\n",
    "\n",
    "\n",
    "    for node in range(1, n_variables-1):\n",
    "        #print(\"QMATRX Grande\")\n",
    "        #print(Q_matrix)\n",
    "        Q_matrix_row = Q_matrix[node][node-1:node+1]\n",
    "       \n",
    "        new_tensor = new_inital_tensor(Q_matrix_row, dits, intermediate_tensors[node + 1].shape[0], solution[:node], n_neighbors, tau)\n",
    "        print(\"new_t\")\n",
    "        print(new_tensor)\n",
    "        solution[node] = np.argmax(abs(new_tensor @ intermediate_tensors[node + 1]))\n",
    "\n",
    "        for i in range(node + 2,len(Q_matrix)):  # Iteramos sobre las filas\n",
    "            Q_matrix[i, i] += Q_matrix[i, node] * solution[node]\n",
    "        print(\"Q_m\", Q_matrix)\n",
    "\n",
    "\n",
    "    cost1 = evaluar_qubo(Q_matrix, solution)\n",
    "    solution[-1] = 1\n",
    "    cost2 = evaluar_qubo(Q_matrix, solution)\n",
    "    if cost1 < cost2:\n",
    "        solution[-1] = 0\n",
    "    return solution\n"
   ]
  },
  {
   "cell_type": "markdown",
   "metadata": {},
   "source": [
    "---\n",
    "# Pruebas"
   ]
  },
  {
   "cell_type": "code",
   "execution_count": 72,
   "metadata": {},
   "outputs": [
    {
     "name": "stdout",
     "output_type": "stream",
     "text": [
      "Coste de Random:  -0.062489460520388784\n",
      "new_t\n",
      "[[1.00000000e+00 0.00000000e+00 0.00000000e+00 0.00000000e+00]\n",
      " [0.00000000e+00 0.00000000e+00 4.89038778e-07 0.00000000e+00]]\n",
      "Q_m [[ 0.10555746  0.          0.          0.          0.        ]\n",
      " [ 0.22967502  0.14530824  0.          0.          0.        ]\n",
      " [-0.27270491  0.26183226  0.3389637   0.          0.        ]\n",
      " [ 0.         -0.45909983  0.30096802 -0.14675202  0.        ]\n",
      " [ 0.          0.          0.07388459 -0.38473623  0.32369055]]\n",
      "new_t\n",
      "[[0.00000000e+00 1.00000000e+00 0.00000000e+00 0.00000000e+00]\n",
      " [0.00000000e+00 0.00000000e+00 0.00000000e+00 8.08654313e-27]]\n",
      "Q_m [[ 0.10555746  0.          0.          0.          0.        ]\n",
      " [ 0.22967502  0.14530824  0.          0.          0.        ]\n",
      " [-0.27270491  0.26183226  0.3389637   0.          0.        ]\n",
      " [ 0.         -0.45909983  0.30096802 -0.14675202  0.        ]\n",
      " [ 0.          0.          0.07388459 -0.38473623  0.32369055]]\n",
      "new_t\n",
      "[[1.00000000e+00 0.00000000e+00 0.00000000e+00 0.00000000e+00]\n",
      " [0.00000000e+00 0.00000000e+00 2.36243151e+06 0.00000000e+00]]\n",
      "Q_m [[ 0.10555746  0.          0.          0.          0.        ]\n",
      " [ 0.22967502  0.14530824  0.          0.          0.        ]\n",
      " [-0.27270491  0.26183226  0.3389637   0.          0.        ]\n",
      " [ 0.         -0.45909983  0.30096802 -0.14675202  0.        ]\n",
      " [ 0.          0.          0.07388459 -0.38473623  0.32369055]]\n",
      "Solution TN:      [0 1 0 1 1]\n",
      "Coste de TN:      -0.062489460520388784\n",
      "Coste de dimod iter:  0.0\n"
     ]
    },
    {
     "data": {
      "text/plain": [
       "'\\n# RS\\nmejor_solucion, mejor_valor = recocido_simulado_qudo(Q_matrix, [0, 1, 2], 100, 0.95, 1000)\\nprint(\"Mejor solución encontrada:\", mejor_solucion)\\nprint(\"Mejor valor objetivo:\", evaluar_qubo(Q_matrix, mejor_solucion))\\n'"
      ]
     },
     "execution_count": 72,
     "metadata": {},
     "output_type": "execute_result"
    }
   ],
   "source": [
    "n_variables = 5\n",
    "n_vecinos = 2\n",
    "dits = 2\n",
    "tau = 100\n",
    "np.random.seed(20)\n",
    "# Generamos el caso\n",
    "\n",
    "Q_matrix = generar_matriz_qubo(n_variables, n_vecinos + 1)\n",
    "Q_matrix/= np.linalg.norm(Q_matrix)\n",
    "\n",
    "Q_matrix_dict = matrix_QUBO_to_dict(Q_matrix)\n",
    "\n",
    "Q_matrix_copy = Q_matrix.copy()\n",
    "# Inicial RS\n",
    "x_inicial = np.random.randint(2, size=n_variables)\n",
    "'''\n",
    "solution = recocido_simulado(Q_matrix, x_inicial, 10.0, 0.99, int(1e4))\n",
    "#print('Solution RS:     ', str(solution))\n",
    "print('Coste de RS:     ', evaluar_qubo(Q_matrix, solution))\n",
    "'''\n",
    "'''\n",
    "# Dimod\n",
    "solution_dimod = qubo_dimod_solver(Q_matrix_dict, \"neal\")\n",
    "print('Coste de dimod iter: ', evaluar_qubo(Q_matrix, solution_dimod))\n",
    "'''\n",
    "best_c = random_qubo_solver(Q_matrix)\n",
    "print('Coste de Random: ', evaluar_qubo(Q_matrix, best_c))\n",
    "\n",
    "# TN\n",
    "solution = qubo_solver(Q_matrix_copy, tau, dits, n_vecinos + 1)\n",
    "print('Solution TN:     ', str(solution))\n",
    "print('Coste de TN:     ', evaluar_qubo(Q_matrix, solution))\n",
    "\n",
    "\n",
    "# Dimod\n",
    "solution_dimod = qubo_dimod_solver(Q_matrix_dict, \"neal\")\n",
    "print('Coste de dimod iter: ', evaluar_qubo(Q_matrix, solution_dimod))\n",
    "'''\n",
    "# RS\n",
    "mejor_solucion, mejor_valor = recocido_simulado_qudo(Q_matrix, [0, 1, 2], 100, 0.95, 1000)\n",
    "print(\"Mejor solución encontrada:\", mejor_solucion)\n",
    "print(\"Mejor valor objetivo:\", evaluar_qubo(Q_matrix, mejor_solucion))\n",
    "'''\n"
   ]
  }
 ],
 "metadata": {
  "kernelspec": {
   "display_name": ".venv",
   "language": "python",
   "name": "python3"
  },
  "language_info": {
   "codemirror_mode": {
    "name": "ipython",
    "version": 3
   },
   "file_extension": ".py",
   "mimetype": "text/x-python",
   "name": "python",
   "nbconvert_exporter": "python",
   "pygments_lexer": "ipython3",
   "version": "3.10.12"
  }
 },
 "nbformat": 4,
 "nbformat_minor": 2
}
