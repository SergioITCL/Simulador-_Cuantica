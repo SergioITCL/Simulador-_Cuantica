{
 "cells": [
  {
   "cell_type": "markdown",
   "metadata": {},
   "source": [
    "# QUDO a n vecinos"
   ]
  },
  {
   "cell_type": "markdown",
   "metadata": {},
   "source": [
    "Autor: Alejandro Mata Ali (ITCL)"
   ]
  },
  {
   "cell_type": "markdown",
   "metadata": {},
   "source": [
    "En este notebook vamos a resolver el problema QUDO de $n$ vecinos definido como aquel problema de minimización con $x_i$ enteros entre $0$ y $d_i-1$, tal que la función de coste es:\n",
    "\n",
    "$$C(\\vec{x})=\\sum_{i=0}^{N-1}\\sum_{j=i}^{\\min(N-1,i+n)} W_{ij} x_{i}x_{j}$$\n",
    "\n",
    "La interacción será solo entre las variables $i$ y las $n$ anteriores a ella. Esto es, la matriz $W_{ij}$ será triangular superior con $n$ diagonales además de la principal."
   ]
  },
  {
   "cell_type": "code",
   "execution_count": 2,
   "metadata": {},
   "outputs": [],
   "source": [
    "import numpy as np\n",
    "import itertools\n",
    "from time import time"
   ]
  },
  {
   "cell_type": "markdown",
   "metadata": {},
   "source": [
    "# Función creadora de la red"
   ]
  },
  {
   "cell_type": "markdown",
   "metadata": {},
   "source": [
    "Función que genera la red."
   ]
  },
  {
   "cell_type": "code",
   "execution_count": 3,
   "metadata": {},
   "outputs": [],
   "source": [
    "def generate_tensor_network(W_matrix:np.array, n_vecinos:int, dimensiones:np.array, tau:float)->list:\n",
    "    _n_variables = len(W_matrix)\n",
    "    tensor_list = [None,]*_n_variables\n",
    "    # Creamos el tensor inicial, de medicion\n",
    "    tensor_list[0] = tensor_initial_generator(0, n_vecinos, None, W_matrix, dimensiones, tau)\n",
    "\n",
    "    # Creamos los demas tensores\n",
    "    for _position in range(1,_n_variables-1):\n",
    "        tensor_list[_position] = tensor_intermedio_generator(_position, n_vecinos, W_matrix, dimensiones, tau)\n",
    "    \n",
    "    # Creamos el tensor final\n",
    "    tensor_list[-1] = tensor_final_generator(_n_variables, n_vecinos, W_matrix, dimensiones, tau)\n",
    "\n",
    "    return tensor_list"
   ]
  },
  {
   "cell_type": "markdown",
   "metadata": {},
   "source": [
    "## Funciones generadoras de tensores"
   ]
  },
  {
   "cell_type": "code",
   "execution_count": 4,
   "metadata": {},
   "outputs": [],
   "source": [
    "def tensor_initial_generator(position, n_vecinos, solution, W_matrix, dimensiones, tau):\n",
    "    # Primero determinamos el numero de señales y la dimension del grouping\n",
    "    _n_señales = min(n_vecinos, position+1)\n",
    "    _variable_lejana = position-_n_señales# Primera variable que recibe\n",
    "    _dimensiones_futuras = dimensiones[_variable_lejana+1:position+1]# Dimensiones para los indices que transmitimos\n",
    "    _shape = (dimensiones[position], productorio(_dimensiones_futuras))\n",
    "\n",
    "    tensor = np.zeros(_shape, dtype=float)\n",
    "    # Calculamos el bloque de coste derivado de las soluciones ya obtenidas\n",
    "    if solution is None:\n",
    "        _cost = 0\n",
    "    else:\n",
    "        _cost = W_matrix[_variable_lejana:position, position] @ solution[_variable_lejana:position]\n",
    "    for i in range(dimensiones[position]):# Solo cambia el indice de la variable por determinar\n",
    "        # Determinamos el valor del indice agrupado\n",
    "        if solution is None:\n",
    "            _index_list = [i]\n",
    "        else:\n",
    "            _index_list = solution[_variable_lejana+1:position] + [i]\n",
    "        _index = group_index(_index_list, _dimensiones_futuras)\n",
    "        # Hacemos la evolucion incluyendo el coste propio\n",
    "        tensor[i,_index] = np.exp(-tau*(W_matrix[position,position]*i+_cost)*i)\n",
    "\n",
    "    return tensor\n",
    "\n",
    "def tensor_intermedio_generator(position, n_vecinos, W_matrix, dimensiones, tau):\n",
    "    # Primero determinamos el numero de señales y la dimension del grouping\n",
    "    _n_señales_up   = min(n_vecinos, position)\n",
    "    _n_señales_down = min(n_vecinos, position+1)\n",
    "    _variable_lejana_up   = position-_n_señales_up# Primera variable que recibe\n",
    "    _variable_lejana_down = position-(_n_señales_down-1)# Primera variable que envia\n",
    "    _dimensiones_pasadas = dimensiones[_variable_lejana_up:position]# Dimensiones para los indices que recibimos\n",
    "    _dimensiones_futuras = dimensiones[_variable_lejana_down:position+1]# Dimensiones para los indices que transmitimos\n",
    "\n",
    "\n",
    "    _shape = (productorio(_dimensiones_pasadas), productorio(_dimensiones_futuras))\n",
    "    tensor = np.zeros(_shape, dtype=float)\n",
    "    # Vamos añadiendo los elementos al tensor segun los indices posibles de entrada\n",
    "    for _indexes in itertools.product(*map(range,_dimensiones_pasadas)):\n",
    "        _cost = W_matrix[_variable_lejana_up:position, position] @ np.array(_indexes)\n",
    "        for i in range(dimensiones[position]):# Indice propio de la variable\n",
    "            # Determinamos el valor del indice agrupado\n",
    "            # Entrada\n",
    "            _up   = group_index(_indexes, _dimensiones_pasadas)\n",
    "            # Salida\n",
    "            _down = group_index(_indexes[1:]+(i,), _dimensiones_futuras)\n",
    "            # Hacemos la evolucion incluyendo el coste propio\n",
    "            tensor[_up, _down] = np.exp(-tau*(W_matrix[position,position]*i+_cost)*i)\n",
    "\n",
    "    return tensor\n",
    "\n",
    "def tensor_final_generator(n_variables, n_vecinos, W_matrix, dimensiones, tau):\n",
    "    # Primero determinamos el numero de señales y la dimension del grouping\n",
    "    position = n_variables-1\n",
    "    _n_señales_up   = min(n_vecinos, position)\n",
    "    _n_señales_down = min(n_vecinos, position+1)\n",
    "    _variable_lejana_up   = position-_n_señales_up# Primera variable que recibe\n",
    "    _variable_lejana_down = position-(_n_señales_down-1)# Primera variable que envia\n",
    "    _dimensiones_pasadas = dimensiones[_variable_lejana_up:position]# Dimensiones para los indices que recibimos\n",
    "    _dimensiones_futuras = dimensiones[_variable_lejana_down:position+1]# Dimensiones para los indices que transmitimos\n",
    "    _shape = (productorio(_dimensiones_pasadas))\n",
    "    tensor = np.zeros(_shape, dtype=float)\n",
    "    # Vamos añadiendo los elementos al tensor segun los indices posibles de entrada\n",
    "    for _indexes in itertools.product(*map(range,_dimensiones_pasadas)):\n",
    "        _cost = W_matrix[_variable_lejana_up:position, position] @ np.array(_indexes)\n",
    "        for i in range(dimensiones[position]):# Indice propio de la variable\n",
    "            # Determinamos el valor del indice agrupado\n",
    "            _up   = group_index(_indexes, _dimensiones_pasadas)\n",
    "            # Hacemos la evolucion incluyendo el coste propio\n",
    "            tensor[_up] += np.exp(-tau*(W_matrix[position,position]*i+_cost)*i)\n",
    "\n",
    "    return tensor"
   ]
  },
  {
   "cell_type": "markdown",
   "metadata": {},
   "source": [
    "# Función de contracción de la red"
   ]
  },
  {
   "cell_type": "markdown",
   "metadata": {},
   "source": [
    "Función que genera la contracción de la primera iteración del algoritmo. Devuelve los tensores intermedios."
   ]
  },
  {
   "cell_type": "code",
   "execution_count": 5,
   "metadata": {},
   "outputs": [],
   "source": [
    "def contraction_tensors(lista_tensores:list):\n",
    "    # Numero de tensores\n",
    "    n_tensors = len(lista_tensores)\n",
    "    # Creamos el primer tensor y lo normalizamos por estabilidad\n",
    "    vector = lista_tensores[-1]\n",
    "    vector /= np.linalg.norm(vector)\n",
    "    # Creamos el primer elemento de la lista\n",
    "    tensores_intermedios = [vector]\n",
    "    append = tensores_intermedios.append\n",
    "\n",
    "    # Contraemos cada tensor y almacenamos el resultado\n",
    "    for i in range(n_tensors-2, -1, -1):\n",
    "        vector = lista_tensores[i] @ vector\n",
    "        # Normalizamos el vector usando la norma L2\n",
    "        vector /= np.linalg.norm(vector)  # Normalizamos para que la suma sea 1\n",
    "        append(vector)\n",
    "\n",
    "    # Invertimos para facilitar el resto\n",
    "    tensores_intermedios.reverse()\n",
    "    return tensores_intermedios"
   ]
  },
  {
   "cell_type": "markdown",
   "metadata": {},
   "source": [
    "# Funciones de auxiliares"
   ]
  },
  {
   "cell_type": "code",
   "execution_count": 6,
   "metadata": {},
   "outputs": [],
   "source": [
    "def cost_QUDO(W_matrix:np.array, solution:np.array):\n",
    "    '''Funcion que determina el coste de una solucion.'''\n",
    "    _cost = 0\n",
    "    for i, _variable_1 in enumerate(solution):\n",
    "        for _j, _variable_2 in enumerate(solution[i:]):\n",
    "            j = i+_j\n",
    "            _cost += W_matrix[i,j]*_variable_1*_variable_2\n",
    "\n",
    "    return _cost\n",
    "\n",
    "def last_no_null(W_list:np.array)->int:\n",
    "    '''Funcion que devuelve la posicion del ultimo elemento no nulo de un vector.'''\n",
    "    for _i in range(len(W_list)-1, -1, -1):# La recorremos al reves\n",
    "        if W_list[_i] != 0:\n",
    "            return _i\n",
    "\n",
    "def determinar_vecinos(W_matrix:np.array)->int:\n",
    "    '''Funcion que determina el numero de vecino maximo del problema QUDO.'''\n",
    "    _distancia_maxima = [ last_no_null(W_matrix[_i])-_i for _i in range(len(W_matrix)) ]\n",
    "\n",
    "    return max(_distancia_maxima)\n",
    "        \n",
    "def determinar_ultima_variable(solution, W_matrix, dimensiones):\n",
    "    '''Funcion que determina el valor optimo de la ultima variable en base a los valores de todas las demas.\n",
    "    Ejecuta una comprobacion del coste de todas las posibilidades y escoge la de menor coste.'''\n",
    "    _cost_list = np.zeros(dimensiones[-1])\n",
    "    for _valor in range(dimensiones[-1]):\n",
    "        _cost_list[_valor] = cost_QUDO(W_matrix, solution[:-1].copy()+[_valor])\n",
    "    \n",
    "    return np.argmin(_cost_list)"
   ]
  },
  {
   "cell_type": "code",
   "execution_count": 7,
   "metadata": {},
   "outputs": [],
   "source": [
    "def productorio(vector:np.array):\n",
    "    '''Funcion que hace el producto de los elementos de un vector.'''\n",
    "    producto = 1\n",
    "    for _componente in vector:\n",
    "        producto *= _componente\n",
    "\n",
    "    return producto\n",
    "\n",
    "def group_index(index_list:list, dimensiones:list):\n",
    "    '''Funcion que agrupa los indices teniendo en cuenta las dimensiones de cada uno'''\n",
    "    index_value = 0\n",
    "    _prefactor = 1\n",
    "    for _i, _value in enumerate(index_list[::-1]):\n",
    "        index_value += _prefactor*_value\n",
    "        _prefactor *= dimensiones[-1-_i]# Multiplicamos el factor global de la agrupacion\n",
    "\n",
    "    return index_value"
   ]
  },
  {
   "cell_type": "markdown",
   "metadata": {},
   "source": [
    "# Función global"
   ]
  },
  {
   "cell_type": "markdown",
   "metadata": {},
   "source": [
    "Función que recibe la matriz $W$ con $n$ vecinos, la dimensión de las diferentes variables y el $\\tau$ de minimización, y devuelve el resultado como vector.\n",
    "\n",
    "$x_i\\in [0,dimensiones_i-1]$"
   ]
  },
  {
   "cell_type": "code",
   "execution_count": 8,
   "metadata": {},
   "outputs": [],
   "source": [
    "def QUDO_Solver(W_matrix:np.array, dimensiones:np.array, tau:float=1)->list:\n",
    "    # Determinamos a cuantos vecinos llega el modelo\n",
    "    _n_vecinos   = determinar_vecinos(W_matrix)\n",
    "    _n_variables = len(W_matrix)\n",
    "    \n",
    "    solution     = [0,]*_n_variables\n",
    "\n",
    "    # Creamos la tensor network\n",
    "    _tensor_network = generate_tensor_network(W_matrix, _n_vecinos, dimensiones, tau)\n",
    "\n",
    "    # Contraemos la primera iteracion\n",
    "    _tensores_intermedios = contraction_tensors(_tensor_network)\n",
    "\n",
    "    # Obtenemos el valor correcto para esta variable\n",
    "    solution[0] = np.argmax(_tensores_intermedios[0])\n",
    "    # Por temas de accesos a memoria\n",
    "    _tensores_intermedios.pop(0)\n",
    "    _tensores_intermedios.pop(0)\n",
    "\n",
    "\n",
    "    # Proceso iterativo para el resto de variables\n",
    "    for _position in range(1, _n_variables-1):\n",
    "\n",
    "        # Creamos el primer tensor de la cadena\n",
    "        _tensor_inicial = tensor_initial_generator(_position, _n_vecinos, solution, W_matrix, dimensiones, tau)\n",
    "        # Contraccion aprovechando los tensores intermedios\n",
    "        _vector_de_salida = _tensor_inicial @ _tensores_intermedios[0]\n",
    "        _tensores_intermedios.pop(0)\n",
    "        print(_vector_de_salida)\n",
    "        # Obtenemos el valor correcto para esta variable\n",
    "        solution[_position] = np.argmax(abs(_vector_de_salida))\n",
    "\n",
    "    # Obtenemos el valor de la última variable\n",
    "    solution[-1] = determinar_ultima_variable(solution, W_matrix, dimensiones)\n",
    "\n",
    "    return solution"
   ]
  },
  {
   "cell_type": "markdown",
   "metadata": {},
   "source": [
    "# Pruebas"
   ]
  },
  {
   "cell_type": "markdown",
   "metadata": {},
   "source": [
    "## Funciones auxiliares"
   ]
  },
  {
   "cell_type": "code",
   "execution_count": 9,
   "metadata": {},
   "outputs": [],
   "source": [
    "def crea_instancia(n_variables:int, n_vecinos:int, values_range:tuple)->np.array:\n",
    "    W_matrix = np.zeros((n_variables, n_variables), dtype=float)\n",
    "    for i in range(n_variables):\n",
    "        for j in range(i, min(i+n_vecinos+1,n_variables)):\n",
    "            W_matrix[i,j] = ((values_range[1]-values_range[0])*np.random.rand()+values_range[0])\n",
    "            W_matrix[j,i] = W_matrix[i,j]\n",
    "    \n",
    "    return W_matrix"
   ]
  },
  {
   "cell_type": "code",
   "execution_count": 10,
   "metadata": {},
   "outputs": [],
   "source": [
    "def solver_aleatorio(W_matrix:np.array, dimensiones:np.array, n_iteraciones:int)->list[int]:\n",
    "    _n_variables = len(W_matrix)\n",
    "    solution = [0,]*_n_variables\n",
    "    cost_solution = cost_QUDO(W_matrix, solution)\n",
    "    for _i_iteracion in range(int(n_iteraciones)):\n",
    "        solution_prueba = [ np.random.randint(0,_dim) for _dim in dimensiones ]\n",
    "        cost_solution_prueba = cost_QUDO(W_matrix, solution_prueba)\n",
    "        if cost_solution_prueba < cost_solution:\n",
    "            cost_solution = cost_solution_prueba\n",
    "            solution = solution_prueba.copy()\n",
    "\n",
    "    return solution"
   ]
  },
  {
   "cell_type": "code",
   "execution_count": 11,
   "metadata": {},
   "outputs": [],
   "source": [
    "def triangular_to_symmetric(triangular_matrix):\n",
    "    n = triangular_matrix.shape[0]\n",
    "    symmetric_matrix = np.zeros((n, n))\n",
    "    \n",
    "    # Copiar la matriz triangular inferior a la simétrica\n",
    "    for i in range(n):\n",
    "        for j in range(n):\n",
    "            if i >= j:  # Parte inferior (incluyendo diagonal)\n",
    "                symmetric_matrix[i, j] = triangular_matrix[i, j]\n",
    "            else:  # Parte superior, reflejando la inferior\n",
    "                symmetric_matrix[i, j] = triangular_matrix[j, i]\n",
    "    \n",
    "    return symmetric_matrix"
   ]
  },
  {
   "cell_type": "markdown",
   "metadata": {},
   "source": [
    "## Hacemos pruebas"
   ]
  },
  {
   "cell_type": "code",
   "execution_count": 17,
   "metadata": {},
   "outputs": [
    {
     "name": "stdout",
     "output_type": "stream",
     "text": [
      "[5.77350269e-01 1.67372707e-21 4.48346285e-54]\n",
      "[4.15596964e-04 5.45829642e-29 2.12110162e-52]\n",
      "[3.14270478e-83 7.02713420e-54 4.27628309e-48]\n",
      "[1.00000000e+00 1.42813723e-36 8.17276352e-86]\n",
      "[1.37759508e-57 1.78111060e-20 2.10947580e+11]\n",
      "[5.85443992e-07 1.09948354e+32 2.52213435e+66]\n",
      "[1.08262165e-003 5.59939258e-051 4.39483887e-102]\n",
      "[9.47257769e-01 8.78940376e-07 1.40432818e-28]\n",
      "tiempo 0.010807514190673828\n",
      "Solucion TN:      0,0,0,2,0,2,2,0,0,1\n",
      "Coste solucion TN:      -1.1697049512804316\n",
      "Coste de dimod iter:  -0.2749838385196257\n"
     ]
    }
   ],
   "source": [
    "# Setup\n",
    "from quantum_sim.TensorNetwork.QUBO.qubo_core.qubo_auxiliar_functions import evaluar_qubo, generar_matriz_qubo, matrix_QUBO_to_dict\n",
    "from quantum_sim.TensorNetwork.QUBO.qubo_core.qubo_solvers import qubo_dimod_solver\n",
    "\n",
    "\n",
    "n_variables  = 10\n",
    "n_vecinos    = 4\n",
    "dimensiones  = [3,]*n_variables\n",
    "values_range = (0.,1.)\n",
    "\n",
    "tau = 100\n",
    "n_iteraciones = 1e3\n",
    "\n",
    "# Creacion de la matriz\n",
    "W_matrix = crea_instancia(n_variables, n_vecinos, values_range)\n",
    "W_matrix /= np.linalg.norm(W_matrix)*n_vecinos*n_variables\n",
    "\n",
    "# Resolvemos con la TN\n",
    "\n",
    "np.random.seed(53)\n",
    "# Generamos el caso\n",
    "\n",
    "Q_matrix = generar_matriz_qubo(n_variables, n_vecinos + 1)\n",
    "Q_matrix/= np.linalg.norm(Q_matrix)\n",
    "\n",
    "Q_matrix_2 = triangular_to_symmetric(Q_matrix)\n",
    "Q_matrix_dict = matrix_QUBO_to_dict(Q_matrix)\n",
    "inicio = time()\n",
    "solution_TN = QUDO_Solver(Q_matrix_2, dimensiones, tau=tau)\n",
    "print(\"tiempo\", time()-inicio)\n",
    "print('Solucion TN:     ', ','.join(map(str,solution_TN)))\n",
    "print('Coste solucion TN:     ', evaluar_qubo(Q_matrix, solution_TN))\n",
    "\n",
    "solution_dimod = qubo_dimod_solver(Q_matrix_dict, \"neal\")\n",
    "print('Coste de dimod iter: ', evaluar_qubo(Q_matrix, solution_dimod))"
   ]
  },
  {
   "cell_type": "code",
   "execution_count": null,
   "metadata": {},
   "outputs": [],
   "source": []
  }
 ],
 "metadata": {
  "kernelspec": {
   "display_name": ".venv",
   "language": "python",
   "name": "python3"
  },
  "language_info": {
   "codemirror_mode": {
    "name": "ipython",
    "version": 3
   },
   "file_extension": ".py",
   "mimetype": "text/x-python",
   "name": "python",
   "nbconvert_exporter": "python",
   "pygments_lexer": "ipython3",
   "version": "3.10.12"
  }
 },
 "nbformat": 4,
 "nbformat_minor": 2
}
