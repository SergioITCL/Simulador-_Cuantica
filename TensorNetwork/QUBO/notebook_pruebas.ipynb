{
 "cells": [
  {
   "cell_type": "markdown",
   "metadata": {},
   "source": [
    "# Funciones"
   ]
  },
  {
   "cell_type": "code",
   "execution_count": 198,
   "metadata": {},
   "outputs": [],
   "source": [
    "import numpy as np"
   ]
  },
  {
   "cell_type": "code",
   "execution_count": 199,
   "metadata": {},
   "outputs": [],
   "source": [
    "def generar_matriz_qubo(n: int, n_diagonales: int)-> np.array:\n",
    "    \"\"\"\n",
    "    Funcion que genera una matriz de un problema QUBO dado un numero de variables y un numero de diagonales\n",
    "    Args:\n",
    "        n (int): numero de variables\n",
    "        n_diagonales (int): numero de diagonales\n",
    "\n",
    "    Returns:\n",
    "        np.array: devuelve la matriz QUBO \n",
    "    \"\"\"\n",
    "\n",
    "    # Creamos una matriz aleatoria de tamaño nxn\n",
    "    Q_matrix= np.random.rand(n, n)*2-1  # Rellenamos con números entre -1 y 1\n",
    "    \n",
    "    # Hacemos que la matriz sea simétrica en la diagonal inferior únicamente\n",
    "    for i in range(n):\n",
    "        for j in range(i + 1, n):  # Solo afecta la parte superior, donde j > i\n",
    "            Q_matrix[i, j] = 0\n",
    "    \n",
    "    for i in range(n):\n",
    "        for j in range(0, i-(n_diagonales)+1):  # Solo afecta la parte superior, donde j > i\n",
    "            Q_matrix[i, j] = 0\n",
    "    \n",
    "    # Aseguramos que los términos diagonales sean positivos\n",
    "    for i in range(n):\n",
    "        Q_matrix[i, i] = abs(Q_matrix[i, i])\n",
    "\n",
    "    return Q_matrix"
   ]
  },
  {
   "cell_type": "code",
   "execution_count": 200,
   "metadata": {},
   "outputs": [],
   "source": [
    "n_variables = 20\n",
    "tau = 500\n",
    "number_layers = 20\n",
    "np.random.seed(0)\n",
    "# Generamos el caso\n",
    "Q_matrix = generar_matriz_qubo(n_variables, n_variables)\n",
    "Q_matrix/= np.linalg.norm(Q_matrix)\n",
    "Q_matrix = np.exp(-tau*Q_matrix)\n"
   ]
  },
  {
   "cell_type": "code",
   "execution_count": 201,
   "metadata": {},
   "outputs": [],
   "source": [
    "def tensor_bottom_generator(Q_last_row: np.array)-> np.array:\n",
    "    n_tensores = 2**(len(Q_last_row)-2)\n",
    "    i=0\n",
    "    tensor = np.ones((n_tensores, 1))\n",
    "    for element in range(len(Q_last_row)-1,1,-1):\n",
    "        i = i + 1\n",
    "        aux_tensor = Q_last_row[int(i-1)] * ((np.arange(n_tensores) // 2**(element - 2) % 2).reshape(n_tensores, 1))\n",
    "        aux_tensor[aux_tensor ==0] = 1\n",
    "        tensor = tensor * aux_tensor\n",
    "    tensor = Q_last_row[-1] * np.hstack([tensor, tensor * Q_last_row[-2]])\n",
    "\n",
    "    n = tensor.shape[0]\n",
    "    intercalado = np.zeros((n * 2, 2), dtype=tensor.dtype)  # Inicializamos un tensor de ceros de tamaño (2n, 2)\n",
    "    # Colocar las filas de [1, 1] en las posiciones impares\n",
    "    intercalado[::2] = [1, 1]\n",
    "    # Colocar las filas originales en las posiciones pares\n",
    "    intercalado[1::2] = tensor\n",
    "    tensor = intercalado.reshape([2]*(len(Q_last_row)))\n",
    "    return tensor"
   ]
  },
  {
   "cell_type": "code",
   "execution_count": 202,
   "metadata": {},
   "outputs": [],
   "source": [
    "def tensor_bottom_generator(Q_last_row: np.array) -> np.array:\n",
    "    # Número de tensores: 2^(len(Q_last_row) - 2)\n",
    "    n_tensores = 2 ** (len(Q_last_row) - 2)\n",
    "    \n",
    "    # Inicializamos el tensor con 1s\n",
    "    tensor = np.ones((n_tensores, 1), dtype=Q_last_row.dtype)\n",
    "    \n",
    "    # Calculamos el tensor con las multiplicaciones necesarias\n",
    "    for element in range(len(Q_last_row) - 1, 1, -1):\n",
    "        # Operación eficiente para generar aux_tensor\n",
    "        aux_tensor = Q_last_row[element - 1] * ((np.arange(n_tensores) // 2 ** (element - 2) % 2).reshape(n_tensores, 1))\n",
    "        aux_tensor[aux_tensor == 0] = 1  # Asignamos 1 donde los elementos son 0\n",
    "        tensor *= aux_tensor  # Multiplicamos directamente el tensor\n",
    "    \n",
    "    # Actualizamos tensor con el valor final de Q_last_row[-1] y Q_last_row[-2]\n",
    "    tensor = Q_last_row[-1] * np.hstack([tensor, tensor * Q_last_row[-2]])\n",
    "\n",
    "    # Intercalado: creando un tensor final con [1, 1] intercalado entre las filas\n",
    "    n = tensor.shape[0]\n",
    "    intercalado = np.zeros((n * 2, 2), dtype=tensor.dtype)\n",
    "\n",
    "    # Colocamos las filas de [1, 1] en las posiciones impares\n",
    "    intercalado[::2] = [1, 1]\n",
    "    \n",
    "    # Colocamos las filas originales del tensor en las posiciones pares\n",
    "    intercalado[1::2] = tensor\n",
    "    \n",
    "    # Redimensionamos el tensor final a la forma deseada, (2, 2, 2, ..., 2)\n",
    "    final_shape = [2] * len(Q_last_row)\n",
    "    tensor = intercalado.reshape(final_shape)\n",
    "    \n",
    "    return tensor"
   ]
  },
  {
   "cell_type": "code",
   "execution_count": 209,
   "metadata": {},
   "outputs": [
    {
     "name": "stdout",
     "output_type": "stream",
     "text": [
      "0.047708988189697266\n"
     ]
    }
   ],
   "source": [
    "in1 = time()\n",
    "tensor = tensor_bottom_generator(Q_matrix[-1])\n",
    "print(time()-in1)\n",
    "#print(tensor)"
   ]
  },
  {
   "cell_type": "code",
   "execution_count": 204,
   "metadata": {},
   "outputs": [
    {
     "name": "stdout",
     "output_type": "stream",
     "text": [
      "[[0.]\n",
      " [1.]\n",
      " [0.]\n",
      " [1.]\n",
      " [0.]\n",
      " [1.]\n",
      " [0.]\n",
      " [1.]\n",
      " [0.]\n",
      " [1.]\n",
      " [0.]\n",
      " [1.]\n",
      " [0.]\n",
      " [1.]\n",
      " [0.]\n",
      " [1.]]\n"
     ]
    }
   ],
   "source": [
    "import numpy as np\n",
    "\n",
    "# Vector original\n",
    "vector = np.zeros((8,1))\n",
    "\n",
    "# Crear un vector de unos con las mismas dimensiones\n",
    "unos = np.ones_like(vector)\n",
    "\n",
    "# Apilar los dos vectores y reordenar las filas\n",
    "resultado = np.vstack((vector, np.ones_like(vector))).reshape(-1, 1)[np.argsort(np.tile(np.arange(len(vector)), 2))]\n",
    "\n",
    "print(resultado)"
   ]
  }
 ],
 "metadata": {
  "kernelspec": {
   "display_name": ".venv",
   "language": "python",
   "name": "python3"
  },
  "language_info": {
   "codemirror_mode": {
    "name": "ipython",
    "version": 3
   },
   "file_extension": ".py",
   "mimetype": "text/x-python",
   "name": "python",
   "nbconvert_exporter": "python",
   "pygments_lexer": "ipython3",
   "version": "3.10.12"
  }
 },
 "nbformat": 4,
 "nbformat_minor": 2
}
