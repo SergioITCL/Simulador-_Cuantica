{
 "cells": [
  {
   "cell_type": "markdown",
   "metadata": {},
   "source": [
    "# Algoritmo que permite resolver problemas QUBO densos empleando Tensor Network"
   ]
  },
  {
   "cell_type": "markdown",
   "metadata": {},
   "source": [
    "En este notebook vamos a crear e implementar un algoritmo en tensor networks basado en el método de las señales y evolución en tiempo imaginario para resolver problemas QUBO. Utiliza un método de eliminación de capas de evolución para reducir la complejidad computacional.\n",
    "\n",
    "Versiones:\n",
    "\n",
    "- alpha 0: Implementación básica.\n",
    "- alpha 1: Añade el método de eliminación de capas.\n",
    "- alpha 2: Versión que va comprimiendo el MPS de derecha a izquierda\n",
    "- alpha 3: version que aplica el problema QUBO a los vecinos cercanos, la idea de esta versión es aplicar matrices recursivamente, además de intentar aprovechar los cálculos intermedios\n",
    "        3b: version 2\n",
    "        3b2: version 2 refactorizada\n",
    "        "
   ]
  },
  {
   "cell_type": "code",
   "execution_count": 2,
   "metadata": {},
   "outputs": [
    {
     "ename": "ModuleNotFoundError",
     "evalue": "No module named 'quantum_sim'",
     "output_type": "error",
     "traceback": [
      "\u001b[1;31m---------------------------------------------------------------------------\u001b[0m",
      "\u001b[1;31mModuleNotFoundError\u001b[0m                       Traceback (most recent call last)",
      "Cell \u001b[1;32mIn[2], line 4\u001b[0m\n\u001b[0;32m      1\u001b[0m \u001b[38;5;66;03m# Librerias\u001b[39;00m\n\u001b[0;32m      2\u001b[0m \u001b[38;5;28;01mimport\u001b[39;00m \u001b[38;5;21;01mnumpy\u001b[39;00m \u001b[38;5;28;01mas\u001b[39;00m \u001b[38;5;21;01mnp\u001b[39;00m\n\u001b[1;32m----> 4\u001b[0m \u001b[38;5;28;01mfrom\u001b[39;00m \u001b[38;5;21;01mquantum_sim\u001b[39;00m\u001b[38;5;21;01m.\u001b[39;00m\u001b[38;5;21;01mmain\u001b[39;00m\u001b[38;5;21;01m.\u001b[39;00m\u001b[38;5;21;01mgeneral_functions\u001b[39;00m \u001b[38;5;28;01mimport\u001b[39;00m dinariy_list\n\u001b[0;32m      5\u001b[0m \u001b[38;5;28;01mfrom\u001b[39;00m \u001b[38;5;21;01mquantum_sim\u001b[39;00m\u001b[38;5;21;01m.\u001b[39;00m\u001b[38;5;21;01mTensorNetwork\u001b[39;00m\u001b[38;5;21;01m.\u001b[39;00m\u001b[38;5;21;01mQUBO\u001b[39;00m\u001b[38;5;21;01m.\u001b[39;00m\u001b[38;5;21;01mqubo_core\u001b[39;00m\u001b[38;5;21;01m.\u001b[39;00m\u001b[38;5;21;01mqubo_solvers\u001b[39;00m \u001b[38;5;28;01mimport\u001b[39;00m qubo_dimod_solver, recocido_simulado, qubo_solver_rs, random_qubo_solver\n\u001b[0;32m      6\u001b[0m \u001b[38;5;28;01mfrom\u001b[39;00m \u001b[38;5;21;01mquantum_sim\u001b[39;00m\u001b[38;5;21;01m.\u001b[39;00m\u001b[38;5;21;01mTensorNetwork\u001b[39;00m\u001b[38;5;21;01m.\u001b[39;00m\u001b[38;5;21;01mQUBO\u001b[39;00m\u001b[38;5;21;01m.\u001b[39;00m\u001b[38;5;21;01mqubo_core\u001b[39;00m\u001b[38;5;21;01m.\u001b[39;00m\u001b[38;5;21;01mqubo_auxiliar_functions\u001b[39;00m \u001b[38;5;28;01mimport\u001b[39;00m matrix_QUBO_to_dict, evaluar_qubo, generar_matriz_qubo\n",
      "\u001b[1;31mModuleNotFoundError\u001b[0m: No module named 'quantum_sim'"
     ]
    }
   ],
   "source": [
    "# Librerias\n",
    "import numpy as np\n",
    "\n",
    "from quantum_sim.main.general_functions import dinariy_list\n",
    "from quantum_sim.TensorNetwork.QUBO.qubo_core.qubo_solvers import qubo_dimod_solver, recocido_simulado, qubo_solver_rs, random_qubo_solver\n",
    "from quantum_sim.TensorNetwork.QUBO.qubo_core.qubo_auxiliar_functions import matrix_QUBO_to_dict, evaluar_qubo, generar_matriz_qubo\n",
    "from quantum_sim.main.guardar_experimentos import plot_function\n",
    "from itertools import product\n",
    "from time import time\n",
    "from math import log\n",
    "%load_ext autoreload\n",
    "%autoreload 2"
   ]
  },
  {
   "cell_type": "markdown",
   "metadata": {},
   "source": [
    "---\n",
    "# Funciones de la tensor network"
   ]
  },
  {
   "cell_type": "markdown",
   "metadata": {},
   "source": [
    "## Definimos los nodos de la Tensor Network"
   ]
  },
  {
   "cell_type": "code",
   "execution_count": 2,
   "metadata": {},
   "outputs": [],
   "source": [
    "from itertools import combinations\n",
    "from operator import index\n",
    "\n",
    "from numpy import dtype\n",
    "from sklearn import neighbors\n",
    "\n",
    "\n",
    "def node_0(Q_matrix_0: float, dits: int, tau: float):\n",
    "    tensor = np.zeros((dits, dits))\n",
    "    for index_a in range(dits):\n",
    "        tensor[index_a, index_a] = np.exp(-tau* Q_matrix_0 * index_a)\n",
    "    return tensor\n",
    "\n",
    "def node_grow(Q_matrix_row: np.array, dits: int, num_neight_updown, tau: float):\n",
    "    size_1 = dits**num_neight_updown\n",
    "    size_2 = size_1 * dits\n",
    "    tensor = np.zeros((size_1, size_2))\n",
    "    dit_list = list(range(dits))\n",
    "    combinations_up = product(dit_list, repeat = num_neight_updown)\n",
    "    for element in combinations_up:\n",
    "        for index_last in range(dits):\n",
    "            index_up = 0\n",
    "            for aux in range(num_neight_updown):\n",
    "                index_up += dits**aux*element[aux]\n",
    "            index_down = index_up + dits**(aux+1)*index_last\n",
    "            full_element = []\n",
    "            for aux in element:\n",
    "                full_element.append(aux)\n",
    "            full_element.append(index_last)\n",
    "            tensor[index_up, index_down] = 1\n",
    "            for aux in range(len(full_element)):\n",
    "                tensor[index_up, index_down] *= np.exp(-tau * Q_matrix_row[aux]*full_element[-1]*full_element[aux])\n",
    "    return tensor\n",
    "\n",
    "def node_intermediate(Q_matrix_row: np.array, dits: int, num_neight_updown, tau: float):\n",
    "    size_1 = dits**num_neight_updown\n",
    "    tensor = np.zeros((size_1, size_1))\n",
    "\n",
    "    dit_list = list(range(dits))\n",
    "    combinations_up = product(dit_list, repeat = num_neight_updown)\n",
    "    for element in combinations_up:\n",
    "        for index_last in range(dits):\n",
    "            full_element = []\n",
    "            index_up = 0\n",
    "            for aux in range(num_neight_updown):\n",
    "                index_up += dits**aux*element[aux]   \n",
    "            for aux in range(1,len(element)):\n",
    "                full_element.append(element[aux])\n",
    "            full_element.append(index_last)\n",
    "            index_down = 0\n",
    "            for aux in range(num_neight_updown):\n",
    "                index_down += dits**aux*full_element[aux]   \n",
    "            full_element.insert(0,element[0])\n",
    "            tensor[index_up, index_down] = 1\n",
    "            for aux in range(len(full_element)):\n",
    "                tensor[index_up, index_down] *= np.exp(-tau * Q_matrix_row[aux]*full_element[-1]*full_element[aux])\n",
    "   \n",
    "    return tensor\n",
    "                    \n",
    "\n",
    "def last_tensor(Q_matrix_row: np.array, dits: int, tau:float):\n",
    "    n_neighbors = (len(Q_matrix_row)-1)\n",
    "    tensor_size = int(dits**(n_neighbors))\n",
    "    tensor = np.zeros((tensor_size))\n",
    "    dit_list = list(range(dits))\n",
    "    combinations_up = product(dit_list, repeat = n_neighbors)\n",
    "    for element in combinations_up:\n",
    "        index_up = 0\n",
    "        for aux in range(n_neighbors):\n",
    "            index_up += dits**aux*element[aux]\n",
    "        for index_last in range(dits):\n",
    "            full_element = []\n",
    "            tensor_aux =1\n",
    "            for aux in element:\n",
    "                full_element.append(aux)\n",
    "            full_element.append(index_last)\n",
    "            for el in range(len(full_element)):\n",
    "                tensor_aux *= np.exp(-tau*Q_matrix_row[el]*full_element[el]*full_element[-1])\n",
    "            tensor[index_up] += tensor_aux\n",
    "\n",
    "    return tensor\n",
    "\n",
    "\n",
    "\n",
    "def new_inital_tensor(Q_matrix_row, dits: int, size_2, solution, n_neigh, tau:float):\n",
    "\n",
    "    size_1 = dits\n",
    "    tensor = np.zeros((size_1, size_2))\n",
    "\n",
    "    n = len(solution)+1\n",
    "\n",
    "    dit_list = list(range(dits))\n",
    "    solution = tuple(solution)\n",
    "    combinations_up = product(dit_list, repeat = n)\n",
    "    \n",
    "\n",
    "    index_down = 0\n",
    "    for aux in range(len(solution)):\n",
    "        index_down += dits**aux*solution[aux]\n",
    "\n",
    "\n",
    "    for element in combinations_up:\n",
    "        \n",
    "        if element[:-1] == solution:\n",
    "  \n",
    "            index_down_aux = index_down + dits**(n-1)*element[-1]\n",
    "\n",
    "            tensor[element[-1], index_down_aux] = 1\n",
    "             \n",
    "            for el in range(len(element)):          \n",
    "                tensor[element[-1], index_down_aux] *= np.exp(-tau*Q_matrix_row[el]*element[el]*element[-1])\n",
    "\n",
    "\n",
    "    return tensor\n",
    "\n"
   ]
  },
  {
   "cell_type": "markdown",
   "metadata": {},
   "source": [
    "## Generación de la Tensor Network"
   ]
  },
  {
   "cell_type": "code",
   "execution_count": 3,
   "metadata": {},
   "outputs": [],
   "source": [
    "def tensor_network_generator(Q_matrix:np.array, dits:float, n_neighbors:int, tau: float):\n",
    "    \"\"\"   \n",
    "    Args:\n",
    "\n",
    "    Return:\n",
    "\n",
    "    \"\"\"\n",
    "\n",
    "    n_variables  = len(Q_matrix[0])\n",
    "    intermediate_tensors = []\n",
    "    # generation of the first node\n",
    "    tensor = node_0(Q_matrix[0][0], dits, tau)\n",
    "    intermediate_tensors.append(tensor)\n",
    "    \n",
    "    # Generation of the intermediate nodes\n",
    "    for variable in range(1, n_variables-1):\n",
    "        \n",
    "        if variable < n_neighbors:\n",
    "            Q_matrix_row_input = Q_matrix[variable][max(0, variable-n_neighbors-1):variable+1]\n",
    "            tensor = node_grow(Q_matrix_row_input, dits, variable, tau)\n",
    "            intermediate_tensors.append(tensor)\n",
    "        else:\n",
    "            Q_matrix_row_input = Q_matrix[variable][variable-n_neighbors :variable+1]\n",
    "            tensor = node_intermediate(Q_matrix_row_input, dits, n_neighbors, tau)\n",
    "            intermediate_tensors.append(tensor)\n",
    "\n",
    "            \n",
    "    Q_matrix_row_input = Q_matrix[variable + 1][variable + 1-n_neighbors:variable+2]\n",
    "    tensor = last_tensor(Q_matrix_row_input, dits, tau)\n",
    "    intermediate_tensors.append(tensor)\n",
    "\n",
    "    return  intermediate_tensors"
   ]
  },
  {
   "cell_type": "markdown",
   "metadata": {},
   "source": [
    "## Conexión y contracción de toda la Tensor Network"
   ]
  },
  {
   "cell_type": "code",
   "execution_count": 4,
   "metadata": {},
   "outputs": [],
   "source": [
    "def tensor_network_contraction(tensor_list: list):\n",
    "    n_tensores = len(tensor_list)\n",
    "    intermediate_tensors = []\n",
    "    tensor = tensor_list[-1]\n",
    "    intermediate_tensors.append(tensor)\n",
    "    for index_ in range(n_tensores -1, 0, -1):\n",
    "        current_tensor = tensor_list[index_ -1]\n",
    "        tensor = current_tensor @ tensor\n",
    "        tensor /= np.linalg.norm(tensor)\n",
    "        intermediate_tensors.append(tensor)\n",
    "        \n",
    "    intermediate_tensors.reverse()\n",
    "    return tensor, intermediate_tensors\n",
    "    "
   ]
  },
  {
   "cell_type": "markdown",
   "metadata": {},
   "source": [
    "---\n",
    "# Función general"
   ]
  },
  {
   "cell_type": "markdown",
   "metadata": {},
   "source": [
    "Esta es la función que se encarga del proceso general. Se encarga del proceso de minimización resolviendo iterativamente cada una de las variables. Su proceso consiste en la creación de la tensor network, su contracción y la determinación de la variable a partir del vector resultante."
   ]
  },
  {
   "cell_type": "code",
   "execution_count": 5,
   "metadata": {},
   "outputs": [
    {
     "name": "stdout",
     "output_type": "stream",
     "text": [
      "2\n"
     ]
    }
   ],
   "source": [
    "sol = np.zeros((2))\n",
    "print(len(sol))"
   ]
  },
  {
   "cell_type": "code",
   "execution_count": 6,
   "metadata": {},
   "outputs": [],
   "source": [
    "from unittest import result\n",
    "\n",
    "from quantum_sim.main.general_functions import base_a_decimal\n",
    "\n",
    "\n",
    "def qubo_solver(Q_matrix:np.array, tau:float, dits: int, n_neighbors: int)->np.array:\n",
    "    n_variables = Q_matrix.shape[0]\n",
    "    #print(Q_matrix)\n",
    "    original_Q_matrix = Q_matrix.copy()\n",
    "    solution = np.zeros(n_variables, dtype = int)\n",
    "    tensor_network = tensor_network_generator(Q_matrix, dits, n_neighbors, tau)\n",
    "\n",
    "    result_contraction, intermediate_tensors = tensor_network_contraction(tensor_network)\n",
    "\n",
    "    solution[0] = np.argmax(abs(result_contraction))\n",
    "\n",
    "    Q_matrix[n_neighbors -1 , n_neighbors -1] += Q_matrix[n_neighbors -1, 0] * solution[0]\n",
    "\n",
    "    for node in range(1, n_variables-1):\n",
    "\n",
    "        if node < n_neighbors:\n",
    "            Q_matrix_row = Q_matrix[node][max(0, node-n_neighbors-1):node+1]\n",
    "            sol_aux = solution[max(0, node-n_neighbors-1):node]\n",
    "        else:\n",
    "            Q_matrix_row = Q_matrix[node][node-n_neighbors + 1:node+1]\n",
    "            sol_aux = solution[node-n_neighbors+1:node]\n",
    "\n",
    "        new_tensor = new_inital_tensor(Q_matrix_row, dits, intermediate_tensors[2].shape[0], sol_aux, n_neighbors, tau)\n",
    "\n",
    "        solution[node] = np.argmax(abs(new_tensor @ intermediate_tensors[2]))\n",
    "        \n",
    "        print(new_tensor @ intermediate_tensors[2])\n",
    "        intermediate_tensors.pop(0)\n",
    "        # if n_neighbors -1 + node < n_variables:\n",
    "        #     Q_matrix[n_neighbors -1 + node, n_neighbors -1 + node] += Q_matrix[n_neighbors -1, node] * solution[node]\n",
    "        for i in range(node + 2,len(Q_matrix)):  # Iteramos sobre las filas\n",
    "            Q_matrix[i, i] += Q_matrix[i, node] * solution[node]\n",
    "\n",
    "\n",
    "\n",
    "    cost1 = evaluar_qubo(original_Q_matrix, solution)\n",
    "    solution[-1] = 1\n",
    "    cost2 = evaluar_qubo(original_Q_matrix, solution)\n",
    "    if cost1 < cost2:\n",
    "        solution[-1] = 0\n",
    "\n",
    "\n",
    "\n",
    "\n",
    "\n",
    "    return solution\n"
   ]
  },
  {
   "cell_type": "markdown",
   "metadata": {},
   "source": [
    "---\n",
    "# Pruebas"
   ]
  },
  {
   "cell_type": "code",
   "execution_count": 7,
   "metadata": {},
   "outputs": [
    {
     "name": "stdout",
     "output_type": "stream",
     "text": [
      "3.954649869793464e-33\n"
     ]
    }
   ],
   "source": [
    "import math\n",
    "print(math.e**(-100 *(0.26183226+0.4842719)))"
   ]
  },
  {
   "cell_type": "code",
   "execution_count": 13,
   "metadata": {},
   "outputs": [
    {
     "name": "stdout",
     "output_type": "stream",
     "text": [
      "[4.15596964e-04 1.20480742e-24 3.22735374e-57]\n",
      "[4.15596964e-04 5.45829642e-29 2.12110162e-52]\n",
      "[3.14270478e-83 7.02713420e-54 4.27628309e-48]\n",
      "[1.00000000e+00 1.42813723e-36 8.17276352e-86]\n",
      "[1.37759508e-057 6.45230247e+002 3.63303742e+101]\n",
      "[5.85443992e-007 4.11370169e+050 4.94247484e+140]\n",
      "[1.08262165e-003 8.08924310e-071 4.01013534e-186]\n",
      "[1072.65540015 2456.35516554    5.89955773]\n",
      "tiempo 0.018477678298950195\n",
      "Solution TN:      [0 0 0 2 0 2 2 0 1 0]\n",
      "Coste de TN:      -1.0307780170199132\n"
     ]
    },
    {
     "data": {
      "text/plain": [
       "'\\n# RS\\nmejor_solucion, mejor_valor = recocido_simulado_qudo(Q_matrix, [0, 1, 2], 100, 0.95, 1000)\\nprint(\"Mejor solución encontrada:\", mejor_solucion)\\nprint(\"Mejor valor objetivo:\", evaluar_qubo(Q_matrix, mejor_solucion))\\n'"
      ]
     },
     "execution_count": 13,
     "metadata": {},
     "output_type": "execute_result"
    }
   ],
   "source": [
    "n_variables = 10\n",
    "n_vecinos = 4\n",
    "dits = 3\n",
    "tau = 100\n",
    "np.random.seed(53)\n",
    "# Generamos el caso\n",
    "\n",
    "Q_matrix = generar_matriz_qubo(n_variables, n_vecinos+1)\n",
    "Q_matrix/= np.linalg.norm(Q_matrix)\n",
    "Q_matrix_dict = matrix_QUBO_to_dict(Q_matrix)\n",
    "\n",
    "Q_matrix_copy = Q_matrix.copy()\n",
    "# Inicial RS\n",
    "x_inicial = np.random.randint(2, size=n_variables)\n",
    "\n",
    "\n",
    "\n",
    "# Dimod\n",
    "#solution_dimod = qubo_dimod_solver(Q_matrix_dict, \"neal\")\n",
    "#print('Coste de dimod iter: ', evaluar_qubo(Q_matrix, solution_dimod))\n",
    "\n",
    "#best_c = random_qubo_solver(Q_matrix)\n",
    "#print('Coste de Random: ', evaluar_qubo(Q_matrix, best_c))\n",
    "\n",
    "# TN\n",
    "inicio = time()\n",
    "solution = qubo_solver(Q_matrix_copy, tau, dits, n_vecinos)\n",
    "print(\"tiempo\", time()-inicio)\n",
    "print('Solution TN:     ', str(solution))\n",
    "print('Coste de TN:     ', evaluar_qubo(Q_matrix, solution))\n",
    "'''\n",
    "# RS\n",
    "mejor_solucion, mejor_valor = recocido_simulado_qudo(Q_matrix, [0, 1, 2], 100, 0.95, 1000)\n",
    "print(\"Mejor solución encontrada:\", mejor_solucion)\n",
    "print(\"Mejor valor objetivo:\", evaluar_qubo(Q_matrix, mejor_solucion))\n",
    "'''\n"
   ]
  }
 ],
 "metadata": {
  "kernelspec": {
   "display_name": "Python 3",
   "language": "python",
   "name": "python3"
  },
  "language_info": {
   "codemirror_mode": {
    "name": "ipython",
    "version": 3
   },
   "file_extension": ".py",
   "mimetype": "text/x-python",
   "name": "python",
   "nbconvert_exporter": "python",
   "pygments_lexer": "ipython3",
   "version": "3.10.11"
  }
 },
 "nbformat": 4,
 "nbformat_minor": 2
}
