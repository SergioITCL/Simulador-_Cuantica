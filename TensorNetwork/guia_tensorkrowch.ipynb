{
 "cells": [
  {
   "cell_type": "code",
   "execution_count": 1,
   "metadata": {},
   "outputs": [
    {
     "data": {
      "text/plain": [
       "Edge( node1[right] <-> node2[right] )"
      ]
     },
     "execution_count": 1,
     "metadata": {},
     "output_type": "execute_result"
    }
   ],
   "source": [
    "import torch\n",
    "import tensorkrowch as tk\n",
    "\n",
    "net = tk.TensorNetwork()\n",
    "\n",
    "node1 = tk.randn(shape=(7, 5),\n",
    "                 axes_names=('left', 'right'),\n",
    "                 name='node1',\n",
    "                 network=net,\n",
    "                 param_node=True)\n",
    "node2 = tk.randn(shape=(7, 5),\n",
    "                 axes_names=('left', 'right'),\n",
    "                 name='node2',\n",
    "                 network=net,\n",
    "                 param_node=True)\n",
    "\n",
    "node1['left'] ^ node2['left']\n",
    "node1['right'] ^ node2['right']"
   ]
  },
  {
   "cell_type": "markdown",
   "metadata": {},
   "source": [
    "La manera de inicializar un nodo es la siguiente:"
   ]
  },
  {
   "cell_type": "code",
   "execution_count": 40,
   "metadata": {},
   "outputs": [
    {
     "name": "stdout",
     "output_type": "stream",
     "text": [
      "torch.Size([2, 5, 2])\n",
      "Nodo(0)\n",
      "['up', 'down', 'left']\n"
     ]
    }
   ],
   "source": [
    "tensor = torch.randn(2, 5, 2)\n",
    "node = tk.Node(tensor = tensor, name = 'Nodo(0)', axes_names = ['up', 'down','left'])\n",
    "print(node.shape)\n",
    "print(node.name)\n",
    "print(node.axes_names)"
   ]
  },
  {
   "cell_type": "code",
   "execution_count": 37,
   "metadata": {},
   "outputs": [
    {
     "name": "stdout",
     "output_type": "stream",
     "text": [
      "0\n"
     ]
    }
   ],
   "source": [
    "node.get_axis('up').name = 'batch'  # Changes the axis' name\n",
    "idx = node.get_axis_num('batch')      # Devuelve el índice del nuevo edge\n",
    "print(idx) \n"
   ]
  },
  {
   "cell_type": "markdown",
   "metadata": {},
   "source": [
    "Como crear una Tensor Network. <br>\n",
    "La idea es conectar los índices entre los nodos."
   ]
  },
  {
   "cell_type": "code",
   "execution_count": null,
   "metadata": {},
   "outputs": [
    {
     "name": "stdout",
     "output_type": "stream",
     "text": [
      "Nodo(0)[other_left] <-> None\n"
     ]
    }
   ],
   "source": [
    "node['other_left']"
   ]
  },
  {
   "cell_type": "code",
   "execution_count": 44,
   "metadata": {},
   "outputs": [
    {
     "name": "stdout",
     "output_type": "stream",
     "text": [
      "True\n",
      "False\n"
     ]
    },
    {
     "data": {
      "text/plain": [
       "2"
      ]
     },
     "execution_count": 44,
     "metadata": {},
     "output_type": "execute_result"
    }
   ],
   "source": [
    "node['up'].is_dangling()  # Indicates if the edge is not connected\n",
    "print(node['up'].is_dangling())\n",
    "node['down'].is_batch()     # Indicates if the edge is a batch edge\n",
    "print(node['down'].is_batch())\n",
    "node['left'].size()         # Returns the shape of the node in that axis\n"
   ]
  },
  {
   "cell_type": "code",
   "execution_count": 76,
   "metadata": {},
   "outputs": [],
   "source": [
    "net = tk.TensorNetwork()\n",
    "\n",
    "node1 = tk.randn(shape=(2, 5, 2),\n",
    "                 axes_names=('left', 'input', 'right'),\n",
    "                 name='node1',\n",
    "                 network=net)\n",
    "node2 = tk.randn(shape=(2, 5, 2),\n",
    "                 axes_names=('left', 'input', 'right'),\n",
    "                 name='node2',\n",
    "                 network=net)\n",
    "\n",
    "assert net['node1'] is node1"
   ]
  },
  {
   "cell_type": "code",
   "execution_count": 62,
   "metadata": {},
   "outputs": [
    {
     "name": "stdout",
     "output_type": "stream",
     "text": [
      "{'node1': Node(\n",
      " \tname: node1\n",
      "\ttensor:\n",
      "\t\ttensor([[[ 0.0144,  0.0522],\n",
      "\t\t         [-0.6245,  0.3650],\n",
      "\t\t         [-0.2078, -1.0250],\n",
      "\t\t         [-1.3048,  0.0542],\n",
      "\t\t         [ 1.2640, -0.6706]],\n",
      "\t\t\n",
      "\t\t        [[ 0.1939, -2.7143],\n",
      "\t\t         [-1.4612,  0.4894],\n",
      "\t\t         [-1.2224, -0.8649],\n",
      "\t\t         [ 0.5690, -0.5865],\n",
      "\t\t         [-1.7156,  0.1706]]])\n",
      "\taxes:\n",
      "\t\t[left\n",
      "\t\t input\n",
      "\t\t right]\n",
      "\tedges:\n",
      "\t\t[node1[left] <-> None\n",
      "\t\t node1[input] <-> None\n",
      "\t\t node1[right] <-> None]), 'node2': Node(\n",
      " \tname: node2\n",
      "\ttensor:\n",
      "\t\ttensor([[[-1.0640, -1.1630],\n",
      "\t\t         [ 0.0913, -0.4974],\n",
      "\t\t         [-2.0165,  0.6627],\n",
      "\t\t         [-0.5640, -0.0977],\n",
      "\t\t         [-1.7670, -0.9756]],\n",
      "\t\t\n",
      "\t\t        [[ 2.1230,  2.5648],\n",
      "\t\t         [ 1.4863, -1.1141],\n",
      "\t\t         [ 0.5316, -0.5715],\n",
      "\t\t         [ 1.5027,  1.0017],\n",
      "\t\t         [-0.2192, -0.4888]]])\n",
      "\taxes:\n",
      "\t\t[left\n",
      "\t\t input\n",
      "\t\t right]\n",
      "\tedges:\n",
      "\t\t[node2[left] <-> None\n",
      "\t\t node2[input] <-> None\n",
      "\t\t node2[right] <-> None])}\n"
     ]
    }
   ],
   "source": [
    "print(net.nodes)"
   ]
  },
  {
   "cell_type": "markdown",
   "metadata": {},
   "source": [
    "La forma de concetar los nodos y formar un grafo es la siguiente:\n"
   ]
  },
  {
   "cell_type": "code",
   "execution_count": 63,
   "metadata": {},
   "outputs": [
    {
     "data": {
      "text/plain": [
       "Edge( node1[right] <-> node2[left] )"
      ]
     },
     "execution_count": 63,
     "metadata": {},
     "output_type": "execute_result"
    }
   ],
   "source": [
    "node1['right'] ^ node2['left']"
   ]
  },
  {
   "cell_type": "markdown",
   "metadata": {},
   "source": [
    "También se pueden desconectar los indices entre nodos de la red"
   ]
  },
  {
   "cell_type": "code",
   "execution_count": 64,
   "metadata": {},
   "outputs": [
    {
     "data": {
      "text/plain": [
       "(Edge( node1[right] <-> None )  (Dangling Edge),\n",
       " Edge( node2[left] <-> None )  (Dangling Edge))"
      ]
     },
     "execution_count": 64,
     "metadata": {},
     "output_type": "execute_result"
    }
   ],
   "source": [
    "node1['right'].disconnect()\n",
    "# o equivalementemente:\n",
    "#node1['right'] | node2['left']"
   ]
  },
  {
   "cell_type": "code",
   "execution_count": 72,
   "metadata": {},
   "outputs": [
    {
     "name": "stdout",
     "output_type": "stream",
     "text": [
      "{'node1': Node(\n",
      " \tname: node1\n",
      "\ttensor:\n",
      "\t\ttensor([[[ 0.0710,  1.5121],\n",
      "\t\t         [ 0.4031,  1.8117],\n",
      "\t\t         [-0.8171,  0.0182],\n",
      "\t\t         [-0.7247, -0.4807],\n",
      "\t\t         [ 0.0224, -1.1804]],\n",
      "\t\t\n",
      "\t\t        [[-0.6178, -1.6435],\n",
      "\t\t         [ 1.1140,  0.0356],\n",
      "\t\t         [-0.2043,  1.4699],\n",
      "\t\t         [ 2.1978, -0.1960],\n",
      "\t\t         [ 0.2491, -1.1544]]])\n",
      "\taxes:\n",
      "\t\t[left\n",
      "\t\t input\n",
      "\t\t right]\n",
      "\tedges:\n",
      "\t\t[node1[left] <-> None\n",
      "\t\t node1[input] <-> None\n",
      "\t\t node1[right] <-> None]), 'node2': Node(\n",
      " \tname: node2\n",
      "\ttensor:\n",
      "\t\ttensor([[[-0.4732, -1.1695],\n",
      "\t\t         [-0.5423, -0.4573],\n",
      "\t\t         [ 0.2777, -1.5348],\n",
      "\t\t         [-0.4735, -0.6570],\n",
      "\t\t         [-0.2003,  0.2000]],\n",
      "\t\t\n",
      "\t\t        [[ 1.5897, -0.3611],\n",
      "\t\t         [ 1.7032, -0.3615],\n",
      "\t\t         [-0.5912,  0.1822],\n",
      "\t\t         [-0.3847,  1.4065],\n",
      "\t\t         [ 0.1471, -0.4294]]])\n",
      "\taxes:\n",
      "\t\t[left\n",
      "\t\t input\n",
      "\t\t right]\n",
      "\tedges:\n",
      "\t\t[node2[left] <-> None\n",
      "\t\t node2[input] <-> None\n",
      "\t\t node2[right] <-> None])}\n"
     ]
    }
   ],
   "source": [
    "print(net.nodes)"
   ]
  },
  {
   "cell_type": "markdown",
   "metadata": {},
   "source": [
    "Veamos como contraer una tensor network"
   ]
  },
  {
   "cell_type": "code",
   "execution_count": 120,
   "metadata": {},
   "outputs": [
    {
     "name": "stdout",
     "output_type": "stream",
     "text": [
      "despues de la contracción\n",
      "['node1', 'node2', 'contract_edges']\n",
      "<class 'tensorkrowch.components.TensorNetwork'>\n"
     ]
    }
   ],
   "source": [
    "net = tk.TensorNetwork()\n",
    "\n",
    "node1 = tk.randn(shape=(2, 5, 2),\n",
    "                 axes_names=('left', 'input', 'right'),\n",
    "                 name='node1',\n",
    "                 network=net)\n",
    "node2 = tk.randn(shape=(2, 5, 2),\n",
    "                 axes_names=('left', 'input', 'right'),\n",
    "                 name='node2',\n",
    "                 network=net)\n",
    "\n",
    "assert net['node1'] is node1\n",
    "\n",
    "node1['left'] ^ node2['left']\n",
    "node1['right'] ^ node2['right']\n",
    "#node1['input'] ^ node2['input']\n",
    "\n",
    "#print(net.nodes)\n",
    "print(\"despues de la contracción\")\n",
    "result = node1@node2\n",
    "print(net.nodes_names)\n",
    "#v=tk.contract_between_(node1,node2)\n",
    "#cambiar el nombre de un nodo\n",
    "node1.name='hola'\n",
    "print(type(net))\n"
   ]
  },
  {
   "cell_type": "code",
   "execution_count": null,
   "metadata": {},
   "outputs": [],
   "source": []
  }
 ],
 "metadata": {
  "kernelspec": {
   "display_name": ".venv",
   "language": "python",
   "name": "python3"
  },
  "language_info": {
   "codemirror_mode": {
    "name": "ipython",
    "version": 3
   },
   "file_extension": ".py",
   "mimetype": "text/x-python",
   "name": "python",
   "nbconvert_exporter": "python",
   "pygments_lexer": "ipython3",
   "version": "3.10.12"
  }
 },
 "nbformat": 4,
 "nbformat_minor": 2
}
