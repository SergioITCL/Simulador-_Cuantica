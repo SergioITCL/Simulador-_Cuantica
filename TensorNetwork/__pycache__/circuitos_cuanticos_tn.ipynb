{
 "cells": [
  {
   "cell_type": "code",
   "execution_count": 1,
   "metadata": {},
   "outputs": [],
   "source": [
    "from operaciones import tensor_contraction, tensor_rearrangement, tensor_contraction_general\n",
    "from basic_tensors import*"
   ]
  },
  {
   "cell_type": "code",
   "execution_count": 14,
   "metadata": {},
   "outputs": [],
   "source": [
    "z=zero()\n",
    "u=uno()\n",
    "v1=zero()\n",
    "v2=zero()\n",
    "v3=zero()\n",
    "v4=zero()\n",
    "x=X()\n",
    "H=Hadamard()\n",
    "cnot=NOTC_arriba()\n",
    "\n",
    "copy=Copy_bajo()\n",
    "pasa= pas()"
   ]
  },
  {
   "cell_type": "code",
   "execution_count": 15,
   "metadata": {},
   "outputs": [
    {
     "name": "stdout",
     "output_type": "stream",
     "text": [
      "[array([0.70710678, 0.70710678]), [1, 0, 0, 0]]\n",
      "[array([[0.70710678, 0.        ],\n",
      "       [0.        , 0.70710678]]), [1, 0, 0, 1]]\n",
      "[array([[1., 0.],\n",
      "       [0., 1.]]), [1, 0, 1, 0]]\n",
      "[array([[0.70710678, 0.        ],\n",
      "       [0.        , 0.70710678]]), [2, 0, 0, 0]]\n"
     ]
    }
   ],
   "source": [
    "v1=tensor_contraction_general(v1,H,[(0,1)])\n",
    "print(v1)\n",
    "v1=tensor_contraction_general(v1,copy,[(0,1)])\n",
    "print(v1)\n",
    "\n",
    "v2=tensor_contraction_general(v2,cnot,[(0,1)])\n",
    "print(v2)\n",
    "T=tensor_contraction_general(v1,v2,[(1,1)])\n",
    "print(T)\n"
   ]
  }
 ],
 "metadata": {
  "kernelspec": {
   "display_name": ".venv",
   "language": "python",
   "name": "python3"
  },
  "language_info": {
   "codemirror_mode": {
    "name": "ipython",
    "version": 3
   },
   "file_extension": ".py",
   "mimetype": "text/x-python",
   "name": "python",
   "nbconvert_exporter": "python",
   "pygments_lexer": "ipython3",
   "version": "3.10.12"
  }
 },
 "nbformat": 4,
 "nbformat_minor": 2
}
