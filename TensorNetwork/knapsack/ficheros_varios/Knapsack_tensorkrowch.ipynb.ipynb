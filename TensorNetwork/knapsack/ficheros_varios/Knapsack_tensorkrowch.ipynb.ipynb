{
 "cells": [
  {
   "cell_type": "markdown",
   "metadata": {},
   "source": [
    "## Problema rellenar una mochila sin valores"
   ]
  },
  {
   "cell_type": "code",
   "execution_count": 11,
   "metadata": {},
   "outputs": [],
   "source": [
    "import numpy as np\n",
    "import torch\n",
    "import tensorkrowch as tk"
   ]
  },
  {
   "cell_type": "code",
   "execution_count": 34,
   "metadata": {},
   "outputs": [],
   "source": [
    "def tensor_generator(pesos:np.array, valores:np.array, n_elementos:np.array, capacidad:int, tao:float, lambda1:float):\n",
    "    lista_de_tensores = []\n",
    "    n_clases = len(pesos)\n",
    "    tensor = tensor_initial_generator(pesos[0],valores[0],n_elementos[0],capacidad,0,tao)\n",
    "\n",
    "    lista_de_tensores.append(tensor)\n",
    "\n",
    "    for n in range(1, n_clases-1):\n",
    "        tensor = tensor_intermediate_generator(pesos[n], valores[n], n_elementos[n], capacidad, tensor.shape[1],tao)\n",
    "        lista_de_tensores.append(tensor)\n",
    "\n",
    "    tensor = tensor_final_generator(pesos[-1], valores[-1], n_elementos[-1], capacidad, tensor.shape[1],tao, lambda1)\n",
    "    lista_de_tensores.append(tensor)\n",
    "\n",
    "    return lista_de_tensores\n",
    "\n"
   ]
  },
  {
   "cell_type": "code",
   "execution_count": 14,
   "metadata": {},
   "outputs": [],
   "source": [
    "def tensor_initial_generator(tn:tk.TensorNetwork, peso:int, valor:int, n_elementos:int, capacidad:int, previous_weight_solution:int,tao)->np.array:\n",
    "    \"\"\"\n",
    "    Funcion que genera el tensor inicial.\n",
    "    \"\"\"\n",
    "    tamaño_1 = min((capacidad-previous_weight_solution)//peso,n_elementos)+1\n",
    "    tamaño_2 = min(capacidad, (tamaño_1-1)*peso+previous_weight_solution)+1\n",
    "    tensor = np.zeros((tamaño_1,tamaño_2))\n",
    "    for i in range(tamaño_1):\n",
    "        elemento = i*peso + previous_weight_solution\n",
    "        tensor[i][elemento] = np.exp(tao*valor*i)\n",
    "    \n",
    "    node = tk.Node(tensor = torch.from_numpy(tensor), network = tn, name = 'Nodo(0)', axes_names = ['up', 'down'])\n",
    "    return node,tensor"
   ]
  },
  {
   "cell_type": "code",
   "execution_count": 15,
   "metadata": {},
   "outputs": [],
   "source": [
    "def tensor_intermediate_generator(tn:tk.TensorNetwork, peso:int, valor:int, n_elementos:int, capacidad:int, previous_weight:int,tao:float,value)->np.array:\n",
    "\n",
    "    tamaño_1 = previous_weight\n",
    "    tamaño_2 = min(capacidad, n_elementos*peso+previous_weight-1)+1\n",
    "    tensor = np.zeros((tamaño_1,tamaño_2))\n",
    "    for i in range(tamaño_1):\n",
    "        n_elementos_restantes = min((capacidad -i)//peso,n_elementos)+1\n",
    "        for  j in range(n_elementos_restantes):\n",
    "            elemento = i + j*peso\n",
    "            tensor[i][elemento] = np.exp(tao*valor*j)\n",
    "    node = tk.Node(tensor = torch.from_numpy(tensor), network = tn, name  = f'Nodo({value})', axes_names = ['up',  'down'])\n",
    "    return node,tensor"
   ]
  },
  {
   "cell_type": "code",
   "execution_count": 16,
   "metadata": {},
   "outputs": [],
   "source": [
    "def tensor_final_generator(tn:tk.TensorNetwork, peso:int, valor:int,n_elementos: int, capacidad: int, previous_weight:int, tao:float, lambda1:float)->np.array:\n",
    "    tamaño_1 = previous_weight\n",
    "    tensor = np.zeros((tamaño_1))\n",
    "    for i in range(tamaño_1):\n",
    "        n_elementos_posibles = min((capacidad -i)//peso,n_elementos)+1\n",
    "        for j in range(n_elementos_posibles):\n",
    "            elemento = i +j*peso\n",
    "            tensor[i] += np.exp(tao*j*valor)\n",
    "            #tensor[i] += np.exp(-tao*(capacidad - elemento))\n",
    "            #tensor[i] += np.exp(-lambda1*(capacidad - elemento))\n",
    "    node = tk.Node(tensor = torch.from_numpy(tensor), network = tn, name  = 'Nodo(f)', axes_names = ['up'])\n",
    "    return node, tensor"
   ]
  },
  {
   "cell_type": "code",
   "execution_count": 56,
   "metadata": {},
   "outputs": [],
   "source": [
    "def generate_tensor_network(pesos:np.array, valores:np.array, n_elementos:np.array, capacidad:int, tao:float, lambda1:float):\n",
    "    n_clases = len(pesos)\n",
    "    lista_de_tensores = []\n",
    "    tn = tk.TensorNetwork()\n",
    "    node,tensor = tensor_initial_generator(tn,pesos[0],valores[0],n_elementos[0],capacidad,0,tao)\n",
    "    lista_de_tensores.append(node)\n",
    "    for n in range(1,n_clases-1):\n",
    "        node,tensor = tensor_intermediate_generator(tn,pesos[n], valores[n], n_elementos[n], capacidad, tensor.shape[1],tao,n)\n",
    "        lista_de_tensores.append(node)\n",
    "\n",
    "    node,tensor = tensor_final_generator(tn,pesos[-1], valores[-1], n_elementos[-1], capacidad, tensor.shape[1],tao, lambda1)\n",
    "    lista_de_tensores.append(node)\n",
    "\n",
    "    return lista_de_tensores,tn\n",
    "\n",
    "\n",
    "def connect_tensor_network(lista_de_tensores: list):\n",
    "    n_clases = len(lista_de_tensores)\n",
    "    for n in range(0, n_clases-1):\n",
    "        lista_de_tensores[n]['down']^lista_de_tensores[n+1]['up']\n",
    "    return\n",
    "\n",
    "\n",
    "        "
   ]
  },
  {
   "cell_type": "code",
   "execution_count": 18,
   "metadata": {},
   "outputs": [],
   "source": [
    "def tensor_contraction(lista_de_tensores:list):\n",
    "\n",
    "    n_tensores = len(lista_de_tensores)\n",
    "    tensores_intermedios = []\n",
    "    vector = lista_de_tensores[-1]\n",
    "    tensores_intermedios.append(vector)\n",
    "    for j in range(n_tensores-1,0,-1):\n",
    "        vector = lista_de_tensores[j-1] @ vector\n",
    "        #if max(vector) > 1e200:\n",
    "            #vector = vector*1e-25\n",
    "        tensores_intermedios.append(vector)\n",
    "    tensores_intermedios.reverse()\n",
    "    return vector,tensores_intermedios\n"
   ]
  },
  {
   "cell_type": "code",
   "execution_count": null,
   "metadata": {},
   "outputs": [],
   "source": [
    "def solver(pesos:np.array, valores:np.array, n_elementos:np.array, capacidad:int, tao:float, lambda1:float)->np.array:\n",
    "    \"\"\"\n",
    "    Funcion que resuelve el problema de la mochila sin valores.\n",
    "    \"\"\" \n",
    "    n_clases = len(pesos)\n",
    "    solution = np.zeros(n_clases)\n",
    "    #lista_de_tensores = tensor_generator(pesos, valores, n_elementos, capacidad, tao, lambda1)\n",
    "    lista_de_tensores,tn = generate_tensor_network(pesos, valores, n_elementos, capacidad, tao, lambda1)\n",
    "    connect_tensor_network(lista_de_tensores)\n",
    "    vector_salida, tensores_intermedios = tensor_contraction(lista_de_tensores)\n",
    "\n",
    "\n",
    "    max = np.max(tensores_intermedios[0])\n",
    "    solution[0] = np.argmax(vector_salida.tensor)\n",
    "\n",
    "\n",
    "    for n in range(1,n_clases-1):\n",
    "        cuenta_peso = int(np.dot(solution[:n],pesos[:n]))\n",
    "        new_node1, new_initial_tensor = tensor_initial_generator(tn,pesos[n], valores[n], n_elementos[n], capacidad, cuenta_peso,tao)\n",
    "        aux_node = tk.Node(tensor = tensores_intermedios[n+1].tensor[:new_initial_tensor.shape[1]], network = tn, name  = 'Nodo_aux', axes_names = ['up'])\n",
    "        new_node1['down']^aux_node['up']\n",
    "        result = new_node1 @ aux_node\n",
    "        solution[n]= np.argmax(result.tensor)\n",
    "\n",
    "    cuenta_peso = np.dot(solution[:-1],pesos[:-1])\n",
    "    solution[-1] = min((capacidad-cuenta_peso)//pesos[-1],n_elementos[-1])\n",
    "    print(\"La solucion es: \", solution)\n",
    "    print(\"El peso total es: \", np.dot(solution,pesos))\n",
    "    print(\"El valor total es: \", np.dot(solution,valores))\n",
    "    return np.dot(solution,pesos),np.dot(solution,valores),max"
   ]
  },
  {
   "cell_type": "code",
   "execution_count": 62,
   "metadata": {},
   "outputs": [
    {
     "name": "stdout",
     "output_type": "stream",
     "text": [
      "La solucion es:  [0. 0. 0. 0. 0. 0. 0. 0. 0. 0. 0. 0. 0. 0. 0. 0. 0. 0. 0. 2. 0. 0. 0. 0.\n",
      " 5. 0. 0. 0. 0. 0. 0. 0. 0. 0. 0. 0. 0. 0. 5. 0. 0. 5. 5. 5. 5. 0. 0. 0.\n",
      " 0. 0. 0. 0. 0. 0. 5. 5. 0. 0. 0. 5. 0. 0. 0. 0. 0. 0. 0. 0. 5. 0. 5. 5.\n",
      " 0. 5. 5. 0. 0. 0. 5. 0. 0. 0. 0. 0. 0. 0. 5. 5. 3. 0. 0. 0. 0. 0. 5. 0.\n",
      " 0. 5. 5. 5.]\n",
      "El peso total es:  345.0\n",
      "El valor total es:  69.50501119801989\n"
     ]
    }
   ],
   "source": [
    "clases = 100\n",
    "capacidad = 345\n",
    "np.random.seed(1)\n",
    "pesos = np.random.randint(1,10,clases)\n",
    "valores = np.random.rand(clases)\n",
    "n_elementos = [5]*clases\n",
    "\n",
    "\n",
    "tao = 10\n",
    "lambda1 = 1\n",
    "\n",
    "b,c,g=solver(pesos,valores, n_elementos, capacidad, tao, lambda1)\n"
   ]
  },
  {
   "cell_type": "code",
   "execution_count": 60,
   "metadata": {},
   "outputs": [
    {
     "name": "stdout",
     "output_type": "stream",
     "text": [
      "Mejor solución encontrada (greedy): [0 0 0 5 5 5 0 0 0 5 0 5 0 5 0 0 0 0 0 5 0 0 0 0 5 0 0 0 0 0 0 0 0 0 0 0 0\n",
      " 0 0 0 0 5 0 5 5 0 0 0 0 0 0 0 0 0 5 5 0 0 0 5 0 0 0 0 0 0 0 0 5 0 5 5 0 2\n",
      " 5 0 0 0 0 0 0 0 0 0 0 0 5 5 1 0 0 0 0 0 5 0 0 5 5 5]\n",
      "Valor total de la mejor solución (greedy): 79.08540382349945\n",
      "Peso total de la mejor solución (greedy): 345\n"
     ]
    }
   ],
   "source": [
    "\n",
    "def mochila_greedy(pesos, valores, capacidad, n_elementos):\n",
    "    n_clases = len(pesos)\n",
    "    \n",
    "    # Calculamos la relación valor/peso para cada clase\n",
    "    valor_peso = valores / pesos\n",
    "    \n",
    "    # Ordenamos los elementos por su valor/peso de mayor a menor\n",
    "    indices_ordenados = np.argsort(valor_peso)[::-1]  # Orden descendente\n",
    "    \n",
    "    # Inicializamos variables\n",
    "    peso_actual = 0\n",
    "    valor_actual = 0\n",
    "    solucion = np.zeros(n_clases, dtype=int)\n",
    "    \n",
    "    # Recorremos los objetos en orden greedy\n",
    "    for i in indices_ordenados:\n",
    "        # Tomamos la mayor cantidad posible de este objeto sin exceder la capacidad\n",
    "        cantidad = min(n_elementos[i], (capacidad - peso_actual) // pesos[i])\n",
    "        solucion[i] = cantidad\n",
    "        peso_actual += cantidad * pesos[i]\n",
    "        valor_actual += cantidad * valores[i]\n",
    "        \n",
    "        # Si llenamos la capacidad, salimos del bucle\n",
    "        if peso_actual >= capacidad:\n",
    "            break\n",
    "    \n",
    "    return solucion, valor_actual\n",
    "\n",
    "# Ejecutamos el algoritmo\n",
    "\n",
    "mejor_solucion, mejor_valor = mochila_greedy(pesos, valores, capacidad, n_elementos)\n",
    "\n",
    "print(\"Mejor solución encontrada (greedy):\", mejor_solucion)\n",
    "print(\"Valor total de la mejor solución (greedy):\", mejor_valor)\n",
    "print(\"Peso total de la mejor solución (greedy):\", np.sum(mejor_solucion * pesos))\n",
    "#print(b==mejor_valor)"
   ]
  }
 ],
 "metadata": {
  "kernelspec": {
   "display_name": ".venv",
   "language": "python",
   "name": "python3"
  },
  "language_info": {
   "codemirror_mode": {
    "name": "ipython",
    "version": 3
   },
   "file_extension": ".py",
   "mimetype": "text/x-python",
   "name": "python",
   "nbconvert_exporter": "python",
   "pygments_lexer": "ipython3",
   "version": "3.10.12"
  }
 },
 "nbformat": 4,
 "nbformat_minor": 2
}
