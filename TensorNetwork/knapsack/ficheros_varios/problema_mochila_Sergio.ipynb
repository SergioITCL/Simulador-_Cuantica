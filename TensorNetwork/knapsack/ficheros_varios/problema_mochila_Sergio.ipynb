{
 "cells": [
  {
   "cell_type": "markdown",
   "metadata": {},
   "source": [
    "## Problema rellenar una mochila sin valores"
   ]
  },
  {
   "cell_type": "code",
   "execution_count": 2,
   "metadata": {},
   "outputs": [],
   "source": [
    "import numpy as np"
   ]
  },
  {
   "cell_type": "code",
   "execution_count": 3,
   "metadata": {},
   "outputs": [],
   "source": [
    "def tensor_generator(pesos:np.array, n_elementos:np.array, capacidad:int, tao:float):\n",
    "    lista_de_tensores = []\n",
    "    n_clases = len(pesos)\n",
    "    tensor = tensor_initial_generator(pesos[0],n_elementos[0],capacidad,0)\n",
    "\n",
    "    lista_de_tensores.append(tensor)\n",
    "\n",
    "    for n in range(1, n_clases-1):\n",
    "        tensor = tensor_intermediate_generator(pesos[n], n_elementos[n], capacidad, tensor.shape[1])\n",
    "        lista_de_tensores.append(tensor)\n",
    "\n",
    "    tensor = tensor_final_generator(pesos[-1], n_elementos[-1], capacidad, tensor.shape[1],tao)\n",
    "    lista_de_tensores.append(tensor)\n",
    "\n",
    "    return lista_de_tensores\n",
    "\n"
   ]
  },
  {
   "cell_type": "code",
   "execution_count": 4,
   "metadata": {},
   "outputs": [],
   "source": [
    "def tensor_initial_generator(peso:int, n_elementos:int, capacidad:int, previous_weight_solution:int =0)->np.array:\n",
    "    \"\"\"\n",
    "    Funcion que genera el tensor inicial.\n",
    "    \"\"\"\n",
    "    tamaño_1 = min((capacidad-previous_weight_solution)//peso,n_elementos)+1\n",
    "    tamaño_2 = min(capacidad, (tamaño_1-1)*peso+previous_weight_solution)+1\n",
    "    tensor = np.zeros((tamaño_1,tamaño_2))\n",
    "    for i in range(tamaño_1):\n",
    "        elemento = i*peso + previous_weight_solution\n",
    "        tensor[i][elemento] = 1\n",
    "    return tensor"
   ]
  },
  {
   "cell_type": "code",
   "execution_count": 5,
   "metadata": {},
   "outputs": [],
   "source": [
    "def tensor_intermediate_generator(peso:int, n_elementos:int, capacidad:int, previous_weight:int)->np.array:\n",
    "\n",
    "    tamaño_1 = previous_weight\n",
    "    tamaño_2 = min(capacidad, n_elementos*peso+previous_weight-1)+1\n",
    "    tensor = np.zeros((tamaño_1,tamaño_2))\n",
    "    for i in range(tamaño_1):\n",
    "        n_elementos_restantes = min((capacidad -i)//peso,n_elementos)+1\n",
    "        for  j in range(n_elementos_restantes):\n",
    "            elemento = i + j*peso\n",
    "            tensor[i][elemento] = 1\n",
    "\n",
    "    return tensor"
   ]
  },
  {
   "cell_type": "code",
   "execution_count": 6,
   "metadata": {},
   "outputs": [],
   "source": [
    "def tensor_final_generator(peso:int, n_elementos: int, capacidad: int, previous_weight:int, tao:float)->np.array:\n",
    "    tamaño_1 = previous_weight\n",
    "    tensor = np.zeros((tamaño_1))\n",
    "    for i in range(tamaño_1):\n",
    "        n_elementos_posibles = min((capacidad -i)//peso,n_elementos)+1\n",
    "        for j in range(n_elementos_posibles):\n",
    "            elemento = i +j*peso\n",
    "            tensor[i] += np.exp(tao*elemento)\n",
    "            #tensor[i] += np.exp(-tao*(capacidad - elemento))\n",
    "\n",
    "    return tensor"
   ]
  },
  {
   "cell_type": "code",
   "execution_count": 7,
   "metadata": {},
   "outputs": [],
   "source": [
    "def tensor_contraction(lista_de_tensores:list):\n",
    "\n",
    "    n_tensores = len(lista_de_tensores)\n",
    "    tensores_intermedios = []\n",
    "    vector = lista_de_tensores[-1]\n",
    "    tensores_intermedios.append(vector)\n",
    "    for j in range(n_tensores-1,0,-1):\n",
    "        vector = lista_de_tensores[j-1] @ vector\n",
    "\n",
    "        tensores_intermedios.append(vector)\n",
    "    tensores_intermedios.reverse()\n",
    "    return vector,tensores_intermedios\n"
   ]
  },
  {
   "cell_type": "code",
   "execution_count": 8,
   "metadata": {},
   "outputs": [],
   "source": [
    "def solver(pesos:np.array, n_elementos:np.array, capacidad:int, tao:float)->np.array:\n",
    "    \"\"\"\n",
    "    Funcion que resuelve el problema de la mochila sin valores.\n",
    "    \"\"\" \n",
    "    n_clases = len(pesos)\n",
    "    solution = np.zeros(n_clases)\n",
    "    lista_de_tensores = tensor_generator(pesos,n_elementos, capacidad, tao)\n",
    "\n",
    "    vector_salida, tensores_intermedios = tensor_contraction(lista_de_tensores)\n",
    "\n",
    "    solution[0] = np.argmax(vector_salida)\n",
    "\n",
    "\n",
    "    for n in range(1,n_clases-1):\n",
    "        cuenta_peso = int(np.dot(solution[:n],pesos[:n]))\n",
    "        new_initial_tensor = tensor_initial_generator(pesos[n], n_elementos[n], capacidad, cuenta_peso)\n",
    "        solution[n]= np.argmax(new_initial_tensor @ tensores_intermedios[n+1][:new_initial_tensor.shape[1]])\n",
    "\n",
    "    cuenta_peso = np.dot(solution[:-1],pesos[:-1])\n",
    "    solution[-1] = min((capacidad-cuenta_peso)//pesos[-1],n_elementos[-1])\n",
    "    #print(\"La solucion es: \", solution)\n",
    "    #print(\"El peso total es: \", np.dot(solution,pesos))\n",
    "    return solution"
   ]
  },
  {
   "cell_type": "code",
   "execution_count": 9,
   "metadata": {},
   "outputs": [],
   "source": [
    "clases = 50\n",
    "capacidad = 30000\n",
    "np.random.seed(1)\n",
    "pesos = np.random.randint(1,10,clases)\n",
    "n_elementos = [3]*clases\n",
    "\n",
    "tao = 0.2\n",
    "\n",
    "b=solver(pesos, n_elementos, capacidad, tao)\n"
   ]
  },
  {
   "cell_type": "code",
   "execution_count": 13,
   "metadata": {},
   "outputs": [
    {
     "ename": "NameError",
     "evalue": "name 'np' is not defined",
     "output_type": "error",
     "traceback": [
      "\u001b[0;31m---------------------------------------------------------------------------\u001b[0m",
      "\u001b[0;31mNameError\u001b[0m                                 Traceback (most recent call last)",
      "Cell \u001b[0;32mIn[1], line 4\u001b[0m\n\u001b[1;32m      2\u001b[0m \u001b[38;5;28;01mfrom\u001b[39;00m \u001b[38;5;21;01mtime\u001b[39;00m \u001b[38;5;28;01mimport\u001b[39;00m time\n\u001b[1;32m      3\u001b[0m tao\u001b[38;5;241m=\u001b[39m\u001b[38;5;241m0.1\u001b[39m\n\u001b[0;32m----> 4\u001b[0m num_clases\u001b[38;5;241m=\u001b[39m\u001b[43mnp\u001b[49m\u001b[38;5;241m.\u001b[39marange(\u001b[38;5;241m10\u001b[39m,\u001b[38;5;241m100\u001b[39m)\n\u001b[1;32m      5\u001b[0m tiempo\u001b[38;5;241m=\u001b[39m[]\n\u001b[1;32m      6\u001b[0m precision\u001b[38;5;241m=\u001b[39m[]\n",
      "\u001b[0;31mNameError\u001b[0m: name 'np' is not defined"
     ]
    }
   ],
   "source": [
    "import matplotlib.pyplot as plt\n",
    "from time import time\n",
    "tao=0.1\n",
    "num_clases=np.arange(10,100)\n",
    "tiempo=[]\n",
    "precision=[]\n",
    "for j in num_clases:\n",
    "    pesos = np.random.randint(1,10,j)\n",
    "    n_elementos = [3]*j\n",
    "    capacidad = j*10\n",
    "    inicio=time()\n",
    "    b=solver(pesos, n_elementos, capacidad, tao)\n",
    "    resultado=np.dot(b,pesos)\n",
    "    fin=time()\n",
    "    tiempo.append(fin-inicio)\n",
    "    precision.append(resultado/capacidad)\n",
    "\n",
    "\n",
    "\n",
    "plt.plot(num_clases, precision, marker='o', color='b', linestyle='-')  # 'o' para puntos, 'b' para color azul, '-' para línea sólida\n",
    "\n",
    "# Añadir etiquetas y título\n",
    "plt.xlabel(\"num_clases\")\n",
    "plt.ylabel(\"tiempo\")\n",
    "plt.title(\"Gráfico de línea con dos listas\")\n",
    "\n",
    "# Mostrar el gráfico\n",
    "plt.show()"
   ]
  },
  {
   "cell_type": "code",
   "execution_count": null,
   "metadata": {},
   "outputs": [],
   "source": []
  }
 ],
 "metadata": {
  "kernelspec": {
   "display_name": ".venv",
   "language": "python",
   "name": "python3"
  },
  "language_info": {
   "codemirror_mode": {
    "name": "ipython",
    "version": 3
   },
   "file_extension": ".py",
   "mimetype": "text/x-python",
   "name": "python",
   "nbconvert_exporter": "python",
   "pygments_lexer": "ipython3",
   "version": "3.10.12"
  }
 },
 "nbformat": 4,
 "nbformat_minor": 2
}
