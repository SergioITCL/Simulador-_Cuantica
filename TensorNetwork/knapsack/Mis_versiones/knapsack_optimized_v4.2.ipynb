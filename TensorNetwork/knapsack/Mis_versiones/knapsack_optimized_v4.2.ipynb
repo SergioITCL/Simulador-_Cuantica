{
 "cells": [
  {
   "cell_type": "markdown",
   "metadata": {},
   "source": [
    "# Notebook que permite resolver el problema del Knapsack con valores asociados"
   ]
  },
  {
   "cell_type": "markdown",
   "metadata": {},
   "source": [
    "En este Notebook se implementa el algoritmo que permite resolver el problema de la mochila, la idea es encontrar la configuración de objetos, cada uno asociado con un valor y un peso, que maximiza el valor total de los objetos seleccionados pero sin superar la capacidad C de la mochila."
   ]
  },
  {
   "cell_type": "markdown",
   "metadata": {},
   "source": [
    "Versiones:\n",
    "- v1. Aprovechamiento de la sparsity del problema e implementación en GPU, sirve para resolver problemas donde cada objeto puede ser seleccionado i veces.\n",
    "- v2. Aprovechamiento de la sparsity de los tensores generados teniendo en cuenta que solamente se forman dos diagonales no nulas, solo permite resolver el 0-1 knapsack\n",
    "- v3. Limpieza del notebook\n",
    "- v4. Generalización del método de sparsity en el caso de que cada objeto pueda ser seleccionado varias veces. <br>\n",
    "   -v4.2. Esta versión es un desarrollo análogo a a la v4. pero sin aprovechar los cálculos intermedios.\n",
    "\n",
    "- \n",
    "    \n",
    "\n",
    "    \n"
   ]
  },
  {
   "cell_type": "code",
   "execution_count": 17,
   "metadata": {},
   "outputs": [
    {
     "name": "stdout",
     "output_type": "stream",
     "text": [
      "The autoreload extension is already loaded. To reload it, use:\n",
      "  %reload_ext autoreload\n"
     ]
    }
   ],
   "source": [
    "#Librerías\n",
    "import numpy as np\n",
    "from scipy.sparse import csr_matrix\n",
    "from scipy.sparse import lil_matrix\n",
    "from time import time\n",
    "from scipy.sparse import diags\n",
    "\n",
    "%load_ext autoreload\n",
    "%autoreload 2\n"
   ]
  },
  {
   "cell_type": "markdown",
   "metadata": {},
   "source": [
    "---\n",
    "# Funciones de la tensor network"
   ]
  },
  {
   "cell_type": "markdown",
   "metadata": {},
   "source": [
    "## Definimos los nodos de la tensor network:"
   ]
  },
  {
   "cell_type": "code",
   "execution_count": 18,
   "metadata": {},
   "outputs": [],
   "source": [
    "def tensor_initial_generator(peso:int, valor:int, n_elementos:int, capacidad:int, previous_weight_solution:int)->np.array:\n",
    "    \"\"\"\n",
    "    Genera el primer tensor en formato sparse de la cadena.\n",
    "    Parameters:\n",
    "    - peso (int): Peso del primer elemento.\n",
    "    - valor (int): Valor del primer elemento.\n",
    "    - n_elementos (int): numero de veces que se repite el primer elemento.\n",
    "    - capacidad (int): capacidad limite de la mochila.\n",
    "    - previous_weight_solution (int): peso que se pasa desde arriba.\n",
    "    Returns:\n",
    "    - tensor: representación sparse del primer tensor.\n",
    "    - tensor.shape: dimensionalidad del tensor\n",
    "\n",
    "    \"\"\"\n",
    "    tamaño_1 = min((capacidad-previous_weight_solution)//peso,n_elementos)+1\n",
    "    tamaño_2 = min(capacidad, (tamaño_1-1)*peso+previous_weight_solution)+1\n",
    "    tensor = np.zeros((tamaño_1,tamaño_2))\n",
    "    for i in range(tamaño_1):\n",
    "        elemento = i*peso + previous_weight_solution\n",
    "        tensor[i][elemento] = valor**i\n",
    "    \n",
    "    return tensor,tensor.shape\n",
    "\n",
    "\n",
    "\n",
    "def tensor_intermediate_generator(peso: int, n_elementos: int, capacidad: int, previous_weight: int) -> tuple[tuple[int], list[int]]:\n",
    "    \"\"\"\n",
    "    Generador de los tensores intermedios, solamente se devuelven el número de elementos de cada diagonal no nula y la forma del tensor asociado.\n",
    "    Parameters:\n",
    "    - peso (int): Peso del elemento intermedio correspondiente.\n",
    "    - n_elementos (int): numero de veces que se repite el elemento intermedio correspondiente.\n",
    "    - capacidad (int): capacidad limite de la mochila.\n",
    "    - previous_weight_solution (int): peso que se pasa desde arriba.\n",
    "    Returns:\n",
    "    - tensor.shape: dimensionalidad del tensor.\n",
    "    - repetitions (list): numero de elementos no nulos que tienen ambas diagonales.\n",
    "\n",
    "    \"\"\"\n",
    "    \n",
    "    tamaño_1 = previous_weight\n",
    "    tamaño_2 = min(capacidad, n_elementos * peso + previous_weight - 1) + 1\n",
    "    repetitions=[tamaño_1]\n",
    "    tensor_shape = (tamaño_1,tamaño_2)\n",
    "    for element in range(1,n_elementos+1):\n",
    "        aux=min(tamaño_2-element*peso,tamaño_1)\n",
    "        if aux>=0:\n",
    "            repetitions.append(aux)\n",
    "    return tensor_shape,  repetitions\n",
    "\n",
    "def tensor_final_generator(peso:int, valor:int,n_elementos: int, capacidad: int, previous_weight:int) -> np.array:\n",
    "    \"\"\"\n",
    "    Generador del ultimo tensor.\n",
    "    Parameters:\n",
    "    - peso (int): Peso del ultimo elemento.\n",
    "    - valor (int): Valor del ultimo elemento.\n",
    "    - n_elementos (int): numero de veces que se repite el ultimo elemento.\n",
    "    - capacidad (int): capacidad limite de la mochila.\n",
    "    - previous_weight_solution (int): peso que se pasa desde arriba.\n",
    "\n",
    "    Returns:\n",
    "    - tensor: vector del último tensor.\n",
    "    \"\"\"\n",
    "    tamaño_1 = previous_weight\n",
    "    tensor = np.zeros((tamaño_1))\n",
    "    for i in range(tamaño_1):\n",
    "        n_elementos_posibles = min((capacidad -i)//peso,n_elementos)+1\n",
    "        for j in range(n_elementos_posibles):\n",
    "            tensor[i] += valor**j\n",
    "    return tensor"
   ]
  },
  {
   "cell_type": "markdown",
   "metadata": {},
   "source": [
    "## Función general que genera toda la información necesaria de la tensor network "
   ]
  },
  {
   "cell_type": "code",
   "execution_count": 19,
   "metadata": {},
   "outputs": [],
   "source": [
    "def tensor_generator(pesos:np.array, valores:np.array, n_elementos:np.array, capacidad:int,cumulative_weight) -> tuple[list[list], np.array]:\n",
    "    \"\"\"\n",
    "    Función que determina el número de elementos no nulos de las diagonales de los tensores intermedios y el tensor que representa el último nodo de la cadena.\n",
    "    Parameters:\n",
    "    - pesos (np.array): array de pesos de todos los objetos.\n",
    "    - valores (np.array): array de valores de todos los objetos.\n",
    "    - n_elementos (np.array): array que indica el número de veces que se puede repetir cada objeto, para el caso del 0-1 knapsack siempre vale uno.\n",
    "    - capacidad (int): capacidad limite de la mochila.\n",
    "\n",
    "    Returns:\n",
    "    - repeticiones = lista que incluye el número de elementos no nulos de cada tensor intermedio.\n",
    "    - tensor (np.array) = vector que representa el último nodo de la cadena.\n",
    "    \"\"\"\n",
    "    repeticiones = []\n",
    "    n_clases = len(pesos)\n",
    "    tensor_i,tensor_shape = tensor_initial_generator(pesos[0],valores[0],n_elementos[0],capacidad,cumulative_weight)\n",
    "    repeticiones.append([1,1])\n",
    "    for node in range(1, n_clases-1):\n",
    "        tensor_shape,repetitions = tensor_intermediate_generator(pesos[node], n_elementos[node], capacidad, tensor_shape[1])\n",
    "        repeticiones.append(repetitions)\n",
    "    tensor = tensor_final_generator(pesos[-1], valores[-1], n_elementos[-1], capacidad, tensor_shape[1])\n",
    "    return repeticiones,tensor,tensor_i"
   ]
  },
  {
   "cell_type": "markdown",
   "metadata": {},
   "source": [
    "## Función de contracción de los tensores"
   ]
  },
  {
   "cell_type": "code",
   "execution_count": 20,
   "metadata": {},
   "outputs": [],
   "source": [
    "\n",
    "def tensor_contraction(valores, pesos, repetitions, vector,tensor_initial) -> tuple[np.array, list[list]]:\n",
    "    \"\"\"\n",
    "    Funcion que contrae la tensor network y almacena los cálculos intermedios.\n",
    "    Parameters:\n",
    "    - pesos (np.array): array de pesos de todos los objetos.\n",
    "    - valores (np.array): array de valores de todos los objetos.\n",
    "    - n_elementos_0 (int) n_elementos de la primera clase\n",
    "    - repetitions: lista que contiene el número de elementos no nulos de cada tensor intermedio.\n",
    "    - vector (np.array): vector que representa el último nodo de la cadena. \n",
    "    Returns:\n",
    "    - last_tensor (np.array): tensor final despues de la contracción.\n",
    "    - tensores_intermedios (list[list])\n",
    "    \"\"\"\n",
    "    n_tensores = len(valores)\n",
    "\n",
    "    current_tensor = vector\n",
    "    #iteramos y contraemos sobre cada nodo de la cadena hasta el primer nodo, guardando en el proceso el tensor resultante de la contracción.\n",
    "    for node in range(n_tensores - 2, 0, -1):\n",
    "        current_tensor = multiplication(valores[node],repetitions[node],pesos[node],current_tensor)\n",
    "        #Si el elemento del tensor supera un cierto umbral lo dividiremos por un cierto valor para que no se produzca overflow\n",
    "        if np.max(current_tensor) > 1e200:\n",
    "            current_tensor*= 1e-15      \n",
    "    # Contraccion con el primer nodo, este presenta una estructura diferente al resto\n",
    "    last_tensor=np.dot(tensor_initial, current_tensor)\n",
    "    \n",
    "    return last_tensor\n",
    "\n",
    "\n",
    "def multiplication(diagonal_value, repetitions, peso, vector) -> np.array:\n",
    "\n",
    "    \"\"\"\n",
    "    Funcion auxiliar que simula la multiplicación de un vector denso por una matriz de elementos nulos excepto en dos diagonales.\n",
    "    Parameters:\n",
    "    - diagonal_value (int): valor del elemento de la segunda diagonal del tensor intermedio.\n",
    "    - n_elements_diag1 (int): numero de elementos de la primera diagonal.\n",
    "    - n_elements_diag2 (int): numero de elementos de la segunda diagonal.\n",
    "    - peso (int): peso del objeto a multiplicar, este valor implica la columna en la que empieza la segunda diagonal. \n",
    "    Returns:\n",
    "    - (np.array): vector que se obtiene al contraer el nodo y el vector denso.\n",
    "\n",
    "    \"\"\"\n",
    "    result =[]\n",
    "    result.append(vector[:repetitions[0]])\n",
    "    # vector denso desplazado y multiplicado por el valor.\n",
    "    for element in range(1,len(repetitions)):\n",
    "        #print(\"element\",element)\n",
    "        diag = np.zeros(repetitions[0])\n",
    "        #print(\"diagshape\",diag.shape)\n",
    "        #print(\"diag[:repetitions[element]]shape\",vector[peso*element:peso*element+repetitions[element]].shape)\n",
    "        diag[:repetitions[element]] = vector[peso*element:peso*element+repetitions[element]]\n",
    "        diag*=diagonal_value**element\n",
    "        result.append(diag)\n",
    " \n",
    "    return sum(result)\n"
   ]
  },
  {
   "cell_type": "markdown",
   "metadata": {},
   "source": [
    "## Función general"
   ]
  },
  {
   "cell_type": "code",
   "execution_count": 25,
   "metadata": {},
   "outputs": [],
   "source": [
    "\n",
    "def solver(pesos: np.array, valores: np.array, n_elementos: np.array, capacidad: int, tau: float) -> tuple[np.array, float]:\n",
    "    \"\"\"\n",
    "    Funcion global que permite computar el problema de la mochila con capacidad C a partir de unos pesos, valores y numero de veces que se repite cada clase.\n",
    "    Parameters:\n",
    "    - pesos (np.array): array de pesos de todos los objetos.\n",
    "    - valores (np.array): array de valores de todos los objetos.\n",
    "    - n_elementos (np.array): array que indica el número de veces que se puede repetir cada objeto.\n",
    "    - capacidad (int): capacidad limite de la mochila.\n",
    "    - tau (flat): parametro que determina la constante de la evolucion en tiempo imaginario\n",
    "    Returns:\n",
    "    - last_tensor (np.array): tensor final despues de la contracción.\n",
    "    - tensores_intermedios (list[list])\n",
    "    \"\"\"\n",
    "    # inicializacion de variables\n",
    "    valores_scaled = np.exp(valores * tau)\n",
    "    n_clases = len(pesos)\n",
    "    solution = np.zeros(n_clases)\n",
    "    # generamos la tensor network aprovechando la sparsity del problema (solo se necesita el tamaño de las diagonales de los tensores intermedios)\n",
    "    repetitions, vector_final, tensor_initial = tensor_generator(pesos, valores_scaled, n_elementos, capacidad,0)\n",
    "    # contraemos la tensor network, guardando los tensores intermedios para obtimizar calculos.\n",
    "    vector_salida = tensor_contraction(valores_scaled, pesos,repetitions, vector_final,tensor_initial)\n",
    "    # obtencion del resultado del primer objeto\n",
    "    solution[0] = np.argmax(abs(vector_salida))\n",
    "    # iteeracion en los nodos intermedios para obtener los resultados de los elementos intermedios\n",
    "    pesos2 = pesos.copy()\n",
    "    valores_scaled2 = valores_scaled.copy()\n",
    "    n_elementos2 = n_elementos.copy()\n",
    "    for node in range(1, n_clases - 1):\n",
    "        cumulative_weight = int(np.dot(solution[:node], pesos[:node]))\n",
    "        valores_scaled2 = valores_scaled2[1:]\n",
    "        pesos2 = pesos2[1:]\n",
    "        n_elementos2 = n_elementos2[1:]\n",
    "        \n",
    "        repetitions, vector_final,tensor_initial = tensor_generator(pesos2, valores_scaled2, n_elementos2, capacidad, cumulative_weight)\n",
    "    \n",
    "        vector_salida = tensor_contraction(valores_scaled2, pesos2,repetitions, vector_final, tensor_initial)\n",
    "\n",
    "        solution[node] = np.argmax(abs(vector_salida))\n",
    "    # obtencion del resultado del ultimo objeto\n",
    "    cumulative_weight = np.dot(solution[:-1], pesos[:-1])\n",
    "    solution[-1] = min((capacidad - cumulative_weight) // pesos[-1], n_elementos[-1])\n",
    "    return solution"
   ]
  },
  {
   "cell_type": "markdown",
   "metadata": {},
   "source": [
    "## Funciones auxiliares para la realización de las pruebas"
   ]
  },
  {
   "cell_type": "code",
   "execution_count": 22,
   "metadata": {},
   "outputs": [],
   "source": [
    "def mochila_greedy(pesos, valores, capacidad, n_elementos):\n",
    "    \"\"\"\n",
    "    Función que permite resolver el problema del knapsack empleando el algoritmo greedy, basicamente consiste en ordenar los elementos de la mochila de manera ascendente \n",
    "    en funcion del ratio valor/peso e ir seleccionando objetos hasta que llenen al maximo la mochila.\n",
    "    \"\"\"\n",
    "    n_clases = len(pesos)\n",
    "    # Calculamos la relación valor/peso para cada clase\n",
    "    valor_peso = valores / pesos\n",
    "    # Ordenamos los elementos por su valor/peso de mayor a menor\n",
    "    indices_ordenados = np.argsort(valor_peso)[::-1]  # Orden descendente\n",
    "    # Inicializamos variables\n",
    "    peso_actual = 0\n",
    "    valor_actual = 0\n",
    "    solucion = np.zeros(n_clases, dtype=int)\n",
    "    # Recorremos los objetos en orden greedy\n",
    "    for i in indices_ordenados:\n",
    "        # Tomamos la mayor cantidad posible de este objeto sin exceder la capacidad\n",
    "        cantidad = min(n_elementos[i], (capacidad - peso_actual) // pesos[i])\n",
    "        solucion[i] = cantidad\n",
    "        peso_actual += cantidad * pesos[i]\n",
    "        valor_actual += cantidad * valores[i]\n",
    "        # Si llenamos la capacidad, salimos del bucle\n",
    "        if peso_actual >= capacidad:\n",
    "            break\n",
    "    return solucion, valor_actual\n"
   ]
  },
  {
   "cell_type": "code",
   "execution_count": 23,
   "metadata": {},
   "outputs": [],
   "source": [
    "def leer_archivo_knapsack(ruta_archivo):\n",
    "    \"\"\"\n",
    "    Funcion que permite parsear los problemas de un github que contiene instancias de problemas knapsack a el input que toma el algoritmo de tensor network.\n",
    "        \"\"\"\n",
    "    with open(ruta_archivo, 'r') as archivo:\n",
    "        lineas = archivo.readlines()\n",
    "    # Limpiar líneas en blanco\n",
    "    lineas = [linea.strip() for linea in lineas if linea.strip()]\n",
    "    # Número de clases (primera línea)\n",
    "    clases = int(lineas[0].strip())\n",
    "    # Listas para almacenar los pesos y valores\n",
    "    pesos = []\n",
    "    valores = []\n",
    "    # Leer ítems (líneas desde la 2 hasta la penúltima)\n",
    "    for linea in lineas[1:-1]:  # Excluimos la primera y la última línea\n",
    "        datos = linea.split()\n",
    "        if len(datos) != 3:\n",
    "            print(f\"Advertencia: Línea no tiene 3 valores: {linea}\")\n",
    "            continue  # O puedes manejar este caso según sea necesario\n",
    "        id_, peso, valor = datos\n",
    "        pesos.append(int(peso))\n",
    "        valores.append(float(valor))\n",
    "    # Capacidad de la mochila (última línea)\n",
    "    capacidad = int(lineas[-1].strip())\n",
    "    return clases, pesos, valores, capacidad\n"
   ]
  },
  {
   "cell_type": "code",
   "execution_count": 26,
   "metadata": {},
   "outputs": [
    {
     "name": "stdout",
     "output_type": "stream",
     "text": [
      "Valor total de la mejor solución: 30.179535675845695\n",
      "Peso total de la mejor solución: 200.0\n",
      "Valor total de la mejor solución (greedy): 30.181204149933052\n",
      "Peso total de la mejor solución (greedy): 200\n"
     ]
    }
   ],
   "source": [
    "# descomentar estas lineas y comenar las siguientes si queremos resolver los problemas dados por la libreria de Github.\n",
    "# ruta = '/home/sergio/simulador/Simulador_Cuantica/quantum-sim/TensorNetwork/knapsack/knapsackProblemInstances/problemInstances/n_400_c_1000000_g_2_f_0.1_eps_0_s_100/test.in'\n",
    "# clases, pesos, valores, capacidad = leer_archivo_knapsack(ruta)\n",
    "\n",
    "clases = 100\n",
    "capacidad = 200\n",
    "np.random.seed(1)\n",
    "pesos = np.random.randint(1,10,clases)\n",
    "valores = np.random.rand(clases)\n",
    "pesos = np.array(pesos)\n",
    "valores = np.array(valores)\n",
    "n_elementos = [1]*clases\n",
    "tau = 10\n",
    "solution=solver(pesos,valores, n_elementos, capacidad, tau)\n",
    "#print(\"Mejor solución encontrada:\", solution)\n",
    "print(\"Valor total de la mejor solución:\", np.dot(solution, valores))\n",
    "print(\"Peso total de la mejor solución:\", np.dot(solution, pesos))\n",
    "mejor_solucion, mejor_valor = mochila_greedy(pesos, valores, capacidad, n_elementos)\n",
    "#print(\"Mejor solución encontrada (greedy):\", mejor_solucion)\n",
    "print(\"Valor total de la mejor solución (greedy):\", mejor_valor)\n",
    "print(\"Peso total de la mejor solución (greedy):\", np.sum(mejor_solucion * pesos))\n"
   ]
  },
  {
   "cell_type": "markdown",
   "metadata": {},
   "source": [
    "# Experimentación"
   ]
  },
  {
   "cell_type": "code",
   "execution_count": null,
   "metadata": {},
   "outputs": [],
   "source": [
    "from quantum_sim.main.guardar_experimentos import media_por_posicion, plot_function\n",
    "import matplotlib as plt"
   ]
  },
  {
   "cell_type": "markdown",
   "metadata": {},
   "source": [
    "# Dependencia entre el tiempo y la capacidad de la mochila"
   ]
  },
  {
   "cell_type": "markdown",
   "metadata": {},
   "source": [
    "\n",
    "En la teoría del algoritmo hemos visto que esta dependencia no debería de ser lineal"
   ]
  },
  {
   "cell_type": "code",
   "execution_count": 27,
   "metadata": {},
   "outputs": [],
   "source": [
    "def expe_capacidad_tiempo(c_i: list, num_clases: int, max_capacity: int, n_iter):\n",
    "    np.random.seed(1)\n",
    "    # magic numbers\n",
    "    CAPACIDAD_UMBRAL = 100\n",
    "    EXP_REPETITION = 10\n",
    "\n",
    "    # variables\n",
    "    tau = 1\n",
    "    tiempos, capacidades = [], []\n",
    "\n",
    "    pesos = np.random.randint(1, 10, num_clases)\n",
    "    valores = np.random.rand(num_clases)\n",
    "    capacidades_range = np.linspace(CAPACIDAD_UMBRAL, max_capacity, n_iter)\n",
    "\n",
    "    # Ejecucion del experimento\n",
    "    for n_elementos_ci in c_i:\n",
    "        n_elementos = [n_elementos_ci]*num_clases\n",
    "        capacidad_aux, tiempo_aux2 = [], []\n",
    "        for  iter in range(EXP_REPETITION):\n",
    "            tiempo_aux = []\n",
    "            for capacidad in capacidades_range:\n",
    "                if iter==0:\n",
    "                    capacidad_aux.append(capacidad)\n",
    "                inicio=time()\n",
    "                _ = solver(pesos,valores,n_elementos, int(round(capacidad)),tau)\n",
    "                tiempo_aux.append(time()-inicio)\n",
    "            tiempo_aux2.append(tiempo_aux)\n",
    "        tiempos.append(tiempo_aux2)\n",
    "        capacidades.append(capacidad_aux)\n",
    "\n",
    "    # Calculo de las medias\n",
    "    for i, tiempo in enumerate(tiempos.copy()):\n",
    "        tiempos[i] = media_por_posicion(tiempo)\n",
    "    return tiempos, capacidades"
   ]
  },
  {
   "cell_type": "code",
   "execution_count": 30,
   "metadata": {},
   "outputs": [],
   "source": [
    "tiempos, capacidades = expe_capacidad_tiempo([1,5,10],500,800,20)"
   ]
  },
  {
   "cell_type": "code",
   "execution_count": 31,
   "metadata": {},
   "outputs": [
    {
     "data": {
      "image/png": "[encoded data removed]",
      "text/plain": [
       "<Figure size 1200x800 with 1 Axes>"
      ]
     },
     "metadata": {},
     "output_type": "display_data"
    }
   ],
   "source": [
    "import numpy as np\n",
    "### Extraer los datos generados en el knapsack 0-1 optimizado\n",
    "filename = \"datos del 0-1 optimizado del knapsack_tiempo capacidad.txt\"\n",
    "# Leer el archivo y extraer arrays\n",
    "medias = []\n",
    "\n",
    "with open(filename, 'r') as file:\n",
    "    lines = file.readlines()\n",
    "    # Extraemos las líneas específicas\n",
    "    for i, line in enumerate(lines):\n",
    "        if \"medias de tiempos:\" in line:\n",
    "            medias = list(map(float, lines[i + 1].strip().split(\", \")))  # Cambiado a float\n",
    "        if \"capacidad:\" in line:\n",
    "            capacidad_opti = list(map(float, lines[i + 1].strip().split(\", \")))  # Cambiado a float\n",
    "\n",
    "cmap = plt.cm.turbo\n",
    "gradient = np.linspace(0, 1, 4)\n",
    "#plot_function(capacidad_opti, medias, \"Q\", \"t (s)\",titulo=\"capacity-time_159.pdf\",color='purple', marker='P', etiqueta=r\"$c_i=1$ optimizado\")\n",
    "plot_function(capacidades[0], tiempos[0], \"Q\", \"t (s)\",titulo=\"capacity-time_159.pdf\", color=cmap(gradient[1]), etiqueta=r\"$c_i=1$\")\n",
    "plot_function(capacidades[1], tiempos[1], \"Q\", \"t (s)\",titulo=\"capacity-time_159.pdf\",color=cmap(gradient[2]), marker='s', etiqueta=r\"$c_i=5$\")\n",
    "plot_function(capacidades[2], tiempos[2], \"Q\", \"t (s)\",titulo=\"capacity-time_159.pdf\",color=cmap(gradient[3]), marker='X', etiqueta=r\"$c_i=10$\")\n"
   ]
  },
  {
   "cell_type": "markdown",
   "metadata": {},
   "source": [
    "# Dependencia entre el tiempo y el numero de clases"
   ]
  },
  {
   "cell_type": "code",
   "execution_count": null,
   "metadata": {},
   "outputs": [],
   "source": [
    "def expe_clases_tiempo(c_i: list, max_capacity, n_inter,n_clases_max):\n",
    "    \"\"\"_summary_\n",
    "\n",
    "    Args:\n",
    "        c_i (list): lista que contiene el numero de elementos de los experimentos a realizar\n",
    "        max_capacity (_type_): capacidad maxima a introducir en cada experimento\n",
    "        n_inter (_type_): numero de puntos de cada experimento\n",
    "        n_clases_max (_type_): maximo numero de clases\n",
    "\n",
    "    Returns:\n",
    "       tiempos: media de los tiempos entre las 10 veces que se ha repetido el experimento\n",
    "       num_clases: lista con las clases utilizadas en los experimentos\n",
    "    \"\"\"\n",
    "    # magic number\n",
    "    Experiment_repetition = 10\n",
    "    Num_Clases_umbral = 100\n",
    "\n",
    "    # resultados\n",
    "    tiempos=[]\n",
    "    num_clases=[]\n",
    "    clases = np.linspace(Num_Clases_umbral,n_clases_max,n_inter)\n",
    "    clases = np.round(clases)\n",
    "    tau=1\n",
    "    for n_elementos_ci in c_i:\n",
    "        clas = []\n",
    "        tiempo_total = []\n",
    "        for iter in range(Experiment_repetition):\n",
    "            time_t=[]\n",
    "            for clase in clases:\n",
    "                clase = int(clase)\n",
    "                pesos = np.random.randint(1,Experiment_repetition,clase)\n",
    "                valores = np.random.rand(clase)\n",
    "                n_elementos = [n_elementos_ci]*clase\n",
    "                if iter==0:\n",
    "                    clas.append(clase)\n",
    "                inicio=time()\n",
    "                solution=solver(pesos,valores,n_elementos,int(max_capacity),tau)\n",
    "                time_t.append(time()-inicio)\n",
    "            tiempo_total.append(time_t)\n",
    "        tiempos.append(tiempo_total)\n",
    "        num_clases.append(clas)\n",
    "        \n",
    "    # Media de los experimentos    \n",
    "        i=0\n",
    "    for tiempo in tiempos:\n",
    "        tiempos[int(i)] = media_por_posicion(tiempo)\n",
    "        i=i+1\n",
    "    return tiempos, num_clases\n",
    "\n",
    "    "
   ]
  },
  {
   "cell_type": "code",
   "execution_count": null,
   "metadata": {},
   "outputs": [],
   "source": [
    "tiempos_cl, num_clases_total_cl = expe_clases_tiempo([1,5,10],1500,20,1000)"
   ]
  },
  {
   "cell_type": "code",
   "execution_count": null,
   "metadata": {},
   "outputs": [
    {
     "data": {
      "image/png": "[encoded data removed]",
      "text/plain": [
       "<Figure size 1200x800 with 1 Axes>"
      ]
     },
     "metadata": {},
     "output_type": "display_data"
    }
   ],
   "source": [
    "### Extraer los datos generados en el knapsack 0-1 optimizado\n",
    "filename = \"datos del 0-1 optimizado del knapsack_tiempo-num_clases.txt\"\n",
    "# Leer el archivo y extraer arrays\n",
    "medias = []\n",
    "\n",
    "with open(filename, 'r') as file:\n",
    "    lines = file.readlines()\n",
    "    # Extraemos las líneas específicas\n",
    "    for i, line in enumerate(lines):\n",
    "        if \"medias de tiempos:\" in line:\n",
    "            tiempos_opt = list(map(float, lines[i + 1].strip().split(\", \")))  # Cambiado a float\n",
    "        if \"num_clases:\" in line:\n",
    "            num_clases_opt = list(map(float, lines[i + 1].strip().split(\", \")))  # Cambiado a float\n",
    "\n",
    "cmap = plt.cm.turbo\n",
    "gradient = np.linspace(0, 1, 4)\n",
    "# Ploteo de los experimentos realizados\n",
    "#plot_function(num_clases_opt, tiempos_opt, r\"$n$\", \"t (s)\",titulo=\"clases-time_159.pdf\", color = cmap(gradient[0]), marker='P', etiqueta=r\"$c_i=1$ optimizado\")\n",
    "plot_function(num_clases_total_cl[0], tiempos_cl[0], r\"$n$\", \"t (s)\",titulo=\"clases-time.pdf\", color = cmap(gradient[1]), etiqueta=r\"$c_i=1$\")\n",
    "plot_function(num_clases_total_cl[1], tiempos_cl[1], r\"$n$\", \"t (s)\",titulo=\"clases-time.pdf\", marker='s', color = cmap(gradient[2]),  etiqueta=r\"$c_i=5$\")\n",
    "plot_function(num_clases_total_cl[2], tiempos_cl[2], r\"$n$\", \"t (s)\",titulo=\"clases-time.pdf\", marker='X',color = cmap(gradient[3]),  etiqueta=r\"$c_i=10$\")\n"
   ]
  },
  {
   "cell_type": "code",
   "execution_count": null,
   "metadata": {},
   "outputs": [],
   "source": [
    "plt.clear()"
   ]
  }
 ],
 "metadata": {
  "kernelspec": {
   "display_name": ".venv",
   "language": "python",
   "name": "python3"
  },
  "language_info": {
   "codemirror_mode": {
    "name": "ipython",
    "version": 3
   },
   "file_extension": ".py",
   "mimetype": "text/x-python",
   "name": "python",
   "nbconvert_exporter": "python",
   "pygments_lexer": "ipython3",
   "version": "3.10.12"
  }
 },
 "nbformat": 4,
 "nbformat_minor": 2
}
