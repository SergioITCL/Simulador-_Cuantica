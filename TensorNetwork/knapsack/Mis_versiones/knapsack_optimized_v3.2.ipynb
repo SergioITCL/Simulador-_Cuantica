{
 "cells": [
  {
   "cell_type": "markdown",
   "metadata": {},
   "source": [
    "# Notebook que permite resolver el problema del Knapsack con valores asociados"
   ]
  },
  {
   "cell_type": "markdown",
   "metadata": {},
   "source": [
    "En este Notebook se implementa el algoritmo que permite resolver el problema de la mochila, la idea es encontrar la configuración de objetos, cada uno asociado con un valor y un peso, que maximiza el valor total de los objetos seleccionados pero sin superar la capacidad C de la mochila."
   ]
  },
  {
   "cell_type": "markdown",
   "metadata": {},
   "source": [
    "Versiones:\n",
    "- v1. Aprovechamiento de la sparsity del problema e implementación en GPU, sirve para resolver problemas donde cada objeto puede ser seleccionado i veces.\n",
    "- v2. Aprovechamiento de la sparsity de los tensores generados teniendo en cuenta que solamente se forman dos diagonales no nulas, solo permite resolver el 0-1 knapsack\n",
    "- v3. Limpieza del notebook <br>\n",
    "    -v3.2 usando la libreria decimal\n",
    "    \n",
    "    \n",
    "\n",
    "    \n"
   ]
  },
  {
   "cell_type": "code",
   "execution_count": 1,
   "metadata": {},
   "outputs": [],
   "source": [
    "#Librerías\n",
    "import numpy as np\n",
    "from scipy.sparse import csr_matrix\n",
    "from scipy.sparse import lil_matrix\n",
    "from time import time\n",
    "from scipy.sparse import diags \n",
    "from ortools.algorithms.python import knapsack_solver\n",
    "from decimal import Decimal, getcontext\n",
    "from quantum_sim.main.guardar_experimentos import plot_function\n",
    "from quantum_sim.main.guardar_experimentos import guardar_experimento\n",
    "from quantum_sim.main.guardar_experimentos import media_por_posicion\n",
    "from quantum_sim.main.guardar_experimentos import random_color_rgb\n",
    "import matplotlib as plt\n",
    "import matplotlib.pyplot as plt\n"
   ]
  },
  {
   "cell_type": "markdown",
   "metadata": {},
   "source": [
    "---\n",
    "# Funciones de la tensor network"
   ]
  },
  {
   "cell_type": "markdown",
   "metadata": {},
   "source": [
    "## Definimos los nodos de la tensor network:"
   ]
  },
  {
   "cell_type": "code",
   "execution_count": 2,
   "metadata": {},
   "outputs": [],
   "source": [
    "\n",
    "def tensor_initial_generator(peso: int, valor: int, n_elementos: int, capacidad: int,previous_weight_solution: int) -> tuple[csr_matrix, tuple[int]]:\n",
    "    \"\"\"\n",
    "    Genera el primer tensor en formato sparse de la cadena.\n",
    "    Parameters:\n",
    "    - peso (int): Peso del primer elemento.\n",
    "    - valor (int): Valor del primer elemento.\n",
    "    - n_elementos (int): numero de veces que se repite el primer elemento, para el caso del 0-1 knapsack siempre vale uno.\n",
    "    - capacidad (int): capacidad limite de la mochila.\n",
    "    - previous_weight_solution (int): peso que se pasa desde arriba.\n",
    "    Returns:\n",
    "    - tensor: representación sparse del primer tensor.\n",
    "    - tensor.shape: dimensionalidad del tensor\n",
    "\n",
    "    \"\"\"\n",
    "    # Calculamos las dimensiones del tensor inicial\n",
    "    tamaño_1 = min((capacidad - previous_weight_solution) // peso, n_elementos) + 1\n",
    "    tamaño_2 = min(capacidad, (tamaño_1 - 1) * peso + previous_weight_solution) + 1\n",
    "    # Creamos el tensor en formato sparse, solamente tiene dos elementos no nulos.\n",
    "    tensor = np.zeros((tamaño_1, tamaño_2))\n",
    "    tensor = np.array([[Decimal(str(val)) for val in row] for row in tensor], dtype=object)\n",
    "    tensor[0,previous_weight_solution] = 1\n",
    "    tensor[tamaño_1-1,tamaño_2-1] = valor\n",
    "    return tensor, tensor.shape\n",
    "\n",
    "def tensor_intermediate_generator(peso: int, n_elementos: int, capacidad: int, previous_weight: int) -> tuple[tuple[int], list[int]]:\n",
    "    \"\"\"\n",
    "    Generador de los tensores intermedios, solamente se devuelven el número de elementos de cada diagonal no nula y la forma del tensor asociado.\n",
    "    Parameters:\n",
    "    - peso (int): Peso del elemento intermedio correspondiente.\n",
    "    - n_elementos (int): numero de veces que se repite el elemento intermedio correspondiente, para el caso del 0-1 knapsack siempre vale uno.\n",
    "    - capacidad (int): capacidad limite de la mochila.\n",
    "    - previous_weight_solution (int): peso que se pasa desde arriba.\n",
    "    Returns:\n",
    "    - tensor.shape: dimensionalidad del tensor.\n",
    "    - repetitions (list): numero de elementos no nulos que tienen ambas diagonales.\n",
    "\n",
    "    \"\"\"\n",
    "    \n",
    "    tamaño_1 = previous_weight\n",
    "    tamaño_2 = min(capacidad, n_elementos * peso + previous_weight - 1) + 1\n",
    "    tensor_shape = (tamaño_1,tamaño_2)\n",
    "    c2=min(tamaño_2-peso,tamaño_1)\n",
    "    repetitions=[tamaño_1,c2]\n",
    "    return tensor_shape,  repetitions\n",
    "\n",
    "def tensor_final_generator(peso:int, valor:int,n_elementos: int, capacidad: int, previous_weight:int) -> np.array:\n",
    "    \"\"\"\n",
    "    Generador del ultimo tensor.\n",
    "    Parameters:\n",
    "    - peso (int): Peso del ultimo elemento.\n",
    "    - valor (int): Valor del ultimo elemento.\n",
    "    - n_elementos (int): numero de veces que se repite el ultimo elemento, para el caso del 0-1 knapsack siempre vale uno.\n",
    "    - capacidad (int): capacidad limite de la mochila.\n",
    "    - previous_weight_solution (int): peso que se pasa desde arriba.\n",
    "\n",
    "    Returns:\n",
    "    - tensor: vector del último tensor.\n",
    "    \"\"\"\n",
    "    tamaño_1 = previous_weight\n",
    "    tensor = np.zeros((tamaño_1))\n",
    "    tensor = [Decimal(f\"{t}\") for t in tensor]\n",
    "    for i in range(tamaño_1):\n",
    "        n_elementos_posibles = min((capacidad -i)//peso,n_elementos)+1\n",
    "        tensor[i] = valor**(n_elementos_posibles-1)  \n",
    "    return tensor"
   ]
  },
  {
   "cell_type": "markdown",
   "metadata": {},
   "source": [
    "## Función general que genera toda la información necesaria de la tensor network "
   ]
  },
  {
   "cell_type": "code",
   "execution_count": 3,
   "metadata": {},
   "outputs": [],
   "source": [
    "def tensor_generator(pesos:np.array, valores:np.array, n_elementos:np.array, capacidad:int) -> tuple[list[list], np.array]:\n",
    "    \"\"\"\n",
    "    Función que determina el número de elementos no nulos de las diagonales de los tensores intermedios y el tensor que representa el último nodo de la cadena.\n",
    "    Parameters:\n",
    "    - pesos (np.array): array de pesos de todos los objetos.\n",
    "    - valores (np.array): array de valores de todos los objetos.\n",
    "    - n_elementos (np.array): array que indica el número de veces que se puede repetir cada objeto, para el caso del 0-1 knapsack siempre vale uno.\n",
    "    - capacidad (int): capacidad limite de la mochila.\n",
    "\n",
    "    Returns:\n",
    "    - repeticiones = lista que incluye el número de elementos no nulos de cada tensor intermedio.\n",
    "    - tensor (np.array) = vector que representa el último nodo de la cadena.\n",
    "    \"\"\"\n",
    "    repeticiones = []\n",
    "    n_clases = len(pesos)\n",
    "    tensor,tensor_shape = tensor_initial_generator(pesos[0],valores[0],n_elementos[0],capacidad,0)\n",
    "    repeticiones.append([1,1])\n",
    "    for node in range(1, n_clases-1):\n",
    "        tensor_shape,repetitions = tensor_intermediate_generator(pesos[node], n_elementos[node], capacidad, tensor_shape[1])\n",
    "        repeticiones.append(repetitions)\n",
    "    tensor = tensor_final_generator(pesos[-1], valores[-1], n_elementos[-1], capacidad, tensor_shape[1])\n",
    "    return repeticiones,tensor"
   ]
  },
  {
   "cell_type": "markdown",
   "metadata": {},
   "source": [
    "## Función de contracción de los tensores"
   ]
  },
  {
   "cell_type": "code",
   "execution_count": 4,
   "metadata": {},
   "outputs": [],
   "source": [
    "\n",
    "def tensor_contraction(valores, pesos, repetitions, vector) -> tuple[np.array, list[list]]:\n",
    "    \"\"\"\n",
    "    Funcion que contrae la tensor network y almacena los cálculos intermedios.\n",
    "    Parameters:\n",
    "    - pesos (np.array): array de pesos de todos los objetos.\n",
    "    - valores (np.array): array de valores de todos los objetos.\n",
    "    - repetitions: lista que contiene el número de elementos no nulos de cada tensor intermedio.\n",
    "    - vector (np.array): vector que representa el último nodo de la cadena. \n",
    "    Returns:\n",
    "    - last_tensor (np.array): tensor final despues de la contracción.\n",
    "    - tensores_intermedios (list[list])\n",
    "    \"\"\"\n",
    "    n_tensores = len(valores)\n",
    "    tensores_intermedios = []\n",
    "    tensores_intermedios.append(vector)\n",
    "    current_tensor = vector\n",
    "    #iteramos y contraemos sobre cada nodo de la cadena hasta el primer nodo, guardando en el proceso el tensor resultante de la contracción.\n",
    "    for node in range(n_tensores - 2, 0, -1):\n",
    "        n_elements_diag1 = repetitions[node][0]\n",
    "        n_elements_diag2 = repetitions[node][1]\n",
    "        current_tensor = multiplication(valores[node],n_elements_diag1,n_elements_diag2,pesos[node],current_tensor)\n",
    "        tensores_intermedios.append(current_tensor)\n",
    "        #Si el elemento del tensor supera un cierto umbral lo dividiremos por un cierto valor para que no se produzca overflow\n",
    "       \n",
    "        if current_tensor[0] > 1e200:\n",
    "            for i,element in enumerate(current_tensor):\n",
    "                current_tensor[i] = element /Decimal(f\"{current_tensor[0]}\")  \n",
    "\n",
    "    # Contraccion con el primer nodo, este presenta una estructura diferente al resto\n",
    "    last_tensor = np.array([current_tensor[0],current_tensor[-1]])\n",
    "    tensores_intermedios.append(last_tensor)\n",
    "    tensores_intermedios.reverse()\n",
    "    return last_tensor, tensores_intermedios\n",
    "\n",
    "\n",
    "def multiplication(diagonal_value, n_elements_diag1, n_elements_diag2, peso, vector) -> np.array:\n",
    "\n",
    "    \"\"\"\n",
    "    Funcion auxiliar que simula la multiplicación de un vector denso por una matriz de elementos nulos excepto en dos diagonales.\n",
    "    Parameters:\n",
    "    - diagonal_value (int): valor del elemento de la segunda diagonal del tensor intermedio.\n",
    "    - n_elements_diag1 (int): numero de elementos de la primera diagonal.\n",
    "    - n_elements_diag2 (int): numero de elementos de la segunda diagonal.\n",
    "    - peso (int): peso del objeto a multiplicar, este valor implica la columna en la que empieza la segunda diagonal. \n",
    "    Returns:\n",
    "    - (np.array): vector que se obtiene al contraer el nodo y el vector denso.\n",
    "\n",
    "    \"\"\"\n",
    "    # vector copia del denso de menor dimension.\n",
    "    result = vector[:n_elements_diag1]\n",
    "    # vector denso desplazado y multiplicado por el valor.\n",
    "    diag_2 = np.zeros(n_elements_diag1)\n",
    "    diag_2 = [Decimal(f\"{t}\") for t in diag_2]\n",
    "    diag_2[:n_elements_diag2] = vector[peso:peso+n_elements_diag2]\n",
    "    # Realiza la multiplicación\n",
    "    # Multiplicar por diagonal_value\n",
    "    for k in range(n_elements_diag1):\n",
    "        diag_2[k] =diag_2[k]*diagonal_value\n",
    "        result[k] = diag_2[k]+result[k]\n",
    "    return result+diag_2\n"
   ]
  },
  {
   "cell_type": "markdown",
   "metadata": {},
   "source": [
    "## Función general"
   ]
  },
  {
   "cell_type": "code",
   "execution_count": 5,
   "metadata": {},
   "outputs": [],
   "source": [
    "\n",
    "def solver(pesos: np.array, valores: np.array, n_elementos: np.array, capacidad: int, tau: float) -> tuple[np.array, float]:\n",
    "    \"\"\"\n",
    "    Funcion global que permite computar el problema de la mochila con capacidad C a partir de unos pesos, valores y numero de veces que se repite cada clase.\n",
    "    Parameters:\n",
    "    - pesos (np.array): array de pesos de todos los objetos.\n",
    "    - valores (np.array): array de valores de todos los objetos.\n",
    "    - n_elementos (np.array): array que indica el número de veces que se puede repetir cada objeto, para el caso del 0-1 knapsack siempre vale uno.\n",
    "    - capacidad (int): capacidad limite de la mochila.\n",
    "    - tau (flat): parametro que determina la constante de la evolucion en tiempo imaginario\n",
    "    Returns:\n",
    "    - last_tensor (np.array): tensor final despues de la contracción.\n",
    "    - tensores_intermedios (list[list])\n",
    "    \"\"\"\n",
    "    # inicializacion de variables\n",
    "    valores_scaled = np.exp(valores * tau)\n",
    "    valores_scaled = [Decimal(str(valor)) for valor in valores_scaled]\n",
    "    \n",
    "    n_clases = len(pesos)\n",
    "    solution = np.zeros(n_clases)\n",
    "    # generamos la tensor network aprovechando la sparsity del problema (solo se necesita el tamaño de las diagonales de los tensores intermedios)\n",
    "    repetitions, vector_final = tensor_generator(pesos, valores_scaled, n_elementos, capacidad)\n",
    "    # contraemos la tensor network, guardando los tensores intermedios para obtimizar calculos.\n",
    "    vector_salida, tensores_intermedios = tensor_contraction(valores_scaled, pesos, repetitions, vector_final)\n",
    " \n",
    "  \n",
    "    # obtencion del resultado del primer objeto\n",
    "    solution[0] = np.argmax(abs(vector_salida))\n",
    "    # iteeracion en los nodos intermedios para obtener los resultados de los elementos intermedios\n",
    "    for node in range(1, n_clases - 1):\n",
    "        tensores_intermedios.pop(0)\n",
    "        cumulative_weight = int(np.dot(solution[:node], pesos[:node]))\n",
    "        new_initial_tensor,tensor_shape = tensor_initial_generator(pesos[node], valores_scaled[node], n_elementos[node], capacidad, cumulative_weight)\n",
    "        solution[node] = np.argmax(abs(new_initial_tensor @ tensores_intermedios[1][:tensor_shape[1]]))\n",
    "    # obtencion del resultado del ultimo objeto\n",
    "    cumulative_weight = np.dot(solution[:-1], pesos[:-1])\n",
    "    solution[-1] = min((capacidad - cumulative_weight) // pesos[-1], n_elementos[-1])\n",
    "    return solution"
   ]
  },
  {
   "cell_type": "markdown",
   "metadata": {},
   "source": [
    "## Funciones auxiliares para la realización de las pruebas"
   ]
  },
  {
   "cell_type": "code",
   "execution_count": 6,
   "metadata": {},
   "outputs": [],
   "source": [
    "def mochila_greedy(pesos, valores, capacidad, n_elementos):\n",
    "    \"\"\"\n",
    "    Función que permite resolver el problema del knapsack empleando el algoritmo greedy, basicamente consiste en ordenar los elementos de la mochila de manera ascendente \n",
    "    en funcion del ratio valor/peso e ir seleccionando objetos hasta que llenen al maximo la mochila.\n",
    "    \"\"\"\n",
    "    n_clases = len(pesos)\n",
    "    # Calculamos la relación valor/peso para cada clase\n",
    "    valor_peso = valores / pesos\n",
    "    # Ordenamos los elementos por su valor/peso de mayor a menor\n",
    "    indices_ordenados = np.argsort(valor_peso)[::-1]  # Orden descendente\n",
    "    # Inicializamos variables\n",
    "    peso_actual = 0\n",
    "    valor_actual = 0\n",
    "    solucion = np.zeros(n_clases, dtype=int)\n",
    "    # Recorremos los objetos en orden greedy\n",
    "    for i in indices_ordenados:\n",
    "        # Tomamos la mayor cantidad posible de este objeto sin exceder la capacidad\n",
    "        cantidad = min(n_elementos[i], (capacidad - peso_actual) // pesos[i])\n",
    "        solucion[i] = cantidad\n",
    "        peso_actual += cantidad * pesos[i]\n",
    "        valor_actual += cantidad * valores[i]\n",
    "        # Si llenamos la capacidad, salimos del bucle\n",
    "        if peso_actual >= capacidad:\n",
    "            break\n",
    "    return solucion, valor_actual\n"
   ]
  },
  {
   "cell_type": "code",
   "execution_count": 7,
   "metadata": {},
   "outputs": [],
   "source": [
    "def google_solver(valores, pesos, capacidad):\n",
    "    solver = knapsack_solver.KnapsackSolver(\n",
    "    knapsack_solver.SolverType.KNAPSACK_MULTIDIMENSION_BRANCH_AND_BOUND_SOLVER,\"KnapsackExample\",)\n",
    "    solver.init(valores, [pesos], [capacidad])\n",
    "    computed_value = solver.solve()\n",
    "    packed_items = []\n",
    "    packed_weights = []\n",
    "    total_weight = 0\n",
    "    print(\"Total value =\", computed_value)\n",
    "    for i in range(len(valores)):\n",
    "        if solver.best_solution_contains(i):\n",
    "            packed_items.append(i)\n",
    "            packed_weights.append(pesos[i])\n",
    "            total_weight += pesos[i]\n",
    "    print(\"Total weight:\", total_weight)\n",
    "\n"
   ]
  },
  {
   "cell_type": "code",
   "execution_count": 8,
   "metadata": {},
   "outputs": [],
   "source": [
    "def leer_archivo_knapsack(ruta_archivo):\n",
    "    \"\"\"\n",
    "    Funcion que permite parsear los problemas de un github que contiene instancias de problemas knapsack a el input que toma el algoritmo de tensor network.\n",
    "        \"\"\"\n",
    "    with open(ruta_archivo, 'r') as archivo:\n",
    "        lineas = archivo.readlines()\n",
    "    # Limpiar líneas en blanco\n",
    "    lineas = [linea.strip() for linea in lineas if linea.strip()]\n",
    "    # Número de clases (primera línea)\n",
    "    clases = int(lineas[0].strip())\n",
    "    # Listas para almacenar los pesos y valores\n",
    "    pesos = []\n",
    "    valores = []\n",
    "    # Leer ítems (líneas desde la 2 hasta la penúltima)\n",
    "    for linea in lineas[1:-1]:  # Excluimos la primera y la última línea\n",
    "        datos = linea.split()\n",
    "        if len(datos) != 3:\n",
    "            print(f\"Advertencia: Línea no tiene 3 valores: {linea}\")\n",
    "            continue  # O puedes manejar este caso según sea necesario\n",
    "        id_, peso, valor = datos\n",
    "        pesos.append(int(peso))\n",
    "        valores.append(float(valor))\n",
    "    # Capacidad de la mochila (última línea)\n",
    "    capacidad = int(lineas[-1].strip())\n",
    "    return clases, pesos, valores, capacidad\n"
   ]
  },
  {
   "cell_type": "code",
   "execution_count": 159,
   "metadata": {},
   "outputs": [
    {
     "name": "stdout",
     "output_type": "stream",
     "text": [
      "1053\n",
      "Valor total de la mejor solución: 140.95884548424235\n",
      "Peso total de la mejor solución: 1053.0\n",
      "Valor total de la mejor solución (greedy): 140.9131870438942\n",
      "Peso total de la mejor solución (greedy): 1053\n",
      "Valor total de la mejor solución res: 140.95884548424235\n",
      "Peso total de la mejor solución res: 1053\n"
     ]
    }
   ],
   "source": [
    "# descomentar estas lineas y comenar las siguientes si queremos resolver los problemas dados por la libreria de Github.\n",
    "# ruta = '/home/sergio/simulador/Simulador_Cuantica/quantum-sim/TensorNetwork/knapsack/knapsackProblemInstances/problemInstances/n_400_c_1000000_g_2_f_0.1_eps_0_s_100/test.in'\n",
    "# clases, pesos, valores, capacidad = leer_archivo_knapsack(ruta)\n",
    "#np.random.seed(5234)\n",
    "clases = 300\n",
    "pesos = np.random.randint(1,10,clases)\n",
    "\n",
    "valores = np.random.rand(clases)\n",
    "n_elementos = [1]*clases\n",
    "max_capacity = sum(pesos*n_elementos[0])\n",
    "print(int(round(max_capacity*0.7)))\n",
    "\n",
    "tau = 700\n",
    "#valores = valores2/10\n",
    "\n",
    "solution=solver(pesos,valores, n_elementos, int(round(max_capacity*0.7)), tau)\n",
    "#print(\"Mejor solución encontrada:\", solution)\n",
    "print(\"Valor total de la mejor solución:\", np.dot(solution, valores))\n",
    "print(\"Peso total de la mejor solución:\", np.dot(solution, pesos))\n",
    "\n",
    "mejor_solucion, mejor_valor = mochila_greedy(pesos, valores, int(round(max_capacity*0.7)), n_elementos)\n",
    "#print(\"Mejor solución encontrada (greedy):\", mejor_solucion)\n",
    "print(\"Valor total de la mejor solución (greedy):\", np.dot(mejor_solucion, valores))\n",
    "print(\"Peso total de la mejor solución (greedy):\", np.sum(mejor_solucion * pesos))\n",
    "\n",
    "#knapsack.knapsack(pesos, valores).solve(int(round(max_capacity*0.7))) ## Este no funciona\n",
    "res = solve_single_knapsack(valores, pesos, int(round(max_capacity*0.7)),method='mt1r')\n",
    "print(\"Valor total de la mejor solución res:\", np.dot(res, valores))\n",
    "print(\"Peso total de la mejor solución res:\", np.sum(res * pesos))"
   ]
  },
  {
   "cell_type": "code",
   "execution_count": 64,
   "metadata": {},
   "outputs": [],
   "source": [
    "\n",
    "res = solve_single_knapsack(profits, weights, capacity)"
   ]
  },
  {
   "cell_type": "code",
   "execution_count": 38,
   "metadata": {},
   "outputs": [
    {
     "name": "stdout",
     "output_type": "stream",
     "text": [
      "2\n"
     ]
    }
   ],
   "source": [
    "print(sum(solution!=mejor_solucion))"
   ]
  },
  {
   "cell_type": "markdown",
   "metadata": {},
   "source": [
    "## Experimentación"
   ]
  },
  {
   "cell_type": "markdown",
   "metadata": {},
   "source": [
    "En esta parte del Notebook desarrollamos los experimentos relacionados con el algoritmo de tensor network del knapsack"
   ]
  },
  {
   "cell_type": "code",
   "execution_count": 29,
   "metadata": {},
   "outputs": [],
   "source": [
    "import matplotlib.pyplot as plt\n",
    "import random\n",
    "from time import time\n",
    "def guardar_experimento(nombre_archivo, descripcion_experimento, precision,tau, max_values,timet,capacity):\n",
    "    with open(nombre_archivo, 'a') as file:\n",
    "        file.write(f\"Descripción del experimento: {descripcion_experimento}\\n\")\n",
    "        file.write(f\"Precisión: {precision}\\n\")\n",
    "        file.write(f\"Valores tau: {tau}\\n\")\n",
    "        file.write(f\"Valores máximos: {max_values}\\n\")\n",
    "        file.write(f\"tiempos: {timet}\\n\")\n",
    "        file.write(f\"capacidad: {capacity}\\n\")\n",
    "        file.write(\"=\"*40 + \"\\n\")\n",
    "        \n",
    "def tau_experimento(clases,capacidad,pesos,valores,n_elementos,tau,lambda1,experimento):\n",
    "   precision=[]\n",
    "   max_values=[]\n",
    "   time = []\n",
    "   for t in tau:\n",
    "      inicio = time()\n",
    "      p1,v1,max=solver(pesos,valores,n_elementos,capacidad,t,lambda1)\n",
    "      fin = time()\n",
    "      tiempo = fin-inicio\n",
    "      p2,v2 = mochila_greedy(pesos,valores,capacidad,n_elementos)\n",
    "      time.append(tiempo)\n",
    "      precision.append(v1/v2)\n",
    "      max_values.append(max)\n",
    "   random_color = (random.random(), random.random(), random.random())\n",
    "   plt.plot(tau, precision, marker='o', color=random_color, linestyle='-')  # 'o' para puntos, 'b' para color azul, '-' para línea sólida\n",
    "   plt.axhline(y=1, color='gray', linestyle='--', linewidth=0.8)\n",
    "   # Añadir etiquetas y título\n",
    "   plt.xlabel(r\"$\\tau$\")\n",
    "   plt.ylabel(\"precision\")\n",
    "   plt.title(\"Gráfico de línea con dos listas\")\n",
    "   #plt.savefig(f\"grafico_precision_{experimento}.png\", format=\"png\", dpi=300)\n",
    "   nombre_archivo = f\"resultados_experimentos.txt\"\n",
    "   descripcion_experimento = f\"Experimento {experimento}, clases={clases} con min_tau={tau[0]} ,max_tau={tau[-1]},capacidad={int(0.75*(clases)*n_elementos[0])},n_elementos={n_elementos}, tiempo ={time}\"\n",
    "   guardar_experimento(nombre_archivo, descripcion_experimento, precision,tau, max_values,capacidad)\n",
    "   return precision,max_values"
   ]
  },
  {
   "cell_type": "code",
   "execution_count": 30,
   "metadata": {},
   "outputs": [
    {
     "name": "stdout",
     "output_type": "stream",
     "text": [
      "[0.01983763905750727, 0.9764143621690201, 0.9903620973022018, 0.9966101404707302, 0.9966101404707302, 0.9985565534674381, 0.9985565534674381, 0.9976991590529602, 0.9963075566679626, 0.9988907542007145, 0.9985760197520673, 0.9985760197520673, 0.9985760197520673, 0.9985760197520673, 0.9999999999999998, 0.9999999999999998, 0.9999999999999998, 0.9999999999999998, 0.9999999999999998, 0.9999999999999998]\n"
     ]
    },
    {
     "ename": "AttributeError",
     "evalue": "module 'matplotlib' has no attribute 'plot'",
     "output_type": "error",
     "traceback": [
      "\u001b[0;31m---------------------------------------------------------------------------\u001b[0m",
      "\u001b[0;31mAttributeError\u001b[0m                            Traceback (most recent call last)",
      "Cell \u001b[0;32mIn[30], line 24\u001b[0m\n\u001b[1;32m     22\u001b[0m \u001b[38;5;28mprint\u001b[39m(precition)\n\u001b[1;32m     23\u001b[0m random_color \u001b[38;5;241m=\u001b[39m (random\u001b[38;5;241m.\u001b[39mrandom(), random\u001b[38;5;241m.\u001b[39mrandom(), random\u001b[38;5;241m.\u001b[39mrandom())\n\u001b[0;32m---> 24\u001b[0m \u001b[43mplt\u001b[49m\u001b[38;5;241;43m.\u001b[39;49m\u001b[43mplot\u001b[49m(tau, precition, marker\u001b[38;5;241m=\u001b[39m\u001b[38;5;124m'\u001b[39m\u001b[38;5;124mo\u001b[39m\u001b[38;5;124m'\u001b[39m, color\u001b[38;5;241m=\u001b[39mrandom_color)  \u001b[38;5;66;03m# 'o' para puntos, 'b' para color azul, '-' para línea sólida\u001b[39;00m\n\u001b[1;32m     25\u001b[0m plt\u001b[38;5;241m.\u001b[39maxhline(y\u001b[38;5;241m=\u001b[39m\u001b[38;5;241m1\u001b[39m, color\u001b[38;5;241m=\u001b[39m\u001b[38;5;124m'\u001b[39m\u001b[38;5;124mgray\u001b[39m\u001b[38;5;124m'\u001b[39m, linestyle\u001b[38;5;241m=\u001b[39m\u001b[38;5;124m'\u001b[39m\u001b[38;5;124m--\u001b[39m\u001b[38;5;124m'\u001b[39m, linewidth\u001b[38;5;241m=\u001b[39m\u001b[38;5;241m0.8\u001b[39m)\n\u001b[1;32m     26\u001b[0m \u001b[38;5;66;03m# Añadir etiquetas y título\u001b[39;00m\n",
      "File \u001b[0;32m~/simulador/Simulador_Cuantica/.venv/lib/python3.10/site-packages/matplotlib/_api/__init__.py:217\u001b[0m, in \u001b[0;36mcaching_module_getattr.<locals>.__getattr__\u001b[0;34m(name)\u001b[0m\n\u001b[1;32m    215\u001b[0m \u001b[38;5;28;01mif\u001b[39;00m name \u001b[38;5;129;01min\u001b[39;00m props:\n\u001b[1;32m    216\u001b[0m     \u001b[38;5;28;01mreturn\u001b[39;00m props[name]\u001b[38;5;241m.\u001b[39m\u001b[38;5;21m__get__\u001b[39m(instance)\n\u001b[0;32m--> 217\u001b[0m \u001b[38;5;28;01mraise\u001b[39;00m \u001b[38;5;167;01mAttributeError\u001b[39;00m(\n\u001b[1;32m    218\u001b[0m     \u001b[38;5;124mf\u001b[39m\u001b[38;5;124m\"\u001b[39m\u001b[38;5;124mmodule \u001b[39m\u001b[38;5;132;01m{\u001b[39;00m\u001b[38;5;28mcls\u001b[39m\u001b[38;5;241m.\u001b[39m\u001b[38;5;18m__module__\u001b[39m\u001b[38;5;132;01m!r}\u001b[39;00m\u001b[38;5;124m has no attribute \u001b[39m\u001b[38;5;132;01m{\u001b[39;00mname\u001b[38;5;132;01m!r}\u001b[39;00m\u001b[38;5;124m\"\u001b[39m)\n",
      "\u001b[0;31mAttributeError\u001b[0m: module 'matplotlib' has no attribute 'plot'"
     ]
    }
   ],
   "source": [
    "\n",
    "from time import time\n",
    "import random\n",
    "import matplotlib as plt\n",
    "np.random.seed(1)\n",
    "clases = 100\n",
    "pesos = np.random.randint(1,10,clases)\n",
    "valores = np.random.rand(clases)\n",
    "n_elementos = [1]*clases\n",
    "clase = []\n",
    "tau = []\n",
    "precition = []\n",
    "max_capacity = sum(pesos*n_elementos[0])\n",
    "\n",
    "n_inter = 20\n",
    "t = np.linspace(0,30,n_inter)\n",
    "for tao in t:\n",
    "    tau.append(tao)\n",
    "    solution,max=solver(pesos,valores,n_elementos,int(np.round(max_capacity*0.8)),tao)\n",
    "    best_value = np.dot(solution, valores)\n",
    "    mejor_solucion, mejor_valor = mochila_greedy(pesos, valores, int(np.round(max_capacity*0.8)), n_elementos)\n",
    "    precition.append(best_value/mejor_valor)\n",
    "print(precition)\n",
    "random_color = (random.random(), random.random(), random.random())\n",
    "plt.plot(tau, precition, marker='o', color=random_color)  # 'o' para puntos, 'b' para color azul, '-' para línea sólida\n",
    "plt.axhline(y=1, color='gray', linestyle='--', linewidth=0.8)\n",
    "# Añadir etiquetas y título\n",
    "plt.xlabel(\"capacidad en porciento\")\n",
    "plt.ylabel(\"tiempo\")\n",
    "plt.title(\"Gráfico de línea con dos listas\")\n",
    "#plt.savefig(f\"grafico_precision_{experimento}.png\", format=\"png\", dpi=300)\n",
    "nombre_archivo = f\"resultados_experimentos.txt\"\n",
    "descripcion_experimento = f\"Experimento tiempo en función de clase, clases={clases}, pesos ={pesos}, valores = {valores} con tau={tau},n_elementos={n_elementos[0]}\"\n",
    "guardar_experimento(nombre_archivo, descripcion_experimento, precition,tau)\n",
    "\n"
   ]
  },
  {
   "cell_type": "code",
   "execution_count": 54,
   "metadata": {},
   "outputs": [],
   "source": [
    "def exp_error_tau(c_i: list, num_clases: int, n_iter: int, max_tau: float):\n",
    "    \"\"\"Experimento que permite realizar el experimento de determinar el error relativo en funcion del tau\n",
    "\n",
    "    Args:\n",
    "        num_clases (int): _description_\n",
    "        n_elementos (int): _description_\n",
    "        n_iter (int): _description_\n",
    "    \"\"\"\n",
    "\n",
    "    pesos = np.random.randint(1,10,num_clases)\n",
    "    valores = np.random.rand(num_clases)\n",
    "    tau = []\n",
    "    precition=[]\n",
    "    \n",
    "    tau_range = np.linspace(20,max_tau,n_iter)\n",
    "    for n_elementos_ci in c_i:\n",
    "        tau_aux =[]\n",
    "        precition_aux = []\n",
    "        n_elementos=[n_elementos_ci]*num_clases\n",
    "        valores_aux = valores/n_elementos_ci\n",
    "        max_capacity = sum(pesos*n_elementos[0])\n",
    "        for  tau_index in tau_range:\n",
    "            tau_aux.append(tau_index)\n",
    "            solution = solver(pesos, valores_aux,n_elementos, int(round(max_capacity*0.5)), tau_index)\n",
    "            valor_tn = np.dot(solution, valores)\n",
    "            solution_greedy, valor_greedy = mochila_greedy(pesos, valores, int(round(max_capacity*0.5)), n_elementos)\n",
    "            precition_aux.append(1-valor_tn/valor_greedy)\n",
    "        precition.append(precition_aux)\n",
    "        tau.append(tau_aux)\n",
    "    return tau, precition"
   ]
  },
  {
   "cell_type": "code",
   "execution_count": 97,
   "metadata": {},
   "outputs": [],
   "source": [
    "c_i = [1]\n",
    "np.random.seed(67)\n",
    "tau, precition = exp_error_tau(c_i, num_clases=100, n_iter=50, max_tau=700)\n",
    "\n"
   ]
  },
  {
   "cell_type": "code",
   "execution_count": 98,
   "metadata": {},
   "outputs": [
    {
     "data": {
      "image/png": "[encoded data removed]",
      "text/plain": [
       "<Figure size 1200x800 with 1 Axes>"
      ]
     },
     "metadata": {},
     "output_type": "display_data"
    }
   ],
   "source": [
    "np.random.seed(5)\n",
    "marker_list = ['o','s','v','*','d', 'P', 'X', '^']\n",
    "cmap = plt.cm.turbo\n",
    "gradient = np.linspace(0, 1, 2)\n",
    "for c_ii in range(len(c_i)):\n",
    "    plot_function(tau[c_ii], precition[c_ii], r\"$\\tau$\", r\"$\\epsilon_{relative}$\", titulo=\"tau-error.pdf\", color = cmap(gradient[c_ii]), etiqueta=f\"c_i={c_i[c_ii]}\", marker=marker_list[c_ii])"
   ]
  },
  {
   "cell_type": "code",
   "execution_count": 62,
   "metadata": {},
   "outputs": [
    {
     "data": {
      "text/plain": [
       "(25, [0, 3, 8, 9])"
      ]
     },
     "execution_count": 62,
     "metadata": {},
     "output_type": "execute_result"
    }
   ],
   "source": []
  }
 ],
 "metadata": {
  "kernelspec": {
   "display_name": ".venv",
   "language": "python",
   "name": "python3"
  },
  "language_info": {
   "codemirror_mode": {
    "name": "ipython",
    "version": 3
   },
   "file_extension": ".py",
   "mimetype": "text/x-python",
   "name": "python",
   "nbconvert_exporter": "python",
   "pygments_lexer": "ipython3",
   "version": "3.10.12"
  }
 },
 "nbformat": 4,
 "nbformat_minor": 2
}
