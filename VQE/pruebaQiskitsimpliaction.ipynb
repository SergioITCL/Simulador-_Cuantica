{
 "cells": [
  {
   "cell_type": "code",
   "execution_count": 15,
   "metadata": {},
   "outputs": [],
   "source": [
    "import numpy as np\n",
    "import math\n",
    "import cmath\n",
    "from math import  sqrt\n",
    "import qiskit\n",
    "from qiskit.visualization import array_to_latex\n",
    "X = np.array([[0, 1], [1, 0]])\n",
    "Z = np.array([[1, 0], [0, -1]])\n",
    "H1 = np.array([[1/sqrt(2), 1/sqrt(2)], [1/sqrt(2), -1/sqrt(2)]])\n",
    "H = np.array([[2, 3], [4, 5]])\n",
    "Y = np.array([[0, -1j],\n",
    "              [1j, 0]])\n",
    "I = np.array([[1, 0], [0, 1]])\n",
    "CNOT = np.array([[1, 0, 0, 0],\n",
    "                 [0, 1, 0, 0],\n",
    "                 [0, 0, 0, 1],\n",
    "                 [0, 0, 1, 0]])\n",
    "CNOT3=np.array([[1, 0, 0, 0,0,0,0,0],\n",
    "                 [0, 1, 0, 0,0,0,0,0],\n",
    "                 [0, 0, 1, 0,0,0,0,0],\n",
    "                 [0, 0, 0, 1,0,0,0,0],\n",
    "                 [0, 0, 0, 0,0,1,0,0],\n",
    "                 [0, 0, 0, 0,1,0,0,0],\n",
    "                 [0, 0, 0, 0,0,0,0,1],\n",
    "                 [0, 0, 0, 0,0,0,1,0]])\n",
    "SWAP = np.array([[1, 0, 0, 0],\n",
    "                 [0, 0, 1, 0],\n",
    "                 [0, 1, 0, 0],\n",
    "                 [0, 0, 0, 1]])\n",
    "T=np.array([[1, 0], [0, math.e**(math.pi/4)]])\n",
    "F=np.array([[1, 0],\n",
    "                     [0, np.exp(1j * np.pi/2)]])\n",
    "B=np.kron(I,H)\n",
    "array_to_latex(B, prefix='XX=')\n",
    "V1 = np.array([[2,3,4,5,6,7,8,9]])\n",
    "V2 = np.array([[2,6,4,8,3,7,5,9]])\n",
    "#V1 = np.random.rand(16)"
   ]
  },
  {
   "cell_type": "code",
   "execution_count": 16,
   "metadata": {},
   "outputs": [
    {
     "name": "stdout",
     "output_type": "stream",
     "text": [
      "[[ 3.53553391]\n",
      " [-0.70710678]\n",
      " [ 6.36396103]\n",
      " [-0.70710678]\n",
      " [ 9.19238816]\n",
      " [-0.70710678]\n",
      " [12.02081528]\n",
      " [-0.70710678]]\n",
      "[[ 3.53553391]\n",
      " [ 9.19238816]\n",
      " [ 6.36396103]\n",
      " [12.02081528]\n",
      " [-0.70710678]\n",
      " [-0.70710678]\n",
      " [-0.70710678]\n",
      " [-0.70710678]]\n"
     ]
    }
   ],
   "source": [
    "\n",
    "#print(tensor_product(I,I,H1))\n",
    "print(matrix_product(tensor_product(I,I,H1),V1.T))\n",
    "print(matrix_product(tensor_product(H1,I,I),V2.T))"
   ]
  },
  {
   "cell_type": "code",
   "execution_count": 5,
   "metadata": {},
   "outputs": [],
   "source": [
    "def tensor_product(*tensors):\n",
    "    \"\"\"\n",
    "    Compute the tensor product of multiple tensors.\n",
    "    \n",
    "    Parameters:\n",
    "        *tensors (list of np.ndarray): List of tensors to compute the tensor product.\n",
    "    \n",
    "    Returns:\n",
    "        np.ndarray: Resulting tensor after tensor product.\n",
    "    \"\"\"\n",
    "    result = tensors[0]\n",
    "    for tensor in tensors[1:]:\n",
    "        result = np.kron(result, tensor)\n",
    "    return result"
   ]
  },
  {
   "cell_type": "code",
   "execution_count": 4,
   "metadata": {},
   "outputs": [],
   "source": [
    "def matrix_product(*matrices):\n",
    "    \"\"\"\n",
    "    Compute the product of multiple matrices.\n",
    "    \n",
    "    Parameters:\n",
    "        *matrices (list of np.ndarray): List of matrices to compute the product.\n",
    "    \n",
    "    Returns:\n",
    "        np.ndarray: Resulting matrix after multiplication.\n",
    "    \"\"\"\n",
    "    # Verificar que hay al menos una matriz\n",
    "    if len(matrices) == 0:\n",
    "        raise ValueError(\"Se debe proporcionar al menos una matriz\")\n",
    "    \n",
    "    # Inicializar el resultado con la primera matriz\n",
    "    result = matrices[0]\n",
    "    \n",
    "    # Multiplicar secuencialmente las matrices\n",
    "    for matrix in matrices[1:]:\n",
    "        result = np.matmul(result, matrix)\n",
    "    \n",
    "    return result"
   ]
  },
  {
   "cell_type": "code",
   "execution_count": 39,
   "metadata": {},
   "outputs": [
    {
     "name": "stdout",
     "output_type": "stream",
     "text": [
      "[1 0 0 0 0 0 0 0 0 0 0 0 0 0 0 0]\n",
      "[0 1 0 0 0 0 0 0 0 0 0 0 0 0 0 0]\n",
      "[0 0 0 1 0 0 0 0 0 0 0 0 0 0 0 0]\n",
      "[0 0 1 0 0 0 0 0 0 0 0 0 0 0 0 0]\n",
      "[0 0 0 0 0 0 1 0 0 0 0 0 0 0 0 0]\n",
      "[0 0 0 0 0 0 0 1 0 0 0 0 0 0 0 0]\n",
      "[0 0 0 0 0 1 0 0 0 0 0 0 0 0 0 0]\n",
      "[0 0 0 0 1 0 0 0 0 0 0 0 0 0 0 0]\n",
      "[0 0 0 0 0 0 0 0 0 0 0 0 1 0 0 0]\n",
      "[0 0 0 0 0 0 0 0 0 0 0 0 0 1 0 0]\n",
      "[0 0 0 0 0 0 0 0 0 0 0 0 0 0 0 1]\n",
      "[0 0 0 0 0 0 0 0 0 0 0 0 0 0 1 0]\n",
      "[0 0 0 0 0 0 0 0 0 0 1 0 0 0 0 0]\n",
      "[0 0 0 0 0 0 0 0 0 0 0 1 0 0 0 0]\n",
      "[0 0 0 0 0 0 0 0 0 1 0 0 0 0 0 0]\n",
      "[0 0 0 0 0 0 0 0 1 0 0 0 0 0 0 0]\n"
     ]
    }
   ],
   "source": [
    "res=np.dot(np.dot(resultado1,resultado2),resultado3)\n",
    "for i in range(0,2**4):\n",
    "    print(res[i])"
   ]
  },
  {
   "cell_type": "code",
   "execution_count": 3,
   "metadata": {},
   "outputs": [
    {
     "name": "stdout",
     "output_type": "stream",
     "text": [
      "[1 0 0 0 0 0 0 0]\n",
      "[0 1 0 0 0 0 0 0]\n",
      "[0 0 1 0 0 0 0 0]\n",
      "[0 0 0 1 0 0 0 0]\n",
      "[0 0 0 0 0 0 1 0]\n",
      "[0 0 0 0 0 0 0 1]\n",
      "[0 0 0 0 1 0 0 0]\n",
      "[0 0 0 0 0 1 0 0]\n"
     ]
    },
    {
     "ename": "IndexError",
     "evalue": "index 8 is out of bounds for axis 0 with size 8",
     "output_type": "error",
     "traceback": [
      "\u001b[0;31m---------------------------------------------------------------------------\u001b[0m",
      "\u001b[0;31mIndexError\u001b[0m                                Traceback (most recent call last)",
      "Cell \u001b[0;32mIn[3], line 6\u001b[0m\n\u001b[1;32m      4\u001b[0m \u001b[38;5;66;03m#print(resultado)\u001b[39;00m\n\u001b[1;32m      5\u001b[0m \u001b[38;5;28;01mfor\u001b[39;00m i \u001b[38;5;129;01min\u001b[39;00m \u001b[38;5;28mrange\u001b[39m(\u001b[38;5;241m0\u001b[39m,\u001b[38;5;241m2\u001b[39m\u001b[38;5;241m*\u001b[39m\u001b[38;5;241m*\u001b[39m\u001b[38;5;241m4\u001b[39m):\n\u001b[0;32m----> 6\u001b[0m     \u001b[38;5;28mprint\u001b[39m(\u001b[43mresultado\u001b[49m\u001b[43m[\u001b[49m\u001b[43mi\u001b[49m\u001b[43m]\u001b[49m)\n\u001b[1;32m      7\u001b[0m \u001b[38;5;66;03m#print(resultado.dot(V.T))\u001b[39;00m\n\u001b[1;32m      8\u001b[0m array_to_latex(resultado, prefix\u001b[38;5;241m=\u001b[39m\u001b[38;5;124m'\u001b[39m\u001b[38;5;124mIIM=\u001b[39m\u001b[38;5;124m'\u001b[39m)\n",
      "\u001b[0;31mIndexError\u001b[0m: index 8 is out of bounds for axis 0 with size 8"
     ]
    }
   ],
   "source": [
    "resultado = tensor_product(CNOT,I)\n",
    "\n",
    "\n",
    "#print(resultado)\n",
    "for i in range(0,2**4):\n",
    "    print(resultado[i])\n",
    "#print(resultado.dot(V.T))\n",
    "array_to_latex(resultado, prefix='IIM=')"
   ]
  },
  {
   "cell_type": "code",
   "execution_count": 3,
   "metadata": {},
   "outputs": [
    {
     "name": "stdout",
     "output_type": "stream",
     "text": [
      "Tiempo transcurrido: 86.2362077236\n"
     ]
    },
    {
     "data": {
      "text/plain": [
       "'\\ninicio = time()\\nV3=np.zeros((n))\\n\\nV2 = np.zeros((n, 4))\\nH = np.array([[2, 3], [4, 5]])\\nK=n/2**1\\nfor i in range(0,m):\\n        V2[i]=[i,n/2+i,H[0][0],H[0][1]]\\nfor i in range(0,m):\\n    V2[i+m]=[i,n/2+i,H[1][0],H[1][1]]\\n\\n\\nfor i in range(0,n):\\n    V3[i] = V[int(V2[i][0])] * V2[i][2] + V[int(V2[i][1])] * V2[i][3]\\nfin = time()\\nprint(\"Tiempo transcurrido:\", \"{:.10f}\".format(fin-inicio))\\n#print(V3)\\n'"
      ]
     },
     "execution_count": 3,
     "metadata": {},
     "output_type": "execute_result"
    }
   ],
   "source": [
    "n=2**30\n",
    "from time import time\n",
    "import numpy as np\n",
    "inicio = time()\n",
    "m=int(n/2)\n",
    "V = np.random.rand(n)\n",
    "\n",
    "#np.savetxt(\"datos.txt\", V, delimiter=\",\")\n",
    "#memoria = V.nbytes\n",
    "\n",
    "#print(\"El array ocupa {} bytes de memoria.\".format(memoria))\n",
    "#print(V)\n",
    "#print(resultado.dot(V.T))\n",
    "fin = time()\n",
    "print(\"Tiempo transcurrido:\", \"{:.10f}\".format(fin-inicio))\n",
    "\n",
    "inicio = time()\n",
    "V3=np.zeros((n))\n",
    "\n",
    "V2 = np.zeros((n, 4))\n",
    "H = np.array([[2, 3], [4, 5]])\n",
    "K=n/2**1\n",
    "for i in range(0,m):\n",
    "        V2[i]=[i,n/2+i,H[0][0],H[0][1]]\n",
    "for i in range(0,m):\n",
    "    V2[i+m]=[i,n/2+i,H[1][0],H[1][1]]\n",
    "\n",
    "\n",
    "for i in range(0,n):\n",
    "    V3[i] = V[int(V2[i][0])] * V2[i][2] + V[int(V2[i][1])] * V2[i][3]\n",
    "fin = time()\n",
    "print(\"Tiempo transcurrido:\", \"{:.10f}\".format(fin-inicio))\n",
    "#print(V3)\n"
   ]
  },
  {
   "cell_type": "code",
   "execution_count": 5,
   "metadata": {},
   "outputs": [
    {
     "name": "stderr",
     "output_type": "stream",
     "text": [
      "/mnt/c/Users/sergio.muniz/Desktop/VQE/.venv/lib/python3.10/site-packages/numpy/core/getlimits.py:542: UserWarning: Signature b'\\x00\\xd0\\xcc\\xcc\\xcc\\xcc\\xcc\\xcc\\xfb\\xbf\\x00\\x00\\x00\\x00\\x00\\x00' for <class 'numpy.longdouble'> does not match any known type: falling back to type probe function.\n",
      "This warnings indicates broken support for the dtype!\n",
      "  machar = _get_machar(dtype)\n"
     ]
    },
    {
     "name": "stdout",
     "output_type": "stream",
     "text": [
      "Datos guardados en data.h5\n"
     ]
    }
   ],
   "source": [
    "import h5py\n",
    "import numpy as np\n",
    "\n",
    "# Crear un array de ejemplo\n",
    "data = np.random.rand(2**30)\n",
    "\n",
    "# Crear y abrir un archivo HDF5\n",
    "with h5py.File('data2.h5', 'w') as f:\n",
    "    # Crear un dataset y escribir datos en él\n",
    "    f.create_dataset('dataset_name', data=data)\n",
    "\n",
    "print(\"Datos guardados en data.h5\")"
   ]
  },
  {
   "cell_type": "code",
   "execution_count": 1,
   "metadata": {},
   "outputs": [
    {
     "name": "stderr",
     "output_type": "stream",
     "text": [
      "/mnt/c/Users/sergio.muniz/Desktop/VQE/.venv/lib/python3.10/site-packages/numpy/core/getlimits.py:542: UserWarning: Signature b'\\x00\\xd0\\xcc\\xcc\\xcc\\xcc\\xcc\\xcc\\xfb\\xbf\\x00\\x00\\x00\\x00\\x00\\x00' for <class 'numpy.longdouble'> does not match any known type: falling back to type probe function.\n",
      "This warnings indicates broken support for the dtype!\n",
      "  machar = _get_machar(dtype)\n"
     ]
    },
    {
     "name": "stdout",
     "output_type": "stream",
     "text": [
      "Datos leídos del archivo HDF5:\n",
      "[0.51588309 0.73402182 0.96068939 ... 0.09398869 0.1868338  0.80659484]\n"
     ]
    }
   ],
   "source": [
    "import h5py\n",
    "import numpy as np\n",
    "with h5py.File('data.h5', 'r') as f:\n",
    "    # Acceder al dataset\n",
    "    dataset = f['dataset_name']\n",
    "    \n",
    "    # Leer los datos del dataset\n",
    "    data = np.array(dataset)\n",
    "\n",
    "# Imprimir algunos datos para verificar\n",
    "print(\"Datos leídos del archivo HDF5:\")\n",
    "print(data)"
   ]
  },
  {
   "cell_type": "code",
   "execution_count": 2,
   "metadata": {},
   "outputs": [
    {
     "name": "stdout",
     "output_type": "stream",
     "text": [
      "Forma del resultado tensorial: (4294967296,)\n",
      "Resultado tensorial:\n",
      "[1 0 0 ... 0 0 0]\n"
     ]
    }
   ],
   "source": [
    "import numpy as np\n",
    "\n",
    "# Definir los 30 vectores con dos coeficientes cada uno\n",
    "vectors = [np.array([1, 0]), np.array([1, 0]), np.array([1, 0]), np.array([1, 0]),\n",
    "           np.array([1, 0]), np.array([1, 0]), np.array([1, 0]), np.array([1, 0]),\n",
    "           np.array([1, 0]), np.array([1, 0]), np.array([1, 0]), np.array([1, 0]),\n",
    "           np.array([1, 0]), np.array([1, 0]), np.array([1, 0]), np.array([1, 0]),\n",
    "           np.array([1, 0]), np.array([1, 0]), np.array([1, 0]), np.array([1, 0]),\n",
    "           np.array([1, 0]), np.array([1, 0]), np.array([1, 0]), np.array([1, 0]),\n",
    "           np.array([1, 0]), np.array([1, 0]), np.array([1, 0]), np.array([1, 0]),\n",
    "           np.array([1, 0]), np.array([1, 0]),np.array([1, 0]), np.array([1, 0])]\n",
    "\n",
    "# Función para realizar el producto tensorial de una lista de vectores\n",
    "def tensor_product(vectors):\n",
    "    result = vectors[0]\n",
    "    for vec in vectors[1:]:\n",
    "        result = np.kron(result, vec)\n",
    "    return result\n",
    "\n",
    "# Calcular el producto tensorial\n",
    "tensor_result = tensor_product(vectors)\n",
    "\n",
    "# Imprimir la forma del resultado para verificar\n",
    "print(\"Forma del resultado tensorial:\", tensor_result.shape)\n",
    "\n",
    "# Imprimir el resultado tensorial\n",
    "print(\"Resultado tensorial:\")\n",
    "print(tensor_result)"
   ]
  },
  {
   "cell_type": "code",
   "execution_count": 1,
   "metadata": {},
   "outputs": [
    {
     "name": "stderr",
     "output_type": "stream",
     "text": [
      "/mnt/c/Users/sergio.muniz/Desktop/VQE/.venv/lib/python3.10/site-packages/numpy/core/getlimits.py:542: UserWarning: Signature b'\\x00\\xd0\\xcc\\xcc\\xcc\\xcc\\xcc\\xcc\\xfb\\xbf\\x00\\x00\\x00\\x00\\x00\\x00' for <class 'numpy.longdouble'> does not match any known type: falling back to type probe function.\n",
      "This warnings indicates broken support for the dtype!\n",
      "  machar = _get_machar(dtype)\n"
     ]
    }
   ],
   "source": [
    "import h5py\n",
    "import numpy as np\n",
    "\n",
    "V2 = np.random.rand(2**29)\n",
    "V1 = np.random.rand(2**29)\n",
    "V=2*V1+7*V1\n",
    "\n",
    "with h5py.File('data3.h5', 'w') as f:\n",
    "    # Crear un dataset y escribir datos en él\n",
    "    f.create_dataset('dataset_name', data=V)"
   ]
  },
  {
   "cell_type": "code",
   "execution_count": 4,
   "metadata": {},
   "outputs": [],
   "source": [
    "import numpy as np\n",
    "\n",
    "V=2*V1+7*V2"
   ]
  },
  {
   "cell_type": "code",
   "execution_count": 12,
   "metadata": {},
   "outputs": [],
   "source": [
    "import h5py\n",
    "import numpy as np\n",
    "\n",
    "n = 2**30\n",
    "\n",
    "# Crear un array de ceros de tamaño 2**30\n",
    "V = np.zeros(n)\n",
    "# Establecer el primer coeficiente a 1\n",
    "V[0] = 1\n",
    "with h5py.File('data.h5', 'w') as f:\n",
    "    # Crear un dataset y escribir datos en él\n",
    "    f.create_dataset('dataset_name', data=V)"
   ]
  },
  {
   "cell_type": "code",
   "execution_count": 13,
   "metadata": {},
   "outputs": [],
   "source": [
    "with h5py.File('data.h5', 'r') as f:\n",
    "    # Acceder al dataset\n",
    "    dataset = f['dataset_name']\n",
    "    \n",
    "    # Leer los datos del dataset\n",
    "    V = np.array(dataset)"
   ]
  },
  {
   "cell_type": "code",
   "execution_count": 14,
   "metadata": {},
   "outputs": [
    {
     "data": {
      "text/plain": [
       "<Circuit(n=10, num_gates=252, gate_opts={'contract': 'auto-split-gate', 'propagate_tags': 'register'})>"
      ]
     },
     "execution_count": 14,
     "metadata": {},
     "output_type": "execute_result"
    }
   ],
   "source": [
    "# 10 qubits and tag the initial wavefunction tensors\n",
    "circ = qtn.Circuit(N=10)\n",
    "\n",
    "# initial layer of hadamards\n",
    "for i in range(10):\n",
    "    circ.apply_gate('H', i, gate_round=0)\n",
    "\n",
    "# 8 rounds of entangling gates\n",
    "for r in range(1, 9):\n",
    "\n",
    "    # even pairs\n",
    "    for i in range(0, 10, 2):\n",
    "        circ.apply_gate('CX', i, i + 1, gate_round=r)\n",
    "\n",
    "    # Y-rotations\n",
    "    for i in range(10):\n",
    "        circ.apply_gate('RZ', 1.234, i, gate_round=r)\n",
    "\n",
    "    # odd pairs\n",
    "    for i in range(1, 9, 2):\n",
    "        circ.apply_gate('CZ', i, i + 1, gate_round=r)\n",
    "\n",
    "    # X-rotations\n",
    "    for i in range(10):\n",
    "        circ.apply_gate('RX', 1.234, i, gate_round=r)\n",
    "\n",
    "# final layer of hadamards\n",
    "for i in range(10):\n",
    "    circ.apply_gate('H', i, gate_round=r + 1)\n",
    "\n",
    "circ"
   ]
  }
 ],
 "metadata": {
  "kernelspec": {
   "display_name": ".venv",
   "language": "python",
   "name": "python3"
  },
  "language_info": {
   "codemirror_mode": {
    "name": "ipython",
    "version": 3
   },
   "file_extension": ".py",
   "mimetype": "text/x-python",
   "name": "python",
   "nbconvert_exporter": "python",
   "pygments_lexer": "ipython3",
   "version": "3.10.12"
  }
 },
 "nbformat": 4,
 "nbformat_minor": 2
}
