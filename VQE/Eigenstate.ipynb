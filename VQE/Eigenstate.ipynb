{
 "cells": [
  {
   "cell_type": "markdown",
   "metadata": {},
   "source": [
    "En este notebook se busca resolver un problema molecular sencillo utilizando el método VQE, los resultados a obtener son la energía del estado fundamental y su estado fundamental correspondiente."
   ]
  },
  {
   "cell_type": "markdown",
   "metadata": {},
   "source": [
    "En este primer bloque de código inicializamos el hamiltoniano a resolver, y el ansatz a utiilzar."
   ]
  },
  {
   "cell_type": "code",
   "execution_count": 12,
   "metadata": {},
   "outputs": [
    {
     "ename": "MissingOptionalLibraryError",
     "evalue": "\"The 'pyscf' library is required to use 'PySCFDriver'.  See https://pyscf.org/install.html.\"",
     "output_type": "error",
     "traceback": [
      "\u001b[0;31m---------------------------------------------------------------------------\u001b[0m",
      "\u001b[0;31mMissingOptionalLibraryError\u001b[0m               Traceback (most recent call last)",
      "Cell \u001b[0;32mIn[12], line 12\u001b[0m\n\u001b[1;32m      9\u001b[0m \u001b[38;5;66;03m#Introducimos el problema físico, en este caso se trara de una molécula de hidrógeno\u001b[39;00m\n\u001b[1;32m     10\u001b[0m molecule \u001b[38;5;241m=\u001b[39m MoleculeInfo([\u001b[38;5;124m\"\u001b[39m\u001b[38;5;124mH\u001b[39m\u001b[38;5;124m\"\u001b[39m, \u001b[38;5;124m\"\u001b[39m\u001b[38;5;124mH\u001b[39m\u001b[38;5;124m\"\u001b[39m], [(\u001b[38;5;241m0.0\u001b[39m, \u001b[38;5;241m0.0\u001b[39m, \u001b[38;5;241m-\u001b[39m\u001b[38;5;241m0.37\u001b[39m), (\u001b[38;5;241m0.0\u001b[39m, \u001b[38;5;241m0.0\u001b[39m, \u001b[38;5;241m0.37\u001b[39m)], charge\u001b[38;5;241m=\u001b[39m\u001b[38;5;241m0\u001b[39m, multiplicity\u001b[38;5;241m=\u001b[39m\u001b[38;5;241m1\u001b[39m)\n\u001b[0;32m---> 12\u001b[0m driver \u001b[38;5;241m=\u001b[39m \u001b[43mPySCFDriver\u001b[49m\u001b[38;5;241;43m.\u001b[39;49m\u001b[43mfrom_molecule\u001b[49m\u001b[43m(\u001b[49m\u001b[43mmolecule\u001b[49m\u001b[43m,\u001b[49m\u001b[43m \u001b[49m\u001b[43mbasis\u001b[49m\u001b[38;5;241;43m=\u001b[39;49m\u001b[38;5;124;43m\"\u001b[39;49m\u001b[38;5;124;43msto3g\u001b[39;49m\u001b[38;5;124;43m\"\u001b[39;49m\u001b[43m)\u001b[49m\n\u001b[1;32m     13\u001b[0m problem \u001b[38;5;241m=\u001b[39m driver\u001b[38;5;241m.\u001b[39mrun()\n\u001b[1;32m     15\u001b[0m transformer \u001b[38;5;241m=\u001b[39m FreezeCoreTransformer()\n",
      "File \u001b[0;32m~/.local/lib/python3.10/site-packages/qiskit_nature/second_q/drivers/pyscfd/pyscfdriver.py:334\u001b[0m, in \u001b[0;36mPySCFDriver.from_molecule\u001b[0;34m(molecule, basis, method, driver_kwargs)\u001b[0m\n\u001b[1;32m    332\u001b[0m kwargs[\u001b[38;5;124m\"\u001b[39m\u001b[38;5;124mbasis\u001b[39m\u001b[38;5;124m\"\u001b[39m] \u001b[38;5;241m=\u001b[39m PySCFDriver\u001b[38;5;241m.\u001b[39mto_driver_basis(basis)\n\u001b[1;32m    333\u001b[0m kwargs[\u001b[38;5;124m\"\u001b[39m\u001b[38;5;124mmethod\u001b[39m\u001b[38;5;124m\"\u001b[39m] \u001b[38;5;241m=\u001b[39m method\n\u001b[0;32m--> 334\u001b[0m \u001b[38;5;28;01mreturn\u001b[39;00m \u001b[43mPySCFDriver\u001b[49m\u001b[43m(\u001b[49m\u001b[38;5;241;43m*\u001b[39;49m\u001b[38;5;241;43m*\u001b[39;49m\u001b[43mkwargs\u001b[49m\u001b[43m)\u001b[49m\n",
      "File \u001b[0;32m~/.local/lib/python3.10/site-packages/qiskit/utils/classtools.py:111\u001b[0m, in \u001b[0;36m_WrappedMethod.__get__.<locals>.out\u001b[0;34m(*args, **kwargs)\u001b[0m\n\u001b[1;32m    108\u001b[0m \u001b[38;5;129m@functools\u001b[39m\u001b[38;5;241m.\u001b[39mwraps(method)\n\u001b[1;32m    109\u001b[0m \u001b[38;5;28;01mdef\u001b[39;00m \u001b[38;5;21mout\u001b[39m(\u001b[38;5;241m*\u001b[39margs, \u001b[38;5;241m*\u001b[39m\u001b[38;5;241m*\u001b[39mkwargs):\n\u001b[1;32m    110\u001b[0m     \u001b[38;5;28;01mfor\u001b[39;00m callback \u001b[38;5;129;01min\u001b[39;00m \u001b[38;5;28mself\u001b[39m\u001b[38;5;241m.\u001b[39m_before:\n\u001b[0;32m--> 111\u001b[0m         \u001b[43mcallback\u001b[49m\u001b[38;5;241;43m.\u001b[39;49m\u001b[38;5;21;43m__get__\u001b[39;49m\u001b[43m(\u001b[49m\u001b[43mobj\u001b[49m\u001b[43m,\u001b[49m\u001b[43m \u001b[49m\u001b[43mobjtype\u001b[49m\u001b[43m)\u001b[49m\u001b[43m(\u001b[49m\u001b[38;5;241;43m*\u001b[39;49m\u001b[43margs\u001b[49m\u001b[43m,\u001b[49m\u001b[43m \u001b[49m\u001b[38;5;241;43m*\u001b[39;49m\u001b[38;5;241;43m*\u001b[39;49m\u001b[43mkwargs\u001b[49m\u001b[43m)\u001b[49m\n\u001b[1;32m    112\u001b[0m     retval \u001b[38;5;241m=\u001b[39m method(\u001b[38;5;241m*\u001b[39margs, \u001b[38;5;241m*\u001b[39m\u001b[38;5;241m*\u001b[39mkwargs)\n\u001b[1;32m    113\u001b[0m     \u001b[38;5;28;01mfor\u001b[39;00m callback \u001b[38;5;129;01min\u001b[39;00m \u001b[38;5;28mself\u001b[39m\u001b[38;5;241m.\u001b[39m_after:\n",
      "File \u001b[0;32m~/.local/lib/python3.10/site-packages/qiskit/utils/lazy_tester.py:41\u001b[0m, in \u001b[0;36m_RequireNow.__call__\u001b[0;34m(self, *_args, **_kwargs)\u001b[0m\n\u001b[1;32m     40\u001b[0m \u001b[38;5;28;01mdef\u001b[39;00m \u001b[38;5;21m__call__\u001b[39m(\u001b[38;5;28mself\u001b[39m, \u001b[38;5;241m*\u001b[39m_args, \u001b[38;5;241m*\u001b[39m\u001b[38;5;241m*\u001b[39m_kwargs):\n\u001b[0;32m---> 41\u001b[0m     \u001b[38;5;28;43mself\u001b[39;49m\u001b[38;5;241;43m.\u001b[39;49m\u001b[43m_tester\u001b[49m\u001b[38;5;241;43m.\u001b[39;49m\u001b[43mrequire_now\u001b[49m\u001b[43m(\u001b[49m\u001b[38;5;28;43mself\u001b[39;49m\u001b[38;5;241;43m.\u001b[39;49m\u001b[43m_feature\u001b[49m\u001b[43m)\u001b[49m\n",
      "File \u001b[0;32m~/.local/lib/python3.10/site-packages/qiskit/utils/lazy_tester.py:221\u001b[0m, in \u001b[0;36mLazyDependencyManager.require_now\u001b[0;34m(self, feature)\u001b[0m\n\u001b[1;32m    219\u001b[0m \u001b[38;5;28;01mif\u001b[39;00m \u001b[38;5;28mself\u001b[39m:\n\u001b[1;32m    220\u001b[0m     \u001b[38;5;28;01mreturn\u001b[39;00m\n\u001b[0;32m--> 221\u001b[0m \u001b[38;5;28;01mraise\u001b[39;00m MissingOptionalLibraryError(\n\u001b[1;32m    222\u001b[0m     libname\u001b[38;5;241m=\u001b[39m\u001b[38;5;28mself\u001b[39m\u001b[38;5;241m.\u001b[39m_name, name\u001b[38;5;241m=\u001b[39mfeature, pip_install\u001b[38;5;241m=\u001b[39m\u001b[38;5;28mself\u001b[39m\u001b[38;5;241m.\u001b[39m_install, msg\u001b[38;5;241m=\u001b[39m\u001b[38;5;28mself\u001b[39m\u001b[38;5;241m.\u001b[39m_msg\n\u001b[1;32m    223\u001b[0m )\n",
      "\u001b[0;31mMissingOptionalLibraryError\u001b[0m: \"The 'pyscf' library is required to use 'PySCFDriver'.  See https://pyscf.org/install.html.\""
     ]
    }
   ],
   "source": [
    "from qiskit_nature.second_q.drivers import PySCFDriver\n",
    "from qiskit.circuit.library import EfficientSU2\n",
    "from qiskit_nature.second_q.formats.molecule_info import MoleculeInfo\n",
    "from qiskit_nature.second_q.transformers import FreezeCoreTransformer\n",
    "from qiskit_algorithms.optimizers import COBYLA\n",
    "from qiskit_nature.second_q.mappers import JordanWignerMapper\n",
    "from qiskit_nature.second_q.mappers import ParityMapper\n",
    "from qiskit.visualization import array_to_latex\n",
    "#Introducimos el problema físico, en este caso se trara de una molécula de hidrógeno\n",
    "molecule = MoleculeInfo([\"H\", \"H\"], [(0.0, 0.0, -0.37), (0.0, 0.0, 0.37)], charge=0, multiplicity=1)\n",
    "\n",
    "driver = PySCFDriver.from_molecule(molecule, basis=\"sto3g\")\n",
    "problem = driver.run()\n",
    "\n",
    "transformer = FreezeCoreTransformer()\n",
    "\n",
    "# and you also apply transformers explicitly\n",
    "problem = transformer.transform(problem)\n",
    "\n",
    "secqop = problem.hamiltonian.second_q_op()\n",
    "mapper = JordanWignerMapper()\n",
    "qubit_op = mapper.map(secqop)\n",
    "\n",
    "#Determinar el ansatz\n",
    "ansatz = EfficientSU2(num_qubits=4, reps=1, entanglement=\"linear\",\n",
    "insert_barriers = True)\n",
    "ansatz.decompose().draw(\"mpl\")\n",
    "\n"
   ]
  },
  {
   "cell_type": "code",
   "execution_count": 11,
   "metadata": {},
   "outputs": [],
   "source": [
    "import pyscf\n"
   ]
  },
  {
   "cell_type": "code",
   "execution_count": 1,
   "metadata": {},
   "outputs": [],
   "source": [
    "import qiskit_aer"
   ]
  },
  {
   "cell_type": "markdown",
   "metadata": {},
   "source": [
    "A continuación expresamos el problema como un VQE, qiskit tiene una librería que se encarga de ello directamente"
   ]
  },
  {
   "cell_type": "code",
   "execution_count": 2,
   "metadata": {},
   "outputs": [
    {
     "name": "stdout",
     "output_type": "stream",
     "text": [
      "{   'aux_operators_evaluated': None,\n",
      "    'cost_function_evals': 481,\n",
      "    'eigenvalue': -1.8318636403697723,\n",
      "    'optimal_circuit': <qiskit.circuit.library.n_local.efficient_su2.EfficientSU2 object at 0x7ffa6e9a5180>,\n",
      "    'optimal_parameters': {   ParameterVectorElement(θ[7]): 3.1416370789238264,\n",
      "                              ParameterVectorElement(θ[8]): 3.141611847381526,\n",
      "                              ParameterVectorElement(θ[9]): 3.1414071339674847,\n",
      "                              ParameterVectorElement(θ[10]): 1.5207913244446918,\n",
      "                              ParameterVectorElement(θ[11]): 1.5707300291836954,\n",
      "                              ParameterVectorElement(θ[12]): -2.1786778174759007,\n",
      "                              ParameterVectorElement(θ[13]): 3.04516601973528,\n",
      "                              ParameterVectorElement(θ[14]): -0.1303821967336371,\n",
      "                              ParameterVectorElement(θ[15]): -2.3701309471029126,\n",
      "                              ParameterVectorElement(θ[0]): -7.311713648989028e-05,\n",
      "                              ParameterVectorElement(θ[1]): -3.1418575629354675,\n",
      "                              ParameterVectorElement(θ[2]): 1.52073271449845,\n",
      "                              ParameterVectorElement(θ[3]): 1.5707895558156477,\n",
      "                              ParameterVectorElement(θ[4]): -3.305176633957374,\n",
      "                              ParameterVectorElement(θ[5]): 0.5025823374605435,\n",
      "                              ParameterVectorElement(θ[6]): 3.141622874353738},\n",
      "    'optimal_point': array([-7.31171365e-05, -3.14185756e+00,  1.52073271e+00,  1.57078956e+00,\n",
      "       -3.30517663e+00,  5.02582337e-01,  3.14162287e+00,  3.14163708e+00,\n",
      "        3.14161185e+00,  3.14140713e+00,  1.52079132e+00,  1.57073003e+00,\n",
      "       -2.17867782e+00,  3.04516602e+00, -1.30382197e-01, -2.37013095e+00]),\n",
      "    'optimal_value': -1.8318636403697723,\n",
      "    'optimizer_evals': None,\n",
      "    'optimizer_result': <qiskit_algorithms.optimizers.optimizer.OptimizerResult object at 0x7ffa6e9a4cd0>,\n",
      "    'optimizer_time': 1.6473989486694336}\n"
     ]
    }
   ],
   "source": [
    "import numpy as np\n",
    "from qiskit_algorithms import VQE\n",
    "from qiskit_algorithms.optimizers import SLSQP\n",
    "from qiskit.primitives import Estimator\n",
    "\n",
    "# Se puede también introducir un estado_inicial aleaotorio, pero no entiendo muy bien para que sirve\n",
    "vqe = VQE(Estimator(), ansatz, COBYLA())\n",
    "\n",
    "result = vqe.compute_minimum_eigenvalue(qubit_op)\n",
    "print(result)\n"
   ]
  },
  {
   "cell_type": "markdown",
   "metadata": {},
   "source": [
    "El result, tiene muchos parametros de return, se pueden obserar todos al hacer un print(result), darse cuenta que el estado fundamental no es uno de los parámetros que viene, pero se puede obtener este estado a partir de los parámetros del ansatz"
   ]
  },
  {
   "cell_type": "markdown",
   "metadata": {},
   "source": [
    "Problemas sencillos, se pueden resolver de forma exacta utilizando la función minimum_eigenvlue, además, también se devuelve el estado fundamental "
   ]
  },
  {
   "cell_type": "code",
   "execution_count": 3,
   "metadata": {},
   "outputs": [
    {
     "data": {
      "text/latex": [
       "$$R|01>=(-0.6673169127 - 0.7362214419 i) |0101\\rangle+(0.0755826341 + 0.0833870007 i) |1010\\rangle$$"
      ],
      "text/plain": [
       "<IPython.core.display.Latex object>"
      ]
     },
     "execution_count": 3,
     "metadata": {},
     "output_type": "execute_result"
    }
   ],
   "source": [
    "from qiskit_algorithms import NumPyMinimumEigensolver\n",
    "solver2 = NumPyMinimumEigensolver()\n",
    "result2 = solver2.compute_minimum_eigenvalue(qubit_op)\n",
    "#print(result2.eigenstate)\n",
    "result2.eigenstate.draw(output='latex', prefix='R|01>=')"
   ]
  },
  {
   "cell_type": "markdown",
   "metadata": {},
   "source": [
    "Se puede hacer una comprobación sencilla:"
   ]
  },
  {
   "cell_type": "code",
   "execution_count": 4,
   "metadata": {},
   "outputs": [
    {
     "name": "stdout",
     "output_type": "stream",
     "text": [
      "El valor esperado para el estado |010> es: (-1.8523881735695829+0j)\n"
     ]
    }
   ],
   "source": [
    "print(\"El valor esperado para el estado |010> es:\", result2.eigenstate.expectation_value(qubit_op))"
   ]
  },
  {
   "cell_type": "markdown",
   "metadata": {},
   "source": [
    "Una forma de obtener el estado fundamental a partir de los parámetros es la siguiente:"
   ]
  },
  {
   "cell_type": "code",
   "execution_count": 6,
   "metadata": {},
   "outputs": [
    {
     "data": {
      "text/latex": [
       "$$Estado=(1.0 \\cdot 10^{-9} + 1.5 \\cdot 10^{-9} i) |0000\\rangle+(-1.78649 \\cdot 10^{-5} - 1.8683 \\cdot 10^{-6} i) |0001\\rangle+(8.0 \\cdot 10^{-10} - 3.0 \\cdot 10^{-10} i) |0010\\rangle+(2.69902 \\cdot 10^{-5} + 3.306 \\cdot 10^{-7} i) |0011\\rangle+(-1.20975 \\cdot 10^{-5} - 5.8415 \\cdot 10^{-6} i) |0100\\rangle+(0.8267898717 - 0.5625108898 i) |0101\\rangle + \\ldots +(-2.0 \\cdot 10^{-10} - 6.0 \\cdot 10^{-10} i) |1011\\rangle+(1.0 \\cdot 10^{-10} + 1.0 \\cdot 10^{-10} i) |1100\\rangle+(-5.9243 \\cdot 10^{-6} + 1.0022 \\cdot 10^{-6} i) |1101\\rangle+(3.0 \\cdot 10^{-10} - 1.0 \\cdot 10^{-10} i) |1110\\rangle+(-4.0 \\cdot 10^{-10} - 1.2 \\cdot 10^{-9} i) |1111\\rangle$$"
      ],
      "text/plain": [
       "<IPython.core.display.Latex object>"
      ]
     },
     "execution_count": 6,
     "metadata": {},
     "output_type": "execute_result"
    }
   ],
   "source": [
    "from qiskit.circuit.library import EfficientSU2\n",
    "from qiskit.quantum_info import Statevector\n",
    "from qiskit import QuantumCircuit\n",
    "optimal_points=result.optimal_parameters\n",
    "param_values = [value for value in optimal_points.values()]\n",
    "\n",
    "ansatz = EfficientSU2(num_qubits=4, reps=1, entanglement=\"linear\", insert_barriers=True)\n",
    "\n",
    "\n",
    "parameters = param_values # Por ejemplo, una lista de valores para los parámetros\n",
    "\n",
    "# Asigna los valores de los parámetros al ansatz\n",
    "bound_ansatz = ansatz.assign_parameters(parameters)\n",
    "\n",
    "# Puedes obtener el circuito resultante con los valores asignados\n",
    "bound_circuit = bound_ansatz\n",
    "\n",
    "# Dibujar el circuito resultante\n",
    "qc2=QuantumCircuit(4,4)\n",
    "qc2=bound_circuit.decompose()\n",
    "sv2 = Statevector(qc2)\n",
    "sv2.draw(output='latex', prefix='Estado=')\n",
    "#qc2.measure_all()\n",
    "#qc2.draw('mpl')"
   ]
  },
  {
   "cell_type": "code",
   "execution_count": 70,
   "metadata": {},
   "outputs": [
    {
     "name": "stdout",
     "output_type": "stream",
     "text": [
      "El valor esperado para el estado |010> es: (-1.8523881701480942+0j)\n"
     ]
    }
   ],
   "source": [
    "print(\"El valor esperado para el estado |010> es:\", sv2.expectation_value(qubit_op))"
   ]
  },
  {
   "cell_type": "markdown",
   "metadata": {},
   "source": [
    "Conclusión, el resultado obtenido realizando el VQE no es exacto, esto a priori puede ser un gran inconveniente debido a que un caso sencillo no lo resuelve bien, tengo que seguir investigando para mejorar este modelo"
   ]
  }
 ],
 "metadata": {
  "kernelspec": {
   "display_name": ".venv",
   "language": "python",
   "name": "python3"
  },
  "language_info": {
   "codemirror_mode": {
    "name": "ipython",
    "version": 3
   },
   "file_extension": ".py",
   "mimetype": "text/x-python",
   "name": "python",
   "nbconvert_exporter": "python",
   "pygments_lexer": "ipython3",
   "version": "3.10.12"
  }
 },
 "nbformat": 4,
 "nbformat_minor": 2
}
