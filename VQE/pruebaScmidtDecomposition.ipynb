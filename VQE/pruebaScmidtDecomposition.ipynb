{
 "cells": [
  {
   "cell_type": "code",
   "execution_count": 1,
   "metadata": {},
   "outputs": [
    {
     "data": {
      "text/latex": [
       "$$\n",
       "M=\n",
       "\\begin{bmatrix}\n",
       "\\frac{\\sqrt{2}}{2} & \\frac{\\sqrt{2}}{2}  \\\\\n",
       " \\frac{\\sqrt{2}}{2} & - \\frac{\\sqrt{2}}{2}  \\\\\n",
       " \\end{bmatrix}\n",
       "$$"
      ],
      "text/plain": [
       "<IPython.core.display.Latex object>"
      ]
     },
     "execution_count": 1,
     "metadata": {},
     "output_type": "execute_result"
    }
   ],
   "source": [
    "import numpy as np\n",
    "import math\n",
    "import cmath\n",
    "from math import  sqrt\n",
    "import qiskit\n",
    "from qiskit.visualization import array_to_latex\n",
    "X = np.array([[0, 1], [1, 0]])\n",
    "Z = np.array([[1, 0], [0, -1]])\n",
    "H = np.array([[1/sqrt(2), 1/sqrt(2)], [1/sqrt(2), -1/sqrt(2)]])\n",
    "H1 = np.array([[2, 3], [4, 5]])\n",
    "Y = np.array([[0, -1j],\n",
    "              [1j, 0]])\n",
    "I = np.array([[1, 0], [0, 1]])\n",
    "CNOT = np.array([[1, 0, 0, 0],\n",
    "                 [0, 1, 0, 0],\n",
    "                 [0, 0, 0, 1],\n",
    "                 [0, 0, 1, 0]])\n",
    "F=np.array([[1, 0],\n",
    "                     [0, np.exp(1j * np.pi/2)]])\n",
    "B=np.kron(I,H)\n",
    "array_to_latex(H, prefix='M=')\n"
   ]
  },
  {
   "cell_type": "code",
   "execution_count": null,
   "metadata": {},
   "outputs": [
    {
     "ename": "",
     "evalue": "",
     "output_type": "error",
     "traceback": [
      "\u001b[1;31mFailed to start the Kernel. \n",
      "\u001b[1;31mThe kernel died. Error: ... View Jupyter <a href='command:jupyter.viewOutput'>log</a> for further details."
     ]
    }
   ],
   "source": [
    "def crear_matriz(n, m):\n",
    "    matriz = []\n",
    "    for i in range(n):\n",
    "        fila = []\n",
    "        for j in range(m):\n",
    "            if j==0:\n",
    "                fila.append(1) \n",
    "            elif  j==2:\n",
    "                fila.append(1) \n",
    "            else:\n",
    "                fila.append(0)  \n",
    "        matriz.append(fila)\n",
    "    return matriz\n",
    "\n",
    "# Ejemplo de uso\n",
    "n = 30\n",
    "m = 4\n",
    "M = crear_matriz(n, m)\n",
    "print(M)"
   ]
  },
  {
   "cell_type": "code",
   "execution_count": null,
   "metadata": {},
   "outputs": [
    {
     "ename": "",
     "evalue": "",
     "output_type": "error",
     "traceback": [
      "\u001b[1;31mFailed to start the Kernel. \n",
      "\u001b[1;31mThe kernel died. Error: ... View Jupyter <a href='command:jupyter.viewOutput'>log</a> for further details."
     ]
    }
   ],
   "source": [
    "numero_qubits=10\n",
    "M = np.column_stack((np.ones(numero_qubits), np.zeros(numero_qubits)))\n",
    "#M = np.hstack((M, M))\n",
    "print(M)"
   ]
  },
  {
   "cell_type": "code",
   "execution_count": 5,
   "metadata": {},
   "outputs": [],
   "source": [
    "def all_hadamard(M, H, indices):\n",
    "    for i in indices:\n",
    "        a = indices[i]\n",
    "        M[a] = np.dot(H, M[a])\n",
    "\n",
    "def puerta_un_qubit(M, H, indices):\n",
    "    for i in indices:\n",
    "        a = indices[i]\n",
    "        for j in range(0,int(M[a].size/2)):\n",
    "            n=np.array([M[a][2*j],M[a][2*j+1]])\n",
    "            n= np.dot(H, n)\n",
    "            M[a][2*j],M[a][2*j+1]=n[0],n[1]\n",
    "\n",
    "def cnot(M,a,b):\n",
    "    for i in range(0,int(M[a].size/2)):\n",
    "        N=np.zeros((2, 2))\n",
    "        N[0]=M[a][i:i+2]\n",
    "        N[1]=M[b][i:i+2]\n",
    "        if np.array_equal(N[0], np.array([1, 0])):\n",
    "            ñ=0\n",
    "        elif np.array_equal(N[0], np.array([0, 1])):\n",
    "            N[1][0], N[1][1] = N[1][1], N[1][0]\n",
    "        else:\n",
    "\n",
    "            if N[1][1]== N[1][0]:\n",
    "                continue\n",
    "            else:\n",
    "                t=N[0][0]\n",
    "                k=N[0][1]\n",
    "                t2=N[1][0]\n",
    "                k2=N[1][1]\n",
    "                M1 = M.copy()\n",
    "                M2 = M.copy()\n",
    "                M1[a][i:i+2]=[t,0]\n",
    "                M1[b][i:i+2]=[t2,k2]\n",
    "                M2[a][i:i+2]=[0,k]\n",
    "                M2[b][i:i+2]=[k2,t2]\n",
    "                M = np.hstack((M1, M2))\n",
    "    return M\n",
    "            \n",
    "def tensor_product(*tensors):\n",
    "    \"\"\"\n",
    "    Compute the tensor product of multiple tensors.\n",
    "    \n",
    "    Parameters:\n",
    "        *tensors (list of np.ndarray): List of tensors to compute the tensor product.\n",
    "    \n",
    "    Returns:\n",
    "        np.ndarray: Resulting tensor after tensor product.\n",
    "    \"\"\"\n",
    "    result = tensors[0]\n",
    "    for tensor in tensors[1:]:\n",
    "        result = np.kron(result, tensor)\n",
    "    return result\n"
   ]
  },
  {
   "cell_type": "code",
   "execution_count": 8,
   "metadata": {},
   "outputs": [
    {
     "name": "stdout",
     "output_type": "stream",
     "text": [
      "[[0.70710678 0.70710678]\n",
      " [0.70710678 0.70710678]\n",
      " [0.70710678 0.70710678]\n",
      " [1.         0.        ]\n",
      " [1.         0.        ]\n",
      " [1.         0.        ]\n",
      " [1.         0.        ]\n",
      " [1.         0.        ]\n",
      " [1.         0.        ]\n",
      " [1.         0.        ]\n",
      " [1.         0.        ]\n",
      " [1.         0.        ]\n",
      " [1.         0.        ]\n",
      " [1.         0.        ]\n",
      " [1.         0.        ]\n",
      " [1.         0.        ]\n",
      " [1.         0.        ]\n",
      " [1.         0.        ]\n",
      " [1.         0.        ]\n",
      " [1.         0.        ]\n",
      " [1.         0.        ]\n",
      " [1.         0.        ]\n",
      " [1.         0.        ]\n",
      " [1.         0.        ]\n",
      " [1.         0.        ]\n",
      " [1.         0.        ]\n",
      " [1.         0.        ]\n",
      " [1.         0.        ]\n",
      " [1.         0.        ]\n",
      " [1.         0.        ]\n",
      " [1.         0.        ]\n",
      " [1.         0.        ]\n",
      " [1.         0.        ]\n",
      " [1.         0.        ]\n",
      " [1.         0.        ]\n",
      " [1.         0.        ]\n",
      " [1.         0.        ]\n",
      " [1.         0.        ]\n",
      " [1.         0.        ]\n",
      " [1.         0.        ]\n",
      " [1.         0.        ]\n",
      " [1.         0.        ]\n",
      " [1.         0.        ]\n",
      " [1.         0.        ]\n",
      " [1.         0.        ]\n",
      " [1.         0.        ]\n",
      " [1.         0.        ]\n",
      " [1.         0.        ]\n",
      " [1.         0.        ]\n",
      " [1.         0.        ]]\n",
      "[[0.70710678 0.70710678]\n",
      " [0.70710678 0.70710678]\n",
      " [0.70710678 0.70710678]\n",
      " [1.         0.        ]\n",
      " [1.         0.        ]\n",
      " [1.         0.        ]\n",
      " [1.         0.        ]\n",
      " [1.         0.        ]\n",
      " [1.         0.        ]\n",
      " [1.         0.        ]\n",
      " [1.         0.        ]\n",
      " [1.         0.        ]\n",
      " [1.         0.        ]\n",
      " [1.         0.        ]\n",
      " [1.         0.        ]\n",
      " [1.         0.        ]\n",
      " [1.         0.        ]\n",
      " [1.         0.        ]\n",
      " [1.         0.        ]\n",
      " [1.         0.        ]\n",
      " [1.         0.        ]\n",
      " [1.         0.        ]\n",
      " [1.         0.        ]\n",
      " [1.         0.        ]\n",
      " [1.         0.        ]\n",
      " [1.         0.        ]\n",
      " [1.         0.        ]\n",
      " [1.         0.        ]\n",
      " [1.         0.        ]\n",
      " [1.         0.        ]\n",
      " [1.         0.        ]\n",
      " [1.         0.        ]\n",
      " [1.         0.        ]\n",
      " [1.         0.        ]\n",
      " [1.         0.        ]\n",
      " [1.         0.        ]\n",
      " [1.         0.        ]\n",
      " [1.         0.        ]\n",
      " [1.         0.        ]\n",
      " [1.         0.        ]\n",
      " [1.         0.        ]\n",
      " [1.         0.        ]\n",
      " [1.         0.        ]\n",
      " [1.         0.        ]\n",
      " [1.         0.        ]\n",
      " [1.         0.        ]\n",
      " [1.         0.        ]\n",
      " [1.         0.        ]\n",
      " [1.         0.        ]\n",
      " [1.         0.        ]]\n"
     ]
    }
   ],
   "source": [
    "indices = {0: 0,1:1,2:2}\n",
    "\n",
    "puerta_un_qubit(M, H, indices)\n",
    "print(M)\n",
    "\n",
    "indices = {0: 0}\n",
    "M=cnot(M, 0, 1)\n",
    "print(M)\n",
    "'''\n",
    "L=tensor_product(M[0],M[1],M[2])\n",
    "print(L)\n",
    "'''\n",
    "M = np.column_stack((np.ones(numero_qubits), np.zeros(numero_qubits)))"
   ]
  },
  {
   "cell_type": "code",
   "execution_count": 325,
   "metadata": {},
   "outputs": [
    {
     "name": "stdout",
     "output_type": "stream",
     "text": [
      "[0.70710678 0.        ]\n"
     ]
    }
   ],
   "source": [
    "print(M[0][0:2])"
   ]
  },
  {
   "cell_type": "code",
   "execution_count": 22,
   "metadata": {},
   "outputs": [],
   "source": [
    "def zeta(*args):\n",
    "    for M_name in args:\n",
    "        M = globals()[M_name]\n",
    "        result = np.dot(Z, M)\n",
    "        globals()[M_name] = result"
   ]
  },
  {
   "cell_type": "code",
   "execution_count": 40,
   "metadata": {},
   "outputs": [],
   "source": [
    "def cnot(M1, M2):\n",
    "    if np.array_equal(M1, np.array([1, 0])):\n",
    "        M2[0], M2[1] = M2[1], M2[0]\n",
    "    "
   ]
  },
  {
   "cell_type": "code",
   "execution_count": 48,
   "metadata": {},
   "outputs": [],
   "source": [
    "cnot(M_0,M_9)"
   ]
  },
  {
   "cell_type": "code",
   "execution_count": 45,
   "metadata": {},
   "outputs": [
    {
     "ename": "UFuncTypeError",
     "evalue": "ufunc 'multiply' did not contain a loop with signature matching types (dtype('<U32'), dtype('<U3')) -> None",
     "output_type": "error",
     "traceback": [
      "\u001b[0;31m---------------------------------------------------------------------------\u001b[0m",
      "\u001b[0;31mUFuncTypeError\u001b[0m                            Traceback (most recent call last)",
      "Cell \u001b[0;32mIn[45], line 2\u001b[0m\n\u001b[1;32m      1\u001b[0m \u001b[38;5;66;03m#all_hadamard('M_9')\u001b[39;00m\n\u001b[0;32m----> 2\u001b[0m \u001b[43mall_hadamard\u001b[49m\u001b[43m(\u001b[49m\u001b[38;5;124;43m'\u001b[39;49m\u001b[38;5;124;43mM_7\u001b[39;49m\u001b[38;5;124;43m'\u001b[39;49m\u001b[43m)\u001b[49m\n",
      "Cell \u001b[0;32mIn[32], line 3\u001b[0m, in \u001b[0;36mall_hadamard\u001b[0;34m(*args)\u001b[0m\n\u001b[1;32m      1\u001b[0m \u001b[38;5;28;01mdef\u001b[39;00m \u001b[38;5;21mall_hadamard\u001b[39m(\u001b[38;5;241m*\u001b[39margs):\n\u001b[1;32m      2\u001b[0m     \u001b[38;5;28;01mfor\u001b[39;00m M_name \u001b[38;5;129;01min\u001b[39;00m args:\n\u001b[0;32m----> 3\u001b[0m         M_name\u001b[38;5;241m=\u001b[39m\u001b[43mnp\u001b[49m\u001b[38;5;241;43m.\u001b[39;49m\u001b[43mdot\u001b[49m\u001b[43m(\u001b[49m\u001b[43mH1\u001b[49m\u001b[43m,\u001b[49m\u001b[43m \u001b[49m\u001b[43mM_name\u001b[49m\u001b[43m)\u001b[49m\n",
      "\u001b[0;31mUFuncTypeError\u001b[0m: ufunc 'multiply' did not contain a loop with signature matching types (dtype('<U32'), dtype('<U3')) -> None"
     ]
    }
   ],
   "source": [
    "\n",
    "#all_hadamard('M_9')\n"
   ]
  },
  {
   "cell_type": "code",
   "execution_count": 49,
   "metadata": {},
   "outputs": [
    {
     "name": "stdout",
     "output_type": "stream",
     "text": [
      "M_0 = [1 0]\n",
      "M_1 = [1 0]\n",
      "M_2 = [1 0]\n",
      "M_3 = [1 0]\n",
      "M_4 = [1 0]\n",
      "M_5 = [1 0]\n",
      "M_6 = [1 0]\n",
      "M_7 = [1 0]\n",
      "M_8 = [1 0]\n",
      "M_9 = [ 0.70710678 -0.70710678]\n",
      "M_10 = [1 0]\n",
      "M_11 = [1 0]\n",
      "M_12 = [1 0]\n",
      "M_13 = [1 0]\n",
      "M_14 = [1 0]\n",
      "M_15 = [1 0]\n",
      "M_16 = [1 0]\n",
      "M_17 = [1 0]\n",
      "M_18 = [1 0]\n",
      "M_19 = [1 0]\n",
      "M_20 = [1 0]\n",
      "M_21 = [1 0]\n",
      "M_22 = [1 0]\n",
      "M_23 = [1 0]\n",
      "M_24 = [1 0]\n",
      "M_25 = [1 0]\n",
      "M_26 = [1 0]\n",
      "M_27 = [1 0]\n",
      "M_28 = [1 0]\n",
      "M_29 = [1 0]\n"
     ]
    }
   ],
   "source": [
    "for i in range(30):\n",
    "    print(\"M_{} =\".format(i), globals()['M_' + str(i)])"
   ]
  }
 ],
 "metadata": {
  "kernelspec": {
   "display_name": "Python 3",
   "language": "python",
   "name": "python3"
  },
  "language_info": {
   "codemirror_mode": {
    "name": "ipython",
    "version": 3
   },
   "file_extension": ".py",
   "mimetype": "text/x-python",
   "name": "python",
   "nbconvert_exporter": "python",
   "pygments_lexer": "ipython3",
   "version": "3.10.12"
  }
 },
 "nbformat": 4,
 "nbformat_minor": 2
}
