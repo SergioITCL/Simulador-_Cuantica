{
 "cells": [
  {
   "cell_type": "markdown",
   "metadata": {},
   "source": [
    "# Use Qiskit’s VQE implementation to solve the Max-Cut problem for a graph of 5 vertices in which the connections are $(0, 1)$, $(1, 2)$, $(2, 3)$, $(3, 4)$ and $(4, 0)$."
   ]
  },
  {
   "cell_type": "markdown",
   "metadata": {},
   "source": [
    "Para resolver este problema utilizando VQE necesitamos expresar el hamiltoniano como una combinación lineal de hamiltonianos de pauli."
   ]
  },
  {
   "cell_type": "code",
   "execution_count": 2,
   "metadata": {},
   "outputs": [
    {
     "name": "stdout",
     "output_type": "stream",
     "text": [
      "SparsePauliOp(['ZZIII', 'IZZII', 'IIZZI', 'IIIZZ', 'ZIIIZ'],\n",
      "              coeffs=[1.+0.j, 1.+0.j, 1.+0.j, 1.+0.j, 1.+0.j])\n"
     ]
    }
   ],
   "source": [
    "from qiskit.quantum_info import SparsePauliOp\n",
    " \n",
    "operator = SparsePauliOp([\"ZZIII\", \"IZZII\",'IIZZI','IIIZZ','ZIIIZ'], coeffs = [1,1,1,1,1])\n",
    " \n",
    "# equivalent to:\n",
    "print(repr(operator))"
   ]
  },
  {
   "cell_type": "code",
   "execution_count": 3,
   "metadata": {},
   "outputs": [
    {
     "name": "stdout",
     "output_type": "stream",
     "text": [
      "+1.00000000 * IIIZZ\n",
      "+1.00000000 * IIZZI\n",
      "+1.00000000 * IZZII\n",
      "+1.00000000 * ZIIIZ\n",
      "+1.00000000 * ZZIII\n"
     ]
    }
   ],
   "source": [
    "for pauli, coeff in sorted(operator.label_iter()):\n",
    "    print(f\"{coeff.real:+.8f} * {pauli}\")"
   ]
  },
  {
   "cell_type": "code",
   "execution_count": 6,
   "metadata": {},
   "outputs": [],
   "source": [
    "import numpy as np\n",
    "from qiskit_algorithms import VQE\n",
    "from qiskit_aer import AerSimulator\n",
    "from qiskit.primitives import Sampler\n",
    "#from qiskit.utils import algorithm_globals\n",
    "import numpy as np\n",
    "from qiskit_algorithms.optimizers import COBYLA\n",
    "from qiskit.circuit.library import EfficientSU2\n",
    "# define Aer Estimator for noiseless statevector simulation\n",
    "\n",
    "\n",
    "seed = 1235\n",
    "algorithm_globals.random_seed = seed\n",
    "\n",
    "ansatz = EfficientSU2(num_qubits=5, reps=1, entanglement=\"linear\",\n",
    "insert_barriers = True)\n",
    "\n",
    "noiseless_estimator = AerEstimator(\n",
    "    run_options={\"seed\": seed, \"shots\": 1024},\n",
    "    transpile_options={\"seed_transpiler\": seed},\n",
    ")\n",
    "\n",
    "optimizer = COBYLA()\n",
    "\n",
    "initial_point = np.random.random(ansatz.num_parameters)\n",
    "\n",
    "\n",
    "vqe = VQE(noiseless_estimator,ansatz=ansatz, optimizer=optimizer ,\n",
    "initial_point=initial_point)\n"
   ]
  },
  {
   "cell_type": "code",
   "execution_count": 15,
   "metadata": {},
   "outputs": [
    {
     "name": "stdout",
     "output_type": "stream",
     "text": [
      "Result: {   'aux_operators_evaluated': None,\n",
      "    'cost_function_evals': 211,\n",
      "    'eigenvalue': -3.0,\n",
      "    'optimal_circuit': <qiskit.circuit.library.n_local.efficient_su2.EfficientSU2 object at 0x7f3854489ae0>,\n",
      "    'optimal_parameters': {   ParameterVectorElement(θ[1]): 3.2145248780837368,\n",
      "                              ParameterVectorElement(θ[0]): -0.2858047265893224,\n",
      "                              ParameterVectorElement(θ[3]): 1.1962640982268984,\n",
      "                              ParameterVectorElement(θ[2]): 3.5082078175598466,\n",
      "                              ParameterVectorElement(θ[4]): 1.4891860611364773,\n",
      "                              ParameterVectorElement(θ[5]): -0.27443975419356503,\n",
      "                              ParameterVectorElement(θ[6]): 0.9817396780463605,\n",
      "                              ParameterVectorElement(θ[7]): 0.9153507446594463,\n",
      "                              ParameterVectorElement(θ[8]): 3.0647402766532297,\n",
      "                              ParameterVectorElement(θ[9]): 0.2511954447764898,\n",
      "                              ParameterVectorElement(θ[10]): 0.044806283451393376,\n",
      "                              ParameterVectorElement(θ[11]): 0.00640560963489268,\n",
      "                              ParameterVectorElement(θ[12]): 0.01765970229446512,\n",
      "                              ParameterVectorElement(θ[13]): 1.9609630550729649,\n",
      "                              ParameterVectorElement(θ[14]): 1.51491341628502,\n",
      "                              ParameterVectorElement(θ[15]): 0.16820320194259986,\n",
      "                              ParameterVectorElement(θ[16]): -0.47397013203975963,\n",
      "                              ParameterVectorElement(θ[17]): 0.31249441612248996,\n",
      "                              ParameterVectorElement(θ[18]): 0.12521018610066334,\n",
      "                              ParameterVectorElement(θ[19]): -0.4157416588434456},\n",
      "    'optimal_point': array([-0.28580473,  3.21452488,  3.50820782,  1.1962641 ,  1.48918606,\n",
      "       -0.27443975,  0.98173968,  0.91535074,  3.06474028,  0.25119544,\n",
      "        0.04480628,  0.00640561,  0.0176597 ,  1.96096306,  1.51491342,\n",
      "        0.1682032 , -0.47397013,  0.31249442,  0.12521019, -0.41574166]),\n",
      "    'optimal_value': -3.0,\n",
      "    'optimizer_evals': None,\n",
      "    'optimizer_result': <qiskit_algorithms.optimizers.optimizer.OptimizerResult object at 0x7f38541c7010>,\n",
      "    'optimizer_time': 0.8989205360412598}\n",
      "Optimal parameters: [-0.28580473  3.21452488  3.50820782  1.1962641   1.48918606 -0.27443975\n",
      "  0.98173968  0.91535074  3.06474028  0.25119544  0.04480628  0.00640561\n",
      "  0.0176597   1.96096306  1.51491342  0.1682032  -0.47397013  0.31249442\n",
      "  0.12521019 -0.41574166]\n",
      "{   'aux_operators_evaluated': None,\n",
      "    'cost_function_evals': 211,\n",
      "    'eigenvalue': -3.0,\n",
      "    'optimal_circuit': <qiskit.circuit.library.n_local.efficient_su2.EfficientSU2 object at 0x7f3854489ae0>,\n",
      "    'optimal_parameters': {   ParameterVectorElement(θ[1]): 3.2145248780837368,\n",
      "                              ParameterVectorElement(θ[0]): -0.2858047265893224,\n",
      "                              ParameterVectorElement(θ[3]): 1.1962640982268984,\n",
      "                              ParameterVectorElement(θ[2]): 3.5082078175598466,\n",
      "                              ParameterVectorElement(θ[4]): 1.4891860611364773,\n",
      "                              ParameterVectorElement(θ[5]): -0.27443975419356503,\n",
      "                              ParameterVectorElement(θ[6]): 0.9817396780463605,\n",
      "                              ParameterVectorElement(θ[7]): 0.9153507446594463,\n",
      "                              ParameterVectorElement(θ[8]): 3.0647402766532297,\n",
      "                              ParameterVectorElement(θ[9]): 0.2511954447764898,\n",
      "                              ParameterVectorElement(θ[10]): 0.044806283451393376,\n",
      "                              ParameterVectorElement(θ[11]): 0.00640560963489268,\n",
      "                              ParameterVectorElement(θ[12]): 0.01765970229446512,\n",
      "                              ParameterVectorElement(θ[13]): 1.9609630550729649,\n",
      "                              ParameterVectorElement(θ[14]): 1.51491341628502,\n",
      "                              ParameterVectorElement(θ[15]): 0.16820320194259986,\n",
      "                              ParameterVectorElement(θ[16]): -0.47397013203975963,\n",
      "                              ParameterVectorElement(θ[17]): 0.31249441612248996,\n",
      "                              ParameterVectorElement(θ[18]): 0.12521018610066334,\n",
      "                              ParameterVectorElement(θ[19]): -0.4157416588434456},\n",
      "    'optimal_point': array([-0.28580473,  3.21452488,  3.50820782,  1.1962641 ,  1.48918606,\n",
      "       -0.27443975,  0.98173968,  0.91535074,  3.06474028,  0.25119544,\n",
      "        0.04480628,  0.00640561,  0.0176597 ,  1.96096306,  1.51491342,\n",
      "        0.1682032 , -0.47397013,  0.31249442,  0.12521019, -0.41574166]),\n",
      "    'optimal_value': -3.0,\n",
      "    'optimizer_evals': None,\n",
      "    'optimizer_result': <qiskit_algorithms.optimizers.optimizer.OptimizerResult object at 0x7f38541c7010>,\n",
      "    'optimizer_time': 0.8989205360412598}\n"
     ]
    }
   ],
   "source": [
    "result = vqe.compute_minimum_eigenvalue(operator)\n",
    "print(\"Result:\", result)\n",
    "print(\"Optimal parameters:\", result.optimal_point)\n",
    "print(result)"
   ]
  },
  {
   "cell_type": "code",
   "execution_count": 16,
   "metadata": {},
   "outputs": [
    {
     "data": {
      "text/latex": [
       "$$Estado=(-0.0002149778 - 0.0001214154 i) |00000\\rangle+(0.0001787942 - 0.0007945961 i) |00001\\rangle+(0.0213880695 - 0.0195977505 i) |00010\\rangle+(0.0005063327 - 0.0005024954 i) |00011\\rangle+(0.0014192764 + 0.0004765493 i) |00100\\rangle+(0.0019788502 + 0.0061491425 i) |00101\\rangle + \\ldots +(0.0044869823 - 0.0076415389 i) |11011\\rangle+(-0.0010029221 - 0.0004342571 i) |11100\\rangle+(-0.0010264722 - 0.004562138 i) |11101\\rangle+(-0.0034412917 - 0.002376438 i) |11110\\rangle+(-9.60593 \\cdot 10^{-5} - 6.67 \\cdot 10^{-5} i) |11111\\rangle$$"
      ],
      "text/plain": [
       "<IPython.core.display.Latex object>"
      ]
     },
     "execution_count": 16,
     "metadata": {},
     "output_type": "execute_result"
    }
   ],
   "source": [
    "from qiskit.circuit.library import EfficientSU2\n",
    "from qiskit.quantum_info import Statevector\n",
    "from qiskit import QuantumCircuit\n",
    "\n",
    "optimal_points=result.optimal_parameters\n",
    "param_values = [value for value in optimal_points.values()]\n",
    "\n",
    "ansatz = EfficientSU2(num_qubits=5, reps=1, entanglement=\"linear\", insert_barriers=True)\n",
    "\n",
    "\n",
    "parameters = param_values # Por ejemplo, una lista de valores para los parámetros\n",
    "\n",
    "# Asigna los valores de los parámetros al ansatz\n",
    "bound_ansatz = ansatz.assign_parameters(parameters)\n",
    "\n",
    "# Puedes obtener el circuito resultante con los valores asignados\n",
    "bound_circuit = bound_ansatz\n",
    "\n",
    "# Dibujar el circuito resultante\n",
    "qc2=QuantumCircuit(5,5)\n",
    "qc2=bound_circuit.decompose()\n",
    "sv2 = Statevector(qc2)\n",
    "sv2.draw(output='latex', prefix='Estado=')\n",
    "#qc2.measure_all()\n",
    "#qc2.draw('mpl')"
   ]
  },
  {
   "cell_type": "code",
   "execution_count": 17,
   "metadata": {},
   "outputs": [
    {
     "name": "stdout",
     "output_type": "stream",
     "text": [
      "El valor esperado para el estado |010> es: (-2.9889278344590755+0j)\n"
     ]
    }
   ],
   "source": [
    "print(\"El valor esperado para el estado |010> es:\", sv2.expectation_value(operator))"
   ]
  },
  {
   "cell_type": "code",
   "execution_count": 10,
   "metadata": {},
   "outputs": [
    {
     "name": "stdout",
     "output_type": "stream",
     "text": [
      "{   'aux_operators_evaluated': None,\n",
      "    'eigenstate': Statevector([0.+0.j, 0.+0.j, 0.+0.j, 0.+0.j, 0.+0.j, 0.+0.j, 0.+0.j,\n",
      "             0.+0.j, 0.+0.j, 0.+0.j, 0.+0.j, 0.+0.j, 0.+0.j, 0.+0.j,\n",
      "             0.+0.j, 0.+0.j, 0.+0.j, 0.+0.j, 0.+0.j, 0.+0.j, 0.+0.j,\n",
      "             1.+0.j, 0.+0.j, 0.+0.j, 0.+0.j, 0.+0.j, 0.+0.j, 0.+0.j,\n",
      "             0.+0.j, 0.+0.j, 0.+0.j, 0.+0.j],\n",
      "            dims=(2, 2, 2, 2, 2)),\n",
      "    'eigenvalue': (-3+0j)}\n"
     ]
    },
    {
     "data": {
      "text/latex": [
       "$$Estado de mínima energía= |10101\\rangle$$"
      ],
      "text/plain": [
       "<IPython.core.display.Latex object>"
      ]
     },
     "execution_count": 10,
     "metadata": {},
     "output_type": "execute_result"
    }
   ],
   "source": [
    "from qiskit_algorithms import NumPyMinimumEigensolver\n",
    "solver2 = NumPyMinimumEigensolver()\n",
    "result2 = solver2.compute_minimum_eigenvalue(operator)\n",
    "print(result2)\n",
    "result2.eigenstate.draw(output='latex', prefix='Estado de mínima energía=')"
   ]
  },
  {
   "cell_type": "code",
   "execution_count": 18,
   "metadata": {},
   "outputs": [
    {
     "name": "stdout",
     "output_type": "stream",
     "text": [
      "El valor esperado para el estado |010> es: (-3+0j)\n"
     ]
    }
   ],
   "source": [
    "print(\"El valor esperado para el estado |010> es:\", result2.eigenstate.expectation_value(operator))"
   ]
  }
 ],
 "metadata": {
  "kernelspec": {
   "display_name": ".venv",
   "language": "python",
   "name": "python3"
  },
  "language_info": {
   "codemirror_mode": {
    "name": "ipython",
    "version": 3
   },
   "file_extension": ".py",
   "mimetype": "text/x-python",
   "name": "python",
   "nbconvert_exporter": "python",
   "pygments_lexer": "ipython3",
   "version": "3.10.12"
  }
 },
 "nbformat": 4,
 "nbformat_minor": 2
}
