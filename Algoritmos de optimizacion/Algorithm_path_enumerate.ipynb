{
 "cells": [
  {
   "cell_type": "code",
   "execution_count": 1,
   "metadata": {},
   "outputs": [
    {
     "name": "stdout",
     "output_type": "stream",
     "text": [
      "Minimum cost permutation: (1, 2, 3)\n",
      "Minimum cost: 7.63441361516796\n"
     ]
    }
   ],
   "source": [
    "import itertools\n",
    "\n",
    "def calculate_distance_matrix(points):\n",
    "    \"\"\" Calculates the distance matrix for a set of points in the plane.\n",
    "    points: list of tuples (x, y) representing coordinates of the points.\n",
    "    Returns a matrix of distances.\n",
    "    \"\"\"\n",
    "    n = len(points)\n",
    "    distance_matrix = [[0] * n for _ in range(n)]\n",
    "    for i in range(n):\n",
    "        for j in range(n):\n",
    "            distance_matrix[i][j] = ((points[i][0] - points[j][0]) ** 2 + (points[i][1] - points[j][1]) ** 2) ** 0.5\n",
    "    return distance_matrix\n",
    "\n",
    "def path_cost(permutation, distance_matrix):\n",
    "    \"\"\" Calculates the cost of a given permutation.\n",
    "    permutation: list representing a permutation of indices.\n",
    "    distance_matrix: matrix of distances between points.\n",
    "    Returns the total cost of the permutation.\n",
    "    \"\"\"\n",
    "    cost = 0\n",
    "    n = len(permutation)\n",
    "    for i in range(n):\n",
    "        cost += distance_matrix[permutation[i] - 1][permutation[(i + 1) % n] - 1]\n",
    "    return cost\n",
    "\n",
    "def lexicographic_permutations(n):\n",
    "    \"\"\" Generates all lexicographic permutations of n elements.\n",
    "    n: number of elements to permute.\n",
    "    Returns a generator of permutations.\n",
    "    \"\"\"\n",
    "    return itertools.permutations(range(1, n + 1))\n",
    "\n",
    "def find_minimum_cost_permutation(points):\n",
    "    \"\"\" Finds the permutation with the minimum path cost.\n",
    "    points: list of tuples (x, y) representing coordinates of the points.\n",
    "    Returns the permutation with the minimum cost and its cost.\n",
    "    \"\"\"\n",
    "    distance_matrix = calculate_distance_matrix(points)\n",
    "    n = len(points)\n",
    "    min_cost = float('inf')\n",
    "    min_permutation = None\n",
    "    \n",
    "    for permutation in lexicographic_permutations(n):\n",
    "        cost = path_cost(permutation, distance_matrix)\n",
    "        if cost < min_cost:\n",
    "            min_cost = cost\n",
    "            min_permutation = permutation\n",
    "            \n",
    "    return min_permutation, min_cost\n",
    "\n",
    "# Example usage with three points\n",
    "points = [(0, 0), (1, 2), (3, 1)]\n",
    "min_permutation, min_cost = find_minimum_cost_permutation(points)\n",
    "print(f\"Minimum cost permutation: {min_permutation}\")\n",
    "print(f\"Minimum cost: {min_cost}\")"
   ]
  }
 ],
 "metadata": {
  "kernelspec": {
   "display_name": ".venv",
   "language": "python",
   "name": "python3"
  },
  "language_info": {
   "codemirror_mode": {
    "name": "ipython",
    "version": 3
   },
   "file_extension": ".py",
   "mimetype": "text/x-python",
   "name": "python",
   "nbconvert_exporter": "python",
   "pygments_lexer": "ipython3",
   "version": "3.10.12"
  }
 },
 "nbformat": 4,
 "nbformat_minor": 2
}
