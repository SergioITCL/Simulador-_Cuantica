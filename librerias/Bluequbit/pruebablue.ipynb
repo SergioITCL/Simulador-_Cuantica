{
 "cells": [
  {
   "cell_type": "code",
   "execution_count": 2,
   "metadata": {},
   "outputs": [
    {
     "name": "stderr",
     "output_type": "stream",
     "text": [
      "BQ-PYTHON-SDK - WARNING - Beta version 0.8.3b1 of BlueQubit Python SDK is being used.\n"
     ]
    },
    {
     "ename": "NameError",
     "evalue": "name 'qiskit_circuit' is not defined",
     "output_type": "error",
     "traceback": [
      "\u001b[0;31m---------------------------------------------------------------------------\u001b[0m",
      "\u001b[0;31mNameError\u001b[0m                                 Traceback (most recent call last)",
      "Cell \u001b[0;32mIn[2], line 7\u001b[0m\n\u001b[1;32m      5\u001b[0m Api\u001b[38;5;241m=\u001b[39m\u001b[38;5;124m\"\u001b[39m\u001b[38;5;124mdcosSEXSMcErEUTPZMG0NCJsfa7E5ebN\u001b[39m\u001b[38;5;124m\"\u001b[39m\n\u001b[1;32m      6\u001b[0m bq \u001b[38;5;241m=\u001b[39m bluequbit\u001b[38;5;241m.\u001b[39minit(Api)\n\u001b[0;32m----> 7\u001b[0m result \u001b[38;5;241m=\u001b[39m bq\u001b[38;5;241m.\u001b[39mrun(\u001b[43mqiskit_circuit\u001b[49m, device\u001b[38;5;241m=\u001b[39m\u001b[38;5;124m'\u001b[39m\u001b[38;5;124mcpu\u001b[39m\u001b[38;5;124m'\u001b[39m) \u001b[38;5;66;03m# device can also be 'cpu' or 'quantum'\u001b[39;00m\n",
      "\u001b[0;31mNameError\u001b[0m: name 'qiskit_circuit' is not defined"
     ]
    }
   ],
   "source": [
    "import bluequbit\n",
    "...\n",
    "# building the qiskit_circuit\n",
    "...\n",
    "Api=\"dcosSEXSMcErEUTPZMG0NCJsfa7E5ebN\"\n",
    "bq = bluequbit.init(Api)\n",
    "result = bq.run(qiskit_circuit, device='cpu') # device can also be 'cpu' or 'quantum'"
   ]
  },
  {
   "cell_type": "code",
   "execution_count": 3,
   "metadata": {},
   "outputs": [
    {
     "name": "stderr",
     "output_type": "stream",
     "text": [
      "BQ-PYTHON-SDK - WARNING - Beta version 0.8.3b1 of BlueQubit Python SDK is being used.\n"
     ]
    },
    {
     "ename": "BQJobNotCompleteError",
     "evalue": "Job J5Os2WvhsOPJPWGA finished with status: FAILED_VALIDATION. FAILED_VALIDATION. Quantum device is offline currently, please try in time frame 08:00:00 - 10:00:00 UTC on Mon-Wed or 13:00:00 - 15:00:00 UTC on Thu-Fri, OR use bq.run() with asynchronous=True",
     "output_type": "error",
     "traceback": [
      "\u001b[0;31m---------------------------------------------------------------------------\u001b[0m",
      "\u001b[0;31mBQJobNotCompleteError\u001b[0m                     Traceback (most recent call last)",
      "Cell \u001b[0;32mIn[3], line 12\u001b[0m\n\u001b[1;32m      9\u001b[0m qc_qiskit\u001b[38;5;241m.\u001b[39mmeasure_all()\n\u001b[1;32m     11\u001b[0m bq \u001b[38;5;241m=\u001b[39m bluequbit\u001b[38;5;241m.\u001b[39minit(Api)\n\u001b[0;32m---> 12\u001b[0m result \u001b[38;5;241m=\u001b[39m \u001b[43mbq\u001b[49m\u001b[38;5;241;43m.\u001b[39;49m\u001b[43mrun\u001b[49m\u001b[43m(\u001b[49m\u001b[43mqc_qiskit\u001b[49m\u001b[43m,\u001b[49m\u001b[43m \u001b[49m\u001b[43mdevice\u001b[49m\u001b[38;5;241;43m=\u001b[39;49m\u001b[38;5;124;43m'\u001b[39;49m\u001b[38;5;124;43mquantum\u001b[39;49m\u001b[38;5;124;43m'\u001b[39;49m\u001b[43m)\u001b[49m \u001b[38;5;66;03m# <-- Quantum Magic\u001b[39;00m\n\u001b[1;32m     13\u001b[0m \u001b[38;5;28mprint\u001b[39m(result\u001b[38;5;241m.\u001b[39mget_counts())\n",
      "File \u001b[0;32m~/.local/lib/python3.10/site-packages/bluequbit/bluequbit_client.py:227\u001b[0m, in \u001b[0;36mBQClient.run\u001b[0;34m(self, circuits, device, asynchronous, job_name, shots, pauli_sum)\u001b[0m\n\u001b[1;32m    222\u001b[0m submitted_job \u001b[38;5;241m=\u001b[39m JobResult(response, \u001b[38;5;28mself\u001b[39m\u001b[38;5;241m.\u001b[39m_backend_connection)\n\u001b[1;32m    223\u001b[0m \u001b[38;5;28;01mif\u001b[39;00m (\n\u001b[1;32m    224\u001b[0m     submitted_job\u001b[38;5;241m.\u001b[39mrun_status\n\u001b[1;32m    225\u001b[0m     \u001b[38;5;129;01min\u001b[39;00m job_metadata_constants\u001b[38;5;241m.\u001b[39mJOB_NO_RESULT_TERMINAL_STATES\n\u001b[1;32m    226\u001b[0m ):\n\u001b[0;32m--> 227\u001b[0m     \u001b[38;5;28;01mraise\u001b[39;00m BQJobNotCompleteError(\n\u001b[1;32m    228\u001b[0m         submitted_job\u001b[38;5;241m.\u001b[39mjob_id,\n\u001b[1;32m    229\u001b[0m         submitted_job\u001b[38;5;241m.\u001b[39mrun_status,\n\u001b[1;32m    230\u001b[0m         submitted_job\u001b[38;5;241m.\u001b[39merror_message,\n\u001b[1;32m    231\u001b[0m     )\n\u001b[1;32m    232\u001b[0m logger\u001b[38;5;241m.\u001b[39minfo(\u001b[38;5;124m\"\u001b[39m\u001b[38;5;124mSubmitted: \u001b[39m\u001b[38;5;132;01m%s\u001b[39;00m\u001b[38;5;124m\"\u001b[39m, submitted_job)\n\u001b[1;32m    233\u001b[0m \u001b[38;5;28;01mif\u001b[39;00m (\n\u001b[1;32m    234\u001b[0m     \u001b[38;5;129;01mnot\u001b[39;00m asynchronous\n\u001b[1;32m    235\u001b[0m     \u001b[38;5;129;01mand\u001b[39;00m submitted_job\u001b[38;5;241m.\u001b[39mrun_status\n\u001b[1;32m    236\u001b[0m     \u001b[38;5;129;01mnot\u001b[39;00m \u001b[38;5;129;01min\u001b[39;00m job_metadata_constants\u001b[38;5;241m.\u001b[39mJOB_TERMINAL_STATES\n\u001b[1;32m    237\u001b[0m ):\n",
      "\u001b[0;31mBQJobNotCompleteError\u001b[0m: Job J5Os2WvhsOPJPWGA finished with status: FAILED_VALIDATION. FAILED_VALIDATION. Quantum device is offline currently, please try in time frame 08:00:00 - 10:00:00 UTC on Mon-Wed or 13:00:00 - 15:00:00 UTC on Thu-Fri, OR use bq.run() with asynchronous=True"
     ]
    }
   ],
   "source": [
    "import bluequbit\n",
    "from qiskit import QuantumCircuit\n",
    "\n",
    "qc_qiskit = QuantumCircuit(4)\n",
    "qc_qiskit.h(0)\n",
    "qc_qiskit.h(1)\n",
    "qc_qiskit.h(2)\n",
    "qc_qiskit.h(3)\n",
    "qc_qiskit.measure_all()\n",
    "\n",
    "bq = bluequbit.init(Api)\n",
    "result = bq.run(qc_qiskit, device='quantum') # <-- Quantum Magic\n",
    "print(result.get_counts())"
   ]
  }
 ],
 "metadata": {
  "kernelspec": {
   "display_name": ".venv",
   "language": "python",
   "name": "python3"
  },
  "language_info": {
   "codemirror_mode": {
    "name": "ipython",
    "version": 3
   },
   "file_extension": ".py",
   "mimetype": "text/x-python",
   "name": "python",
   "nbconvert_exporter": "python",
   "pygments_lexer": "ipython3",
   "version": "3.10.12"
  }
 },
 "nbformat": 4,
 "nbformat_minor": 2
}
