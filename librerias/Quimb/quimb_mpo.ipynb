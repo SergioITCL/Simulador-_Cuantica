{
 "cells": [
  {
   "cell_type": "code",
   "execution_count": 5,
   "metadata": {},
   "outputs": [],
   "source": [
    "%config InlineBackend.figure_formats = ['svg']\n",
    "import quimb as qu\n",
    "import quimb.tensor as qtn"
   ]
  },
  {
   "cell_type": "code",
   "execution_count": 9,
   "metadata": {},
   "outputs": [
    {
     "name": "stdout",
     "output_type": "stream",
     "text": [
      "(array([[[ 1. ,  0. ],\n",
      "        [ 0. ,  1. ]],\n",
      "\n",
      "       [[ 0.5,  0. ],\n",
      "        [ 0. , -0.5]],\n",
      "\n",
      "       [[ 0. ,  0. ],\n",
      "        [ 0. ,  0. ]]]),)\n"
     ]
    }
   ],
   "source": [
    "op = SparsePauliOp.from_list(\n",
    "    [\n",
    "        (\"IZZ\", 3/4),\n",
    "        (\"IZI\", 1/4),\n",
    "        (\"ZZI\", -1),\n",
    "        (\"IIZ\", -3/4),\n",
    "    ]\n",
    ")\n",
    "\n",
    "ham = qtn.MPO_ham_ising(L=1)\n",
    "print(ham.arrays)"
   ]
  }
 ],
 "metadata": {
  "kernelspec": {
   "display_name": "Python 3",
   "language": "python",
   "name": "python3"
  },
  "language_info": {
   "codemirror_mode": {
    "name": "ipython",
    "version": 3
   },
   "file_extension": ".py",
   "mimetype": "text/x-python",
   "name": "python",
   "nbconvert_exporter": "python",
   "pygments_lexer": "ipython3",
   "version": "3.10.12"
  }
 },
 "nbformat": 4,
 "nbformat_minor": 2
}
