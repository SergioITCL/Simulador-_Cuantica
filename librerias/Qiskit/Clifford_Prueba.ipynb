{
 "cells": [
  {
   "cell_type": "code",
   "execution_count": 1,
   "metadata": {},
   "outputs": [],
   "source": [
    "from qiskit.quantum_info import Clifford"
   ]
  },
  {
   "cell_type": "code",
   "execution_count": 2,
   "metadata": {},
   "outputs": [
    {
     "ename": "NameError",
     "evalue": "name 'QuantumCircuit' is not defined",
     "output_type": "error",
     "traceback": [
      "\u001b[0;31m---------------------------------------------------------------------------\u001b[0m",
      "\u001b[0;31mNameError\u001b[0m                                 Traceback (most recent call last)",
      "Cell \u001b[0;32mIn[2], line 2\u001b[0m\n\u001b[1;32m      1\u001b[0m \u001b[38;5;66;03m# Create a Quantum Circuit with 1 CX gate\u001b[39;00m\n\u001b[0;32m----> 2\u001b[0m qc \u001b[38;5;241m=\u001b[39m \u001b[43mQuantumCircuit\u001b[49m(\u001b[38;5;241m2\u001b[39m)\n\u001b[1;32m      3\u001b[0m qc\u001b[38;5;241m.\u001b[39mcx(\u001b[38;5;241m0\u001b[39m, \u001b[38;5;241m1\u001b[39m)\n\u001b[1;32m      4\u001b[0m \u001b[38;5;66;03m# Generate a Clifford element from the circuit\u001b[39;00m\n",
      "\u001b[0;31mNameError\u001b[0m: name 'QuantumCircuit' is not defined"
     ]
    }
   ],
   "source": [
    "# Create a Quantum Circuit with 1 CX gate\n",
    "qc = QuantumCircuit(2)\n",
    "qc.cx(0, 1)\n",
    "# Generate a Clifford element from the circuit\n",
    "cliff = Clifford(qc)\n",
    "# Print the Clifford\n",
    "print(cliff)"
   ]
  },
  {
   "cell_type": "code",
   "execution_count": 3,
   "metadata": {},
   "outputs": [
    {
     "name": "stdout",
     "output_type": "stream",
     "text": [
      "Clifford: Stabilizer = ['+IZ', '+ZZ'], Destabilizer = ['+XX', '+XI']\n",
      "['+XX', '+XI']\n",
      "['+IZ', '+ZZ']\n"
     ]
    }
   ],
   "source": [
    "from qiskit import QuantumCircuit\n",
    "from qiskit.quantum_info import Clifford\n",
    " \n",
    "# Bell state generation circuit\n",
    "qc = QuantumCircuit(2)\n",
    "\n",
    "qc.cx(0, 1)\n",
    "cliff = Clifford(qc)\n",
    " \n",
    "# Print the Clifford\n",
    "print(cliff)\n",
    " \n",
    "# Print the Clifford destabilizer rows\n",
    "print(cliff.to_labels(mode=\"D\"))\n",
    " \n",
    "# Print the Clifford stabilizer rows\n",
    "print(cliff.to_labels(mode=\"S\"))"
   ]
  },
  {
   "cell_type": "code",
   "execution_count": 5,
   "metadata": {},
   "outputs": [
    {
     "name": "stdout",
     "output_type": "stream",
     "text": [
      "Clifford: Stabilizer = ['+IZ', '+ZZ'], Destabilizer = ['+XX', '+XI']\n"
     ]
    }
   ],
   "source": [
    "from qiskit.circuit.library import CXGate\n",
    "cliff = Clifford(CXGate())\n",
    "print(cliff)"
   ]
  },
  {
   "cell_type": "code",
   "execution_count": 6,
   "metadata": {},
   "outputs": [
    {
     "ename": "AttributeError",
     "evalue": "'Clifford' object has no attribute 'table'",
     "output_type": "error",
     "traceback": [
      "\u001b[0;31m---------------------------------------------------------------------------\u001b[0m",
      "\u001b[0;31mAttributeError\u001b[0m                            Traceback (most recent call last)",
      "Cell \u001b[0;32mIn[6], line 2\u001b[0m\n\u001b[1;32m      1\u001b[0m \u001b[38;5;66;03m# Print the binary matrix\u001b[39;00m\n\u001b[0;32m----> 2\u001b[0m \u001b[38;5;28mprint\u001b[39m(\u001b[43mcliff\u001b[49m\u001b[38;5;241;43m.\u001b[39;49m\u001b[43mtable\u001b[49m\u001b[38;5;241m.\u001b[39marray)\n\u001b[1;32m      3\u001b[0m \u001b[38;5;66;03m# Print the phase vector\u001b[39;00m\n\u001b[1;32m      4\u001b[0m \u001b[38;5;28mprint\u001b[39m(cliff\u001b[38;5;241m.\u001b[39mtable\u001b[38;5;241m.\u001b[39mphase)\n",
      "\u001b[0;31mAttributeError\u001b[0m: 'Clifford' object has no attribute 'table'"
     ]
    }
   ],
   "source": [
    "# Print the binary matrix\n",
    "print(cliff.table.array)\n",
    "# Print the phase vector\n",
    "print(cliff.table.phase)"
   ]
  },
  {
   "cell_type": "code",
   "execution_count": 2,
   "metadata": {},
   "outputs": [
    {
     "ename": "KeyboardInterrupt",
     "evalue": "",
     "output_type": "error",
     "traceback": [
      "\u001b[0;31m---------------------------------------------------------------------------\u001b[0m",
      "\u001b[0;31mKeyboardInterrupt\u001b[0m                         Traceback (most recent call last)",
      "Cell \u001b[0;32mIn[2], line 13\u001b[0m\n\u001b[1;32m     10\u001b[0m shots\u001b[38;5;241m=\u001b[39m\u001b[38;5;241m100\u001b[39m\n\u001b[1;32m     11\u001b[0m \u001b[38;5;66;03m# Get the sample counts of each outcome for the GHZ state using \u001b[39;00m\n\u001b[1;32m     12\u001b[0m \u001b[38;5;66;03m# the StabilizerState simulator\u001b[39;00m\n\u001b[0;32m---> 13\u001b[0m counts \u001b[38;5;241m=\u001b[39m \u001b[43mStabilizerState\u001b[49m\u001b[43m(\u001b[49m\u001b[43mqc\u001b[49m\u001b[43m)\u001b[49m\u001b[38;5;241;43m.\u001b[39;49m\u001b[43msample_counts\u001b[49m\u001b[43m(\u001b[49m\u001b[43mshots\u001b[49m\u001b[43m)\u001b[49m\n\u001b[1;32m     14\u001b[0m \u001b[38;5;66;03m# Get the probabilities of each outcome for the GHZ state using \u001b[39;00m\n\u001b[1;32m     15\u001b[0m \u001b[38;5;66;03m# the StabilizerState simulator\u001b[39;00m\n\u001b[1;32m     16\u001b[0m prob \u001b[38;5;241m=\u001b[39m StabilizerState(qc)\u001b[38;5;241m.\u001b[39mprobabilities_dict(decimals\u001b[38;5;241m=\u001b[39m\u001b[38;5;241m2\u001b[39m)\n",
      "File \u001b[0;32m~/.local/lib/python3.10/site-packages/qiskit/quantum_info/states/quantum_state.py:300\u001b[0m, in \u001b[0;36mQuantumState.sample_counts\u001b[0;34m(self, shots, qargs)\u001b[0m\n\u001b[1;32m    278\u001b[0m \u001b[38;5;124;03m\"\"\"Sample a dict of qubit measurement outcomes in the computational basis.\u001b[39;00m\n\u001b[1;32m    279\u001b[0m \n\u001b[1;32m    280\u001b[0m \u001b[38;5;124;03mArgs:\u001b[39;00m\n\u001b[0;32m   (...)\u001b[0m\n\u001b[1;32m    297\u001b[0m \u001b[38;5;124;03m    set to a fixed value by using the stats :meth:`seed` method.\u001b[39;00m\n\u001b[1;32m    298\u001b[0m \u001b[38;5;124;03m\"\"\"\u001b[39;00m\n\u001b[1;32m    299\u001b[0m \u001b[38;5;66;03m# Sample list of outcomes\u001b[39;00m\n\u001b[0;32m--> 300\u001b[0m samples \u001b[38;5;241m=\u001b[39m \u001b[38;5;28;43mself\u001b[39;49m\u001b[38;5;241;43m.\u001b[39;49m\u001b[43msample_memory\u001b[49m\u001b[43m(\u001b[49m\u001b[43mshots\u001b[49m\u001b[43m,\u001b[49m\u001b[43m \u001b[49m\u001b[43mqargs\u001b[49m\u001b[38;5;241;43m=\u001b[39;49m\u001b[43mqargs\u001b[49m\u001b[43m)\u001b[49m\n\u001b[1;32m    302\u001b[0m \u001b[38;5;66;03m# Combine all samples into a counts dictionary\u001b[39;00m\n\u001b[1;32m    303\u001b[0m inds, counts \u001b[38;5;241m=\u001b[39m np\u001b[38;5;241m.\u001b[39munique(samples, return_counts\u001b[38;5;241m=\u001b[39m\u001b[38;5;28;01mTrue\u001b[39;00m)\n",
      "File \u001b[0;32m~/.local/lib/python3.10/site-packages/qiskit/quantum_info/states/stabilizerstate.py:539\u001b[0m, in \u001b[0;36mStabilizerState.sample_memory\u001b[0;34m(self, shots, qargs)\u001b[0m\n\u001b[1;32m    536\u001b[0m \u001b[38;5;28;01mfor\u001b[39;00m _ \u001b[38;5;129;01min\u001b[39;00m \u001b[38;5;28mrange\u001b[39m(shots):\n\u001b[1;32m    537\u001b[0m     \u001b[38;5;66;03m# copy the StabilizerState since measure updates it\u001b[39;00m\n\u001b[1;32m    538\u001b[0m     stab \u001b[38;5;241m=\u001b[39m \u001b[38;5;28mself\u001b[39m\u001b[38;5;241m.\u001b[39mcopy()\n\u001b[0;32m--> 539\u001b[0m     memory\u001b[38;5;241m.\u001b[39mappend(\u001b[43mstab\u001b[49m\u001b[38;5;241;43m.\u001b[39;49m\u001b[43mmeasure\u001b[49m\u001b[43m(\u001b[49m\u001b[43mqargs\u001b[49m\u001b[43m)\u001b[49m[\u001b[38;5;241m0\u001b[39m])\n\u001b[1;32m    540\u001b[0m \u001b[38;5;28;01mreturn\u001b[39;00m memory\n",
      "File \u001b[0;32m~/.local/lib/python3.10/site-packages/qiskit/quantum_info/states/stabilizerstate.py:512\u001b[0m, in \u001b[0;36mStabilizerState.measure\u001b[0;34m(self, qargs)\u001b[0m\n\u001b[1;32m    510\u001b[0m outcome \u001b[38;5;241m=\u001b[39m \u001b[38;5;124m\"\u001b[39m\u001b[38;5;124m\"\u001b[39m\n\u001b[1;32m    511\u001b[0m \u001b[38;5;28;01mfor\u001b[39;00m bit, qubit \u001b[38;5;129;01min\u001b[39;00m \u001b[38;5;28menumerate\u001b[39m(qargs):\n\u001b[0;32m--> 512\u001b[0m     outcome \u001b[38;5;241m=\u001b[39m \u001b[38;5;28mstr\u001b[39m(\u001b[43mret\u001b[49m\u001b[38;5;241;43m.\u001b[39;49m\u001b[43m_measure_and_update\u001b[49m\u001b[43m(\u001b[49m\u001b[43mqubit\u001b[49m\u001b[43m,\u001b[49m\u001b[43m \u001b[49m\u001b[43mrandbits\u001b[49m\u001b[43m[\u001b[49m\u001b[43mbit\u001b[49m\u001b[43m]\u001b[49m\u001b[43m)\u001b[49m) \u001b[38;5;241m+\u001b[39m outcome\n\u001b[1;32m    514\u001b[0m \u001b[38;5;28;01mreturn\u001b[39;00m outcome, ret\n",
      "File \u001b[0;32m~/.local/lib/python3.10/site-packages/qiskit/quantum_info/states/stabilizerstate.py:570\u001b[0m, in \u001b[0;36mStabilizerState._measure_and_update\u001b[0;34m(self, qubit, randbit)\u001b[0m\n\u001b[1;32m    568\u001b[0m \u001b[38;5;28;01mfor\u001b[39;00m i \u001b[38;5;129;01min\u001b[39;00m \u001b[38;5;28mrange\u001b[39m(num_qubits):\n\u001b[1;32m    569\u001b[0m     \u001b[38;5;28;01mif\u001b[39;00m clifford\u001b[38;5;241m.\u001b[39mx[i][qubit]:\n\u001b[0;32m--> 570\u001b[0m         aux_pauli \u001b[38;5;241m=\u001b[39m \u001b[38;5;28;43mself\u001b[39;49m\u001b[38;5;241;43m.\u001b[39;49m\u001b[43m_rowsum_deterministic\u001b[49m\u001b[43m(\u001b[49m\u001b[43mclifford\u001b[49m\u001b[43m,\u001b[49m\u001b[43m \u001b[49m\u001b[43maux_pauli\u001b[49m\u001b[43m,\u001b[49m\u001b[43m \u001b[49m\u001b[43mi\u001b[49m\u001b[43m \u001b[49m\u001b[38;5;241;43m+\u001b[39;49m\u001b[43m \u001b[49m\u001b[43mnum_qubits\u001b[49m\u001b[43m)\u001b[49m\n\u001b[1;32m    571\u001b[0m outcome \u001b[38;5;241m=\u001b[39m aux_pauli\u001b[38;5;241m.\u001b[39mphase\n\u001b[1;32m    572\u001b[0m \u001b[38;5;28;01mreturn\u001b[39;00m outcome\n",
      "File \u001b[0;32m~/.local/lib/python3.10/site-packages/qiskit/quantum_info/states/stabilizerstate.py:659\u001b[0m, in \u001b[0;36mStabilizerState._rowsum_deterministic\u001b[0;34m(clifford, aux_pauli, row)\u001b[0m\n\u001b[1;32m    656\u001b[0m accum_pauli \u001b[38;5;241m=\u001b[39m aux_pauli\n\u001b[1;32m    657\u001b[0m row_pauli \u001b[38;5;241m=\u001b[39m Pauli((clifford\u001b[38;5;241m.\u001b[39mz[row], clifford\u001b[38;5;241m.\u001b[39mx[row]))\n\u001b[0;32m--> 659\u001b[0m accum_pauli, accum_phase \u001b[38;5;241m=\u001b[39m \u001b[43mStabilizerState\u001b[49m\u001b[38;5;241;43m.\u001b[39;49m\u001b[43m_rowsum\u001b[49m\u001b[43m(\u001b[49m\n\u001b[1;32m    660\u001b[0m \u001b[43m    \u001b[49m\u001b[43maccum_pauli\u001b[49m\u001b[43m,\u001b[49m\u001b[43m \u001b[49m\u001b[43maccum_phase\u001b[49m\u001b[43m,\u001b[49m\u001b[43m \u001b[49m\u001b[43mrow_pauli\u001b[49m\u001b[43m,\u001b[49m\u001b[43m \u001b[49m\u001b[43mrow_phase\u001b[49m\n\u001b[1;32m    661\u001b[0m \u001b[43m\u001b[49m\u001b[43m)\u001b[49m\n\u001b[1;32m    663\u001b[0m aux_pauli \u001b[38;5;241m=\u001b[39m accum_pauli\n\u001b[1;32m    664\u001b[0m aux_pauli\u001b[38;5;241m.\u001b[39mphase \u001b[38;5;241m=\u001b[39m accum_phase\n",
      "File \u001b[0;32m~/.local/lib/python3.10/site-packages/qiskit/quantum_info/states/stabilizerstate.py:614\u001b[0m, in \u001b[0;36mStabilizerState._rowsum\u001b[0;34m(accum_pauli, accum_phase, row_pauli, row_phase)\u001b[0m\n\u001b[1;32m    610\u001b[0m newr \u001b[38;5;241m=\u001b[39m \u001b[38;5;241m2\u001b[39m \u001b[38;5;241m*\u001b[39m row_phase \u001b[38;5;241m+\u001b[39m \u001b[38;5;241m2\u001b[39m \u001b[38;5;241m*\u001b[39m accum_phase\n\u001b[1;32m    612\u001b[0m \u001b[38;5;28;01mfor\u001b[39;00m qubit \u001b[38;5;129;01min\u001b[39;00m \u001b[38;5;28mrange\u001b[39m(row_pauli\u001b[38;5;241m.\u001b[39mnum_qubits):\n\u001b[1;32m    613\u001b[0m     newr \u001b[38;5;241m+\u001b[39m\u001b[38;5;241m=\u001b[39m StabilizerState\u001b[38;5;241m.\u001b[39m_phase_exponent(\n\u001b[0;32m--> 614\u001b[0m         row_pauli\u001b[38;5;241m.\u001b[39mx[qubit], row_pauli\u001b[38;5;241m.\u001b[39mz[qubit], \u001b[43maccum_pauli\u001b[49m\u001b[38;5;241;43m.\u001b[39;49m\u001b[43mx\u001b[49m[qubit], accum_pauli\u001b[38;5;241m.\u001b[39mz[qubit]\n\u001b[1;32m    615\u001b[0m     )\n\u001b[1;32m    616\u001b[0m newr \u001b[38;5;241m%\u001b[39m\u001b[38;5;241m=\u001b[39m \u001b[38;5;241m4\u001b[39m\n\u001b[1;32m    617\u001b[0m \u001b[38;5;28;01mif\u001b[39;00m (newr \u001b[38;5;241m!=\u001b[39m \u001b[38;5;241m0\u001b[39m) \u001b[38;5;241m&\u001b[39m (newr \u001b[38;5;241m!=\u001b[39m \u001b[38;5;241m2\u001b[39m):\n",
      "File \u001b[0;32m~/.local/lib/python3.10/site-packages/qiskit/quantum_info/operators/symplectic/pauli.py:287\u001b[0m, in \u001b[0;36mPauli.x\u001b[0;34m(self)\u001b[0m\n\u001b[1;32m    282\u001b[0m \u001b[38;5;129m@phase\u001b[39m\u001b[38;5;241m.\u001b[39msetter\n\u001b[1;32m    283\u001b[0m \u001b[38;5;28;01mdef\u001b[39;00m \u001b[38;5;21mphase\u001b[39m(\u001b[38;5;28mself\u001b[39m, value):\n\u001b[1;32m    284\u001b[0m     \u001b[38;5;66;03m# Convert group phase convention to internal ZX-phase convention\u001b[39;00m\n\u001b[1;32m    285\u001b[0m     \u001b[38;5;28mself\u001b[39m\u001b[38;5;241m.\u001b[39m_phase[:] \u001b[38;5;241m=\u001b[39m np\u001b[38;5;241m.\u001b[39mmod(value \u001b[38;5;241m+\u001b[39m \u001b[38;5;28mself\u001b[39m\u001b[38;5;241m.\u001b[39m_count_y(dtype\u001b[38;5;241m=\u001b[39m\u001b[38;5;28mself\u001b[39m\u001b[38;5;241m.\u001b[39m_phase\u001b[38;5;241m.\u001b[39mdtype), \u001b[38;5;241m4\u001b[39m)\n\u001b[0;32m--> 287\u001b[0m \u001b[38;5;129m@property\u001b[39m\n\u001b[1;32m    288\u001b[0m \u001b[38;5;28;01mdef\u001b[39;00m \u001b[38;5;21mx\u001b[39m(\u001b[38;5;28mself\u001b[39m):\n\u001b[1;32m    289\u001b[0m     \u001b[38;5;124;03m\"\"\"The x vector for the Pauli.\"\"\"\u001b[39;00m\n\u001b[1;32m    290\u001b[0m     \u001b[38;5;28;01mreturn\u001b[39;00m \u001b[38;5;28mself\u001b[39m\u001b[38;5;241m.\u001b[39m_x[\u001b[38;5;241m0\u001b[39m]\n",
      "\u001b[0;31mKeyboardInterrupt\u001b[0m: "
     ]
    }
   ],
   "source": [
    "from qiskit.quantum_info import StabilizerState\n",
    "\n",
    "# Prepare the GHZ state\n",
    "nq = 100\n",
    "qc = QuantumCircuit(nq)\n",
    "qc.h(0)\n",
    "for i in range(1, nq):\n",
    "    qc.cx(0, i)\n",
    "# Define the number of shots\n",
    "shots=100\n",
    "# Get the sample counts of each outcome for the GHZ state using \n",
    "# the StabilizerState simulator\n",
    "counts = StabilizerState(qc).sample_counts(shots)\n",
    "# Get the probabilities of each outcome for the GHZ state using \n",
    "# the StabilizerState simulator\n",
    "prob = StabilizerState(qc).probabilities_dict(decimals=2)\n",
    "# Print the outcomes\n",
    "print (\"GHZ state outcome counts:\", counts)\n",
    "print (\"GHZ state outcome probabilities:\", prob)"
   ]
  },
  {
   "cell_type": "code",
   "execution_count": 5,
   "metadata": {},
   "outputs": [
    {
     "data": {
      "text/plain": [
       "{'00000000000000000000000000000000000000000000000000000000000000000000000000000000000000000000000000000000000000000000000000000000000000000000000000000000000000000000000000000000000000000000000000000000000000000000000000000000000000000000000000000000000000000000000000000000000000000000000000000000000000000000000000000000000000000000000000000000000000000000000000000000000000000000000000000000000000000000000000000000000000000000000000000000000000000000000000000000000000000000000000000000000000000000000000000000000000000000000000000000000000000000000000000000000000000000000000000000000000000000000000000000000000000000000000000000000000000000000000000000000000000000000000000000000000000000000000000000000000000000000000000000000000000000000000000000000000000000000000000000000000000000000000000000000000000000000000000000000000000000000000000000000000000000000000000000000000000000000000000000000000000000000000000000000000000000000000000000000000000000000000000000000000000000000000000000000000000000000000000000000000000000000000000000000000000000000000000000000000000000000000000000000000000000000000000000000000000000000000000000000000000000000000000000000000000000000000000000000000000000000000000000000000000000000000000000000000000000000000000000000000000000000000000000000000000000000000000000000000000000000000000000000000000000000000000000000000000000000000000000000000000000000000000000000000000000000000000000000000000000000000000000000000000000000000000000000000000000000000000000000000000000000000000000000000000000000000000000000000000000000000000000000000000000000000000000000000000000000000000000000000000000000000000000000000000000000000000000000000000000000000000000000000000000000000000000000000000000000000000000000000000000000000000000000000000000000000000000000000000000000000000000000000000000000000000000000000000000000000000000000000000000000000000000000000000000000000000000000000000000000000000000000000000000000000000000000000000000000000000000000000000000000000000000': 526,\n",
       " '11111111111111111111111111111111111111111111111111111111111111111111111111111111111111111111111111111111111111111111111111111111111111111111111111111111111111111111111111111111111111111111111111111111111111111111111111111111111111111111111111111111111111111111111111111111111111111111111111111111111111111111111111111111111111111111111111111111111111111111111111111111111111111111111111111111111111111111111111111111111111111111111111111111111111111111111111111111111111111111111111111111111111111111111111111111111111111111111111111111111111111111111111111111111111111111111111111111111111111111111111111111111111111111111111111111111111111111111111111111111111111111111111111111111111111111111111111111111111111111111111111111111111111111111111111111111111111111111111111111111111111111111111111111111111111111111111111111111111111111111111111111111111111111111111111111111111111111111111111111111111111111111111111111111111111111111111111111111111111111111111111111111111111111111111111111111111111111111111111111111111111111111111111111111111111111111111111111111111111111111111111111111111111111111111111111111111111111111111111111111111111111111111111111111111111111111111111111111111111111111111111111111111111111111111111111111111111111111111111111111111111111111111111111111111111111111111111111111111111111111111111111111111111111111111111111111111111111111111111111111111111111111111111111111111111111111111111111111111111111111111111111111111111111111111111111111111111111111111111111111111111111111111111111111111111111111111111111111111111111111111111111111111111111111111111111111111111111111111111111111111111111111111111111111111111111111111111111111111111111111111111111111111111111111111111111111111111111111111111111111111111111111111111111111111111111111111111111111111111111111111111111111111111111111111111111111111111111111111111111111111111111111111111111111111111111111111111111111111111111111111111111111111111111111111111111111111111111111111111111111111111111111111111111': 498}"
      ]
     },
     "execution_count": 5,
     "metadata": {},
     "output_type": "execute_result"
    }
   ],
   "source": [
    "# Import the AerSimulator\n",
    "from qiskit_aer import AerSimulator\n",
    "# Measure the GHZ circuit from earlier\n",
    "nq = 2000\n",
    "qc = QuantumCircuit(nq)\n",
    "qc.h(0)\n",
    "for i in range(1, nq):\n",
    "    qc.cx(0, i)\n",
    "qc.measure_all()\n",
    "# Prepare the simulator (method=stabilizer is optional, for clifford circuits \n",
    "# it will be used automatically if no other method is provided\n",
    "simulator = AerSimulator(method='stabilizer')\n",
    "# Run the Simulator using our GHZ circuit from earlier\n",
    "result = simulator.run(qc).result()\n",
    "# Get the counts for \n",
    "# each possible outcome\n",
    "result.get_counts(0)"
   ]
  },
  {
   "cell_type": "code",
   "execution_count": 1,
   "metadata": {},
   "outputs": [
    {
     "name": "stdout",
     "output_type": "stream",
     "text": [
      "StabilizerState(['+XX', '+ZZ'])\n"
     ]
    }
   ],
   "source": [
    "\n",
    "from qiskit import QuantumCircuit\n",
    "from qiskit.quantum_info import StabilizerState, Pauli\n",
    "\n",
    "# Bell state generation circuit\n",
    "qc = QuantumCircuit(2)\n",
    "qc.h(0)\n",
    "qc.cx(0,1)\n",
    "\n",
    "stab = StabilizerState(qc)\n",
    "\n",
    "# Print the StabilizerState\n",
    "print(stab)\n"
   ]
  },
  {
   "cell_type": "code",
   "execution_count": 16,
   "metadata": {},
   "outputs": [
    {
     "data": {
      "text/plain": [
       "{'000': 477, '111': 547}"
      ]
     },
     "execution_count": 16,
     "metadata": {},
     "output_type": "execute_result"
    }
   ],
   "source": [
    "from qiskit_aer import AerSimulator\n",
    "# Measure the GHZ circuit from earlier\n",
    "nq = 2\n",
    "qc = QuantumCircuit(nq)\n",
    "qc.h(0)\n",
    "qc.cx(0,1)\n",
    "\n",
    "qc.measure_all()\n",
    "# Prepare the simulator (method=stabilizer is optional, for clifford circuits \n",
    "# it will be used automatically if no other method is provided\n",
    "simulator = AerSimulator(method='stabilizer')\n",
    "# Run the Simulator using our GHZ circuit from earlier\n",
    "result = simulator.run(qc).result()\n",
    "# Get the counts for \n",
    "# each possible outcome\n",
    "result.get_counts(0)"
   ]
  }
 ],
 "metadata": {
  "kernelspec": {
   "display_name": "Python 3",
   "language": "python",
   "name": "python3"
  },
  "language_info": {
   "codemirror_mode": {
    "name": "ipython",
    "version": 3
   },
   "file_extension": ".py",
   "mimetype": "text/x-python",
   "name": "python",
   "nbconvert_exporter": "python",
   "pygments_lexer": "ipython3",
   "version": "3.10.12"
  }
 },
 "nbformat": 4,
 "nbformat_minor": 2
}
