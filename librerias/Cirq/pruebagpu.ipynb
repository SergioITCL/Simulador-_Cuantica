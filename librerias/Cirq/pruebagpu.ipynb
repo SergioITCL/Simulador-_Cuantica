{
 "cells": [
  {
   "cell_type": "code",
   "execution_count": 5,
   "metadata": {},
   "outputs": [
    {
     "ename": "ValueError",
     "evalue": "GPU execution requested, but not supported. If your device has GPU support, you may need to compile qsim locally.",
     "output_type": "error",
     "traceback": [
      "\u001b[0;31m---------------------------------------------------------------------------\u001b[0m",
      "\u001b[0;31mValueError\u001b[0m                                Traceback (most recent call last)",
      "Cell \u001b[0;32mIn[5], line 21\u001b[0m\n\u001b[1;32m     19\u001b[0m now\u001b[38;5;241m=\u001b[39mtime()\n\u001b[1;32m     20\u001b[0m qsim_options \u001b[38;5;241m=\u001b[39m qsimcirq\u001b[38;5;241m.\u001b[39mQSimOptions(use_gpu\u001b[38;5;241m=\u001b[39m\u001b[38;5;28;01mTrue\u001b[39;00m)\n\u001b[0;32m---> 21\u001b[0m my_sim \u001b[38;5;241m=\u001b[39m \u001b[43mqsimcirq\u001b[49m\u001b[38;5;241;43m.\u001b[39;49m\u001b[43mQSimSimulator\u001b[49m\u001b[43m(\u001b[49m\u001b[43mqsim_options\u001b[49m\u001b[43m)\u001b[49m\n\u001b[1;32m     23\u001b[0m \u001b[38;5;66;03m# Execute the circuit\u001b[39;00m\n\u001b[1;32m     24\u001b[0m result \u001b[38;5;241m=\u001b[39m my_sim\u001b[38;5;241m.\u001b[39mrun(cirq_circuit,repetitions\u001b[38;5;241m=\u001b[39m\u001b[38;5;241m1\u001b[39m)\n",
      "File \u001b[0;32m~/.local/lib/python3.10/site-packages/qsimcirq/qsim_simulator.py:176\u001b[0m, in \u001b[0;36mQSimSimulator.__init__\u001b[0;34m(self, qsim_options, seed, noise, circuit_memoization_size)\u001b[0m\n\u001b[1;32m    174\u001b[0m \u001b[38;5;28;01mif\u001b[39;00m \u001b[38;5;28mself\u001b[39m\u001b[38;5;241m.\u001b[39mqsim_options[\u001b[38;5;124m\"\u001b[39m\u001b[38;5;124mgmode\u001b[39m\u001b[38;5;124m\"\u001b[39m] \u001b[38;5;241m==\u001b[39m \u001b[38;5;241m0\u001b[39m:\n\u001b[1;32m    175\u001b[0m     \u001b[38;5;28;01mif\u001b[39;00m qsim_gpu \u001b[38;5;129;01mis\u001b[39;00m \u001b[38;5;28;01mNone\u001b[39;00m:\n\u001b[0;32m--> 176\u001b[0m         \u001b[38;5;28;01mraise\u001b[39;00m \u001b[38;5;167;01mValueError\u001b[39;00m(\n\u001b[1;32m    177\u001b[0m             \u001b[38;5;124m\"\u001b[39m\u001b[38;5;124mGPU execution requested, but not supported. If your \u001b[39m\u001b[38;5;124m\"\u001b[39m\n\u001b[1;32m    178\u001b[0m             \u001b[38;5;124m\"\u001b[39m\u001b[38;5;124mdevice has GPU support, you may need to compile qsim \u001b[39m\u001b[38;5;124m\"\u001b[39m\n\u001b[1;32m    179\u001b[0m             \u001b[38;5;124m\"\u001b[39m\u001b[38;5;124mlocally.\u001b[39m\u001b[38;5;124m\"\u001b[39m\n\u001b[1;32m    180\u001b[0m         )\n\u001b[1;32m    181\u001b[0m     \u001b[38;5;28;01melse\u001b[39;00m:\n\u001b[1;32m    182\u001b[0m         \u001b[38;5;28mself\u001b[39m\u001b[38;5;241m.\u001b[39m_sim_module \u001b[38;5;241m=\u001b[39m qsim_gpu\n",
      "\u001b[0;31mValueError\u001b[0m: GPU execution requested, but not supported. If your device has GPU support, you may need to compile qsim locally."
     ]
    }
   ],
   "source": [
    "import cirq\n",
    "import qsimcirq\n",
    "import sys\n",
    "import resource\n",
    "from time import time\n",
    "from cirq.contrib.qasm_import import circuit_from_qasm\n",
    "\n",
    "# Load QASM file\n",
    "qasm_file_path = \"20q600g.qasm\"\n",
    "with open(qasm_file_path, \"r\") as qasm_file:\n",
    "    qasm_content = qasm_file.read()\n",
    "\n",
    "# Convert QASM to Cirq circuit\n",
    "cirq_circuit = circuit_from_qasm(qasm_content)\n",
    "qubits = cirq_circuit.all_qubits()\n",
    "for qubit in qubits:\n",
    "    cirq_circuit.append(cirq.measure(qubit))\n",
    "# Print the Cirq circuit\n",
    "now=time()\n",
    "qsim_options = qsimcirq.QSimOptions(use_gpu=True)\n",
    "my_sim = qsimcirq.QSimSimulator(qsim_options)\n",
    "\n",
    "# Execute the circuit\n",
    "result = my_sim.run(cirq_circuit,repetitions=1)\n",
    "\n",
    "# Print the results\n",
    "print(time()-now)\n",
    "print(\"\\nResults:\")\n",
    "print(result)"
   ]
  },
  {
   "cell_type": "code",
   "execution_count": 10,
   "metadata": {},
   "outputs": [
    {
     "ename": "ValueError",
     "evalue": "GPU execution requested, but not supported. If your device has GPU support, you may need to compile qsim locally.",
     "output_type": "error",
     "traceback": [
      "\u001b[0;31m---------------------------------------------------------------------------\u001b[0m",
      "\u001b[0;31mValueError\u001b[0m                                Traceback (most recent call last)",
      "Cell \u001b[0;32mIn[10], line 14\u001b[0m\n\u001b[1;32m      6\u001b[0m circuit \u001b[38;5;241m=\u001b[39m cirq\u001b[38;5;241m.\u001b[39mCircuit(\n\u001b[1;32m      7\u001b[0m     cirq\u001b[38;5;241m.\u001b[39mH(qubits[\u001b[38;5;241m0\u001b[39m]),             \u001b[38;5;66;03m# Apply Hadamard gate\u001b[39;00m\n\u001b[1;32m      8\u001b[0m     cirq\u001b[38;5;241m.\u001b[39mCX(qubits[\u001b[38;5;241m0\u001b[39m], qubits[\u001b[38;5;241m1\u001b[39m]), \u001b[38;5;66;03m# Apply CNOT gate\u001b[39;00m\n\u001b[1;32m      9\u001b[0m     cirq\u001b[38;5;241m.\u001b[39mCX(qubits[\u001b[38;5;241m1\u001b[39m], qubits[\u001b[38;5;241m2\u001b[39m]), \u001b[38;5;66;03m# Apply CNOT gate\u001b[39;00m\n\u001b[1;32m     10\u001b[0m     cirq\u001b[38;5;241m.\u001b[39mmeasure(\u001b[38;5;241m*\u001b[39mqubits)          \u001b[38;5;66;03m# Measure all qubits\u001b[39;00m\n\u001b[1;32m     11\u001b[0m )\n\u001b[1;32m     13\u001b[0m \u001b[38;5;66;03m# Set up qsim simulator with GPU support\u001b[39;00m\n\u001b[0;32m---> 14\u001b[0m qsim_simulator \u001b[38;5;241m=\u001b[39m \u001b[43mqsimcirq\u001b[49m\u001b[38;5;241;43m.\u001b[39;49m\u001b[43mQSimSimulator\u001b[49m\u001b[43m(\u001b[49m\u001b[43mqsim_options\u001b[49m\u001b[38;5;241;43m=\u001b[39;49m\u001b[43m{\u001b[49m\u001b[38;5;124;43m'\u001b[39;49m\u001b[38;5;124;43mt\u001b[39;49m\u001b[38;5;124;43m'\u001b[39;49m\u001b[43m:\u001b[49m\u001b[43m \u001b[49m\u001b[38;5;241;43m1\u001b[39;49m\u001b[43m,\u001b[49m\u001b[43m \u001b[49m\u001b[38;5;124;43m'\u001b[39;49m\u001b[38;5;124;43mg\u001b[39;49m\u001b[38;5;124;43m'\u001b[39;49m\u001b[43m:\u001b[49m\u001b[43m \u001b[49m\u001b[38;5;28;43;01mTrue\u001b[39;49;00m\u001b[43m}\u001b[49m\u001b[43m)\u001b[49m\n\u001b[1;32m     16\u001b[0m \u001b[38;5;66;03m# Simulate the circuit\u001b[39;00m\n\u001b[1;32m     17\u001b[0m result \u001b[38;5;241m=\u001b[39m qsim_simulator\u001b[38;5;241m.\u001b[39mrun(circuit, repetitions\u001b[38;5;241m=\u001b[39m\u001b[38;5;241m1000\u001b[39m)\n",
      "File \u001b[0;32m~/.local/lib/python3.10/site-packages/qsimcirq/qsim_simulator.py:176\u001b[0m, in \u001b[0;36mQSimSimulator.__init__\u001b[0;34m(self, qsim_options, seed, noise, circuit_memoization_size)\u001b[0m\n\u001b[1;32m    174\u001b[0m \u001b[38;5;28;01mif\u001b[39;00m \u001b[38;5;28mself\u001b[39m\u001b[38;5;241m.\u001b[39mqsim_options[\u001b[38;5;124m\"\u001b[39m\u001b[38;5;124mgmode\u001b[39m\u001b[38;5;124m\"\u001b[39m] \u001b[38;5;241m==\u001b[39m \u001b[38;5;241m0\u001b[39m:\n\u001b[1;32m    175\u001b[0m     \u001b[38;5;28;01mif\u001b[39;00m qsim_gpu \u001b[38;5;129;01mis\u001b[39;00m \u001b[38;5;28;01mNone\u001b[39;00m:\n\u001b[0;32m--> 176\u001b[0m         \u001b[38;5;28;01mraise\u001b[39;00m \u001b[38;5;167;01mValueError\u001b[39;00m(\n\u001b[1;32m    177\u001b[0m             \u001b[38;5;124m\"\u001b[39m\u001b[38;5;124mGPU execution requested, but not supported. If your \u001b[39m\u001b[38;5;124m\"\u001b[39m\n\u001b[1;32m    178\u001b[0m             \u001b[38;5;124m\"\u001b[39m\u001b[38;5;124mdevice has GPU support, you may need to compile qsim \u001b[39m\u001b[38;5;124m\"\u001b[39m\n\u001b[1;32m    179\u001b[0m             \u001b[38;5;124m\"\u001b[39m\u001b[38;5;124mlocally.\u001b[39m\u001b[38;5;124m\"\u001b[39m\n\u001b[1;32m    180\u001b[0m         )\n\u001b[1;32m    181\u001b[0m     \u001b[38;5;28;01melse\u001b[39;00m:\n\u001b[1;32m    182\u001b[0m         \u001b[38;5;28mself\u001b[39m\u001b[38;5;241m.\u001b[39m_sim_module \u001b[38;5;241m=\u001b[39m qsim_gpu\n",
      "\u001b[0;31mValueError\u001b[0m: GPU execution requested, but not supported. If your device has GPU support, you may need to compile qsim locally."
     ]
    }
   ],
   "source": [
    "import cirq\n",
    "import qsimcirq\n",
    "\n",
    "# Create a simple quantum circuit\n",
    "qubits = cirq.LineQubit.range(3)\n",
    "circuit = cirq.Circuit(\n",
    "    cirq.H(qubits[0]),             # Apply Hadamard gate\n",
    "    cirq.CX(qubits[0], qubits[1]), # Apply CNOT gate\n",
    "    cirq.CX(qubits[1], qubits[2]), # Apply CNOT gate\n",
    "    cirq.measure(*qubits)          # Measure all qubits\n",
    ")\n",
    "\n",
    "# Set up qsim simulator with GPU support\n",
    "qsim_simulator = qsimcirq.QSimSimulator(qsim_options={'t': 1, 'g': True})\n",
    "\n",
    "# Simulate the circuit\n",
    "result = qsim_simulator.run(circuit, repetitions=1000)\n",
    "\n",
    "# Print the results\n",
    "print(\"Results:\")\n",
    "print(result)"
   ]
  },
  {
   "cell_type": "code",
   "execution_count": 8,
   "metadata": {},
   "outputs": [
    {
     "name": "stdout",
     "output_type": "stream",
     "text": [
      "Circuito:\n",
      "0: ───H───@───────M───\n",
      "          │       │\n",
      "1: ───────X───@───M───\n",
      "              │   │\n",
      "2: ───────────X───M───\n",
      "\n",
      "Resultados:\n",
      "q(0),q(1),q(2)=0100100101101100011111011000110001001001111011010000111000000110101010100011111100000011000111000110111110001100000001111101001111011011111001110010111110001110001100101000100101110110101010100001101110010110001111000010101101010000010001101000011011001011101000010111010111000100111100100101110011100100000001001111110101010011100110010000100000011000111110000010110010110100111111100000101011100100011110000001010001001010010001000000011101111001100111111111010110110110101100001111011011101000000001110010111101101010011100010101011001100110110110100101110111101101100011111011101011010010001101111100110010001000111010101101110010111111011001011101011011000000011001110001001101101011011000011011110100111001011100001101010010011101000100111110000000101100010101110111100010011100101000111101010110100000010011110000101101000111011000111100111000101101001010101010100011011011101111111001111001101111110011011110100110111110110100111110011011011110001010100010000010101010000100011101000010010111, 0100100101101100011111011000110001001001111011010000111000000110101010100011111100000011000111000110111110001100000001111101001111011011111001110010111110001110001100101000100101110110101010100001101110010110001111000010101101010000010001101000011011001011101000010111010111000100111100100101110011100100000001001111110101010011100110010000100000011000111110000010110010110100111111100000101011100100011110000001010001001010010001000000011101111001100111111111010110110110101100001111011011101000000001110010111101101010011100010101011001100110110110100101110111101101100011111011101011010010001101111100110010001000111010101101110010111111011001011101011011000000011001110001001101101011011000011011110100111001011100001101010010011101000100111110000000101100010101110111100010011100101000111101010110100000010011110000101101000111011000111100111000101101001010101010100011011011101111111001111001101111110011011110100110111110110100111110011011011110001010100010000010101010000100011101000010010111, 0100100101101100011111011000110001001001111011010000111000000110101010100011111100000011000111000110111110001100000001111101001111011011111001110010111110001110001100101000100101110110101010100001101110010110001111000010101101010000010001101000011011001011101000010111010111000100111100100101110011100100000001001111110101010011100110010000100000011000111110000010110010110100111111100000101011100100011110000001010001001010010001000000011101111001100111111111010110110110101100001111011011101000000001110010111101101010011100010101011001100110110110100101110111101101100011111011101011010010001101111100110010001000111010101101110010111111011001011101011011000000011001110001001101101011011000011011110100111001011100001101010010011101000100111110000000101100010101110111100010011100101000111101010110100000010011110000101101000111011000111100111000101101001010101010100011011011101111111001111001101111110011011110100110111110110100111110011011011110001010100010000010101010000100011101000010010111\n"
     ]
    }
   ],
   "source": [
    "import cirq\n",
    "\n",
    "# Crear tres qubits\n",
    "qubits = cirq.LineQubit.range(3)\n",
    "\n",
    "# Crear un circuito cuántico\n",
    "circuit = cirq.Circuit(\n",
    "    cirq.H(qubits[0]),             # Aplicar una puerta Hadamard al primer qubit\n",
    "    cirq.CX(qubits[0], qubits[1]), # Aplicar una puerta CNOT entre el primer y el segundo qubit\n",
    "    cirq.CX(qubits[1], qubits[2]), # Aplicar una puerta CNOT entre el segundo y el tercer qubit\n",
    "    cirq.measure(*qubits)          # Medir todos los qubits\n",
    ")\n",
    "\n",
    "# Imprimir el circuito\n",
    "print(\"Circuito:\")\n",
    "print(circuit)\n",
    "\n",
    "# Configurar el simulador\n",
    "simulator = cirq.Simulator()\n",
    "\n",
    "# Ejecutar la simulación\n",
    "result = simulator.run(circuit, repetitions=1000)\n",
    "\n",
    "# Imprimir los resultados\n",
    "print(\"\\nResultados:\")\n",
    "print(result)\n"
   ]
  }
 ],
 "metadata": {
  "kernelspec": {
   "display_name": "Python 3",
   "language": "python",
   "name": "python3"
  },
  "language_info": {
   "codemirror_mode": {
    "name": "ipython",
    "version": 3
   },
   "file_extension": ".py",
   "mimetype": "text/x-python",
   "name": "python",
   "nbconvert_exporter": "python",
   "pygments_lexer": "ipython3",
   "version": "3.10.12"
  }
 },
 "nbformat": 4,
 "nbformat_minor": 2
}
