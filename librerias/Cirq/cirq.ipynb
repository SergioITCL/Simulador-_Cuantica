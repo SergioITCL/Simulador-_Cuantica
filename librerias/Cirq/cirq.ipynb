{
 "cells": [
  {
   "cell_type": "code",
   "execution_count": 1,
   "metadata": {},
   "outputs": [
    {
     "name": "stdout",
     "output_type": "stream",
     "text": [
      "\n",
      "\u001b[1m[\u001b[0m\u001b[34;49mnotice\u001b[0m\u001b[1;39;49m]\u001b[0m\u001b[39;49m A new release of pip is available: \u001b[0m\u001b[31;49m24.0\u001b[0m\u001b[39;49m -> \u001b[0m\u001b[32;49m24.1\u001b[0m\n",
      "\u001b[1m[\u001b[0m\u001b[34;49mnotice\u001b[0m\u001b[1;39;49m]\u001b[0m\u001b[39;49m To update, run: \u001b[0m\u001b[32;49mpip install --upgrade pip\u001b[0m\n"
     ]
    }
   ],
   "source": [
    "try:\n",
    "    import cirq\n",
    "except ImportError:\n",
    "    !pip install cirq --quiet\n",
    "    import cirq\n",
    "\n",
    "try:\n",
    "    import qsimcirq\n",
    "except ImportError:\n",
    "    !pip install qsimcirq --quiet\n",
    "    import qsimcirq"
   ]
  },
  {
   "cell_type": "code",
   "execution_count": 2,
   "metadata": {},
   "outputs": [
    {
     "name": "stdout",
     "output_type": "stream",
     "text": [
      "Circuit:\n",
      "0: ───H───@───\n",
      "          │\n",
      "1: ───────X───\n",
      "\n",
      "Cirq results:\n",
      "measurements: (no measurements)\n",
      "\n",
      "qubits: (cirq.LineQubit(0), cirq.LineQubit(1))\n",
      "output vector: 0.707|00⟩ + 0.707|11⟩\n",
      "\n",
      "phase:\n",
      "output vector: |⟩\n",
      "\n",
      "qsim results:\n",
      "measurements: (no measurements)\n",
      "\n",
      "qubits: (cirq.LineQubit(0), cirq.LineQubit(1))\n",
      "output vector: 0.707|00⟩ + 0.707|11⟩\n"
     ]
    }
   ],
   "source": [
    "# Define qubits and a short circuit.\n",
    "q0, q1 = cirq.LineQubit.range(2)\n",
    "circuit = cirq.Circuit(cirq.H(q0), cirq.CX(q0, q1))\n",
    "print(\"Circuit:\")\n",
    "print(circuit)\n",
    "print()\n",
    "\n",
    "# Simulate the circuit with Cirq and return the full state vector.\n",
    "print('Cirq results:')\n",
    "cirq_simulator = cirq.Simulator()\n",
    "cirq_results = cirq_simulator.simulate(circuit)\n",
    "print(cirq_results)\n",
    "print()\n",
    "\n",
    "# Simulate the circuit with qsim and return the full state vector.\n",
    "print('qsim results:')\n",
    "qsim_simulator = qsimcirq.QSimSimulator()\n",
    "qsim_results = qsim_simulator.simulate(circuit)\n",
    "print(qsim_results)"
   ]
  },
  {
   "cell_type": "code",
   "execution_count": 3,
   "metadata": {},
   "outputs": [
    {
     "name": "stdout",
     "output_type": "stream",
     "text": [
      "Best permutation: [1, 2, 3]\n",
      "Minimum cost: 45\n"
     ]
    }
   ],
   "source": [
    "import numpy as np\n",
    "\n",
    "def path_enumeration_algorithm(dist_matrix):\n",
    "    n = len(dist_matrix)  # Number of points\n",
    "\n",
    "    # Initial permutation and best permutation\n",
    "    pi = list(range(1, n+1))\n",
    "    pi_star = list(range(1, n+1))\n",
    "\n",
    "    def calculate_cost(perm):\n",
    "        return sum(dist_matrix[perm[i] - 1][perm[i + 1] - 1] for i in range(n - 1))\n",
    "\n",
    "    # Initial cost\n",
    "    cost_pi_star = calculate_cost(pi_star)\n",
    "\n",
    "    i = n - 1\n",
    "\n",
    "    while i > 0:\n",
    "        k_candidates = set(range(pi[i] + 1, n + 2)) - set(pi[:i])\n",
    "        if k_candidates:\n",
    "            k = min(k_candidates)\n",
    "        else:\n",
    "            k = n + 1\n",
    "\n",
    "        if k <= n:\n",
    "            pi[i] = k\n",
    "\n",
    "            if i == n - 1:\n",
    "                current_cost = calculate_cost(pi)\n",
    "                if current_cost < cost_pi_star:\n",
    "                    pi_star = pi[:]\n",
    "                    cost_pi_star = current_cost\n",
    "\n",
    "            if i < n - 1:\n",
    "                pi[i + 1] = 0\n",
    "                i += 1\n",
    "        else:\n",
    "            i -= 1\n",
    "\n",
    "    return pi_star, cost_pi_star\n",
    "\n",
    "# Example usage\n",
    "dist_matrix = [\n",
    "    [0, 10, 15],\n",
    "    [10, 0, 35],\n",
    "    [15, 35, 0]\n",
    "]\n",
    "\n",
    "best_permutation, min_cost = path_enumeration_algorithm(dist_matrix)\n",
    "print(f\"Best permutation: {best_permutation}\")\n",
    "print(f\"Minimum cost: {min_cost}\")"
   ]
  }
 ],
 "metadata": {
  "kernelspec": {
   "display_name": ".venv",
   "language": "python",
   "name": "python3"
  },
  "language_info": {
   "codemirror_mode": {
    "name": "ipython",
    "version": 3
   },
   "file_extension": ".py",
   "mimetype": "text/x-python",
   "name": "python",
   "nbconvert_exporter": "python",
   "pygments_lexer": "ipython3",
   "version": "3.10.12"
  }
 },
 "nbformat": 4,
 "nbformat_minor": 2
}
