{
 "cells": [
  {
   "cell_type": "code",
   "execution_count": 2,
   "metadata": {},
   "outputs": [],
   "source": [
    "##### Lets initialize some tensors in Python/Numpy\n",
    "import numpy as np\n",
    "# tensor with randomly generated entries, order 3, dims: 2-by-3-by-4\n",
    "A = np.random.rand(2,3,4)\n",
    "\n",
    "# identity matrix, order 2, dims: 5-by-5 \n",
    "B = np.eye(5,5)\n",
    "\n",
    "# tensor of 1's, order 4, dims: 2-by-4-by-2-by-4\n",
    "C = np.ones((2,4,2,4))\n",
    "\n",
    "# matrix of 0's, order 2, dims: 3-by-5\n",
    "D = np.zeros((3,5))\n",
    "\n",
    "# initialize complex random tensor\n",
    "E = np.random.rand(2,3,4) + 1j*np.random.rand(2,3,4)"
   ]
  },
  {
   "cell_type": "code",
   "execution_count": 5,
   "metadata": {},
   "outputs": [
    {
     "name": "stderr",
     "output_type": "stream",
     "text": [
      "/home/sergio/.local/lib/python3.10/site-packages/cotengra/hyperoptimizers/hyper.py:33: UserWarning: Couldn't import `kahypar` - skipping from default hyper optimizer and using basic `labels` method instead.\n",
      "  warnings.warn(\n"
     ]
    }
   ],
   "source": [
    "import quimb"
   ]
  }
 ],
 "metadata": {
  "kernelspec": {
   "display_name": "Python 3",
   "language": "python",
   "name": "python3"
  },
  "language_info": {
   "codemirror_mode": {
    "name": "ipython",
    "version": 3
   },
   "file_extension": ".py",
   "mimetype": "text/x-python",
   "name": "python",
   "nbconvert_exporter": "python",
   "pygments_lexer": "ipython3",
   "version": "3.10.12"
  }
 },
 "nbformat": 4,
 "nbformat_minor": 2
}
